{
 "cells": [
  {
   "cell_type": "markdown",
   "metadata": {},
   "source": [
    "[メモ]\n",
    "- Portfolioの考え方については論文”The value of forecasts_energyfinance”を参照 <p>\n",
    " -->ただし、日本の場合はそもそもマーケットの組み合わせによるポートフォリオを組めない<p>\n",
    " -->SpotとIntraの組み合わせ比率であれば考えられる\n",
    "- Trading戦略については、論文\"Trading Techniques for European Electricity Markets\"を参照"
   ]
  },
  {
   "cell_type": "markdown",
   "metadata": {},
   "source": [
    "前提 (買い手と売り手の戦略について)\n",
    "- TraderはPrice-takerであり、Priceに影響を与えないこと\n",
    "- Spotのオークション戦略は無視 (入札決定後の価格を用いて評価する)\n",
    "- 価格予測なしでの戦略と価格予測有りでの戦略の違いを明確に分け、パフォーマンスを評価する\n",
    "- 使用するデータはSpot（System/Tokyo/Tohokuのどれか）, Close Price\n",
    "- 売買数量については設定できないため、価格の差分のみでリターンとリスクを評価する\n",
    "- 板情報が入手できないのでアイスバーグ方式は無視(https://www.emsc.meti.go.jp/activity/emsc_system/pdf/051_06_00.pdf P.8)\n",
    "- 全ての注文は約定できるものと仮定する (インバランスでのペナルティは考慮しない)\n",
    "\n",
    "評価は、[予測なし]をベンチマークとして[予測有り]のパフォーマンスと比較 <p>\n",
    "--> Sharp-ratioとVaRを価格リターンから計測する"
   ]
  },
  {
   "cell_type": "markdown",
   "metadata": {},
   "source": [
    "# Read the dataset"
   ]
  },
  {
   "cell_type": "code",
   "execution_count": 1,
   "metadata": {},
   "outputs": [],
   "source": [
    "# Import modules\n",
    "import pandas as pd\n",
    "import matplotlib.pyplot as plt #描画ライブラリ\n",
    "import seaborn as sns\n",
    "import numpy as np\n",
    "import warnings\n",
    "warnings.filterwarnings('ignore')\n",
    "%matplotlib inline\n",
    "# import pathlib\n",
    "# import glob\n",
    "# import math\n",
    "\n",
    "# # Show all the rows and columns up to 200\n",
    "# pd.set_option('display.max_columns', 200)\n",
    "# pd.set_option('display.max_rows', 200)"
   ]
  },
  {
   "cell_type": "code",
   "execution_count": 2,
   "metadata": {},
   "outputs": [],
   "source": [
    "#Spot_dataset\n",
    "df_prediction = pd.read_csv('/Users/kenotsu/Documents/master_thesis/Datasets/Master_thesis/df_prediction.csv', sep=',', header=0)"
   ]
  },
  {
   "cell_type": "code",
   "execution_count": 3,
   "metadata": {},
   "outputs": [
    {
     "data": {
      "text/html": [
       "<div>\n",
       "<style scoped>\n",
       "    .dataframe tbody tr th:only-of-type {\n",
       "        vertical-align: middle;\n",
       "    }\n",
       "\n",
       "    .dataframe tbody tr th {\n",
       "        vertical-align: top;\n",
       "    }\n",
       "\n",
       "    .dataframe thead th {\n",
       "        text-align: right;\n",
       "    }\n",
       "</style>\n",
       "<table border=\"1\" class=\"dataframe\">\n",
       "  <thead>\n",
       "    <tr style=\"text-align: right;\">\n",
       "      <th></th>\n",
       "      <th>Date</th>\n",
       "      <th>HH</th>\n",
       "      <th>date_block_num</th>\n",
       "      <th>Open</th>\n",
       "      <th>High</th>\n",
       "      <th>Low</th>\n",
       "      <th>Close</th>\n",
       "      <th>Spot</th>\n",
       "      <th>DateTime</th>\n",
       "      <th>Close_pred</th>\n",
       "    </tr>\n",
       "  </thead>\n",
       "  <tbody>\n",
       "    <tr>\n",
       "      <th>0</th>\n",
       "      <td>2016-04-01</td>\n",
       "      <td>1</td>\n",
       "      <td>1</td>\n",
       "      <td>7.69</td>\n",
       "      <td>7.69</td>\n",
       "      <td>7.69</td>\n",
       "      <td>7.69</td>\n",
       "      <td>6.61</td>\n",
       "      <td>2016-04-01 00:00:00</td>\n",
       "      <td>5.49</td>\n",
       "    </tr>\n",
       "    <tr>\n",
       "      <th>1</th>\n",
       "      <td>2016-04-01</td>\n",
       "      <td>2</td>\n",
       "      <td>1</td>\n",
       "      <td>7.45</td>\n",
       "      <td>7.45</td>\n",
       "      <td>7.45</td>\n",
       "      <td>7.45</td>\n",
       "      <td>6.34</td>\n",
       "      <td>2016-04-01 00:30:00</td>\n",
       "      <td>5.29</td>\n",
       "    </tr>\n",
       "    <tr>\n",
       "      <th>2</th>\n",
       "      <td>2016-04-01</td>\n",
       "      <td>3</td>\n",
       "      <td>1</td>\n",
       "      <td>7.21</td>\n",
       "      <td>7.21</td>\n",
       "      <td>7.21</td>\n",
       "      <td>7.21</td>\n",
       "      <td>6.34</td>\n",
       "      <td>2016-04-01 01:00:00</td>\n",
       "      <td>5.27</td>\n",
       "    </tr>\n",
       "    <tr>\n",
       "      <th>3</th>\n",
       "      <td>2016-04-01</td>\n",
       "      <td>4</td>\n",
       "      <td>1</td>\n",
       "      <td>7.06</td>\n",
       "      <td>7.06</td>\n",
       "      <td>7.06</td>\n",
       "      <td>7.06</td>\n",
       "      <td>6.25</td>\n",
       "      <td>2016-04-01 01:30:00</td>\n",
       "      <td>5.16</td>\n",
       "    </tr>\n",
       "    <tr>\n",
       "      <th>4</th>\n",
       "      <td>2016-04-01</td>\n",
       "      <td>5</td>\n",
       "      <td>1</td>\n",
       "      <td>7.21</td>\n",
       "      <td>7.21</td>\n",
       "      <td>7.21</td>\n",
       "      <td>7.21</td>\n",
       "      <td>6.57</td>\n",
       "      <td>2016-04-01 02:00:00</td>\n",
       "      <td>5.48</td>\n",
       "    </tr>\n",
       "  </tbody>\n",
       "</table>\n",
       "</div>"
      ],
      "text/plain": [
       "         Date  HH  date_block_num  Open  High   Low  Close  Spot  \\\n",
       "0  2016-04-01   1               1  7.69  7.69  7.69   7.69  6.61   \n",
       "1  2016-04-01   2               1  7.45  7.45  7.45   7.45  6.34   \n",
       "2  2016-04-01   3               1  7.21  7.21  7.21   7.21  6.34   \n",
       "3  2016-04-01   4               1  7.06  7.06  7.06   7.06  6.25   \n",
       "4  2016-04-01   5               1  7.21  7.21  7.21   7.21  6.57   \n",
       "\n",
       "              DateTime  Close_pred  \n",
       "0  2016-04-01 00:00:00        5.49  \n",
       "1  2016-04-01 00:30:00        5.29  \n",
       "2  2016-04-01 01:00:00        5.27  \n",
       "3  2016-04-01 01:30:00        5.16  \n",
       "4  2016-04-01 02:00:00        5.48  "
      ]
     },
     "execution_count": 3,
     "metadata": {},
     "output_type": "execute_result"
    }
   ],
   "source": [
    "df_prediction.head()"
   ]
  },
  {
   "cell_type": "markdown",
   "metadata": {},
   "source": [
    "# For Seller"
   ]
  },
  {
   "cell_type": "markdown",
   "metadata": {},
   "source": [
    "トレーディング戦略(売り手: 発電事業者)\n",
    "[予測なし]\n",
    "- 100%Spotでの売買を優先 (Spot入札成功率を変えて感度分析)\n",
    "       -->SpotとIntraのWeightを１００％〜10%で設定する\n",
    "- 入札漏れは\n",
    "    -->Closeで成行\n",
    "    -->Spotの1%, 5%, 10%で指値後、約定しなければCloseで成行\n",
    "\n",
    "[予測有り]\n",
    "- Spot価格とIntra予測価格の有利な方で売却 (Spot入札率を変えて感度分析)\n",
    "- 入札漏れは\n",
    "    -->予測価格の1%, 5%, 10%で指値後、約定しなければCloseで成行\n",
    "    \n",
    "※約定の条件はAsk price < High price"
   ]
  },
  {
   "cell_type": "markdown",
   "metadata": {},
   "source": [
    "## Required dataset"
   ]
  },
  {
   "cell_type": "markdown",
   "metadata": {},
   "source": [
    "[現在のデータ]\n",
    "Spot\n",
    "Close_pred\n",
    "\n",
    "[未来のデータ]\n",
    "Close"
   ]
  },
  {
   "cell_type": "markdown",
   "metadata": {},
   "source": [
    "### Benchmark"
   ]
  },
  {
   "cell_type": "code",
   "execution_count": 4,
   "metadata": {},
   "outputs": [],
   "source": [
    "# Set higher price for ask order on benchmark\n",
    "df_seller_bench = df_prediction.copy()\n",
    "\n",
    "# Drop Close_pred on benchmark\n",
    "df_seller_bench = df_seller_bench.drop(\"Close_pred\", axis=1)\n",
    "\n",
    "# Make Order columns on benchmark\n",
    "High_list = list(df_seller_bench[\"High\"])\n",
    "Close_list = list(df_seller_bench[\"Close\"])\n",
    "# Judge_success = []\n",
    "\n",
    "# 0%から20%くらいで一旦様子見 (分析次第)\n",
    "for i in list(range(0, 21, 1)):\n",
    "# Make Execution columns on benchmark\n",
    "    Execution_i = []\n",
    "    Judge_i = []\n",
    "    Order_list_i = list((df_seller_bench[\"Spot\"]* (1 + i/100)).round(2))\n",
    "    for o, h, c  in zip(Order_list_i, High_list, Close_list):\n",
    "        if o <= h:\n",
    "            Execution_i.append(o)\n",
    "            Judge_i.append(\"True\")\n",
    "        else:\n",
    "            Execution_i.append(c)\n",
    "            Judge_i.append(\"False\")\n",
    "    df_seller_bench[\"Exec_\" + str(i) + \"%\"] = pd.Series(Execution_i)\n",
    "    df_seller_bench[\"Judge_\" + str(i) + \"%\"] = pd.Series(Judge_i)\n",
    "\n",
    "#     Judge_success.append((df_seller_bench[\"Judge_\" + str(i) + \"%\"] == 'True').sum())\n",
    "# #For graph\n",
    "# Judge_success = pd.Series(Judge_success)"
   ]
  },
  {
   "cell_type": "markdown",
   "metadata": {},
   "source": [
    "### Strategy"
   ]
  },
  {
   "cell_type": "code",
   "execution_count": 5,
   "metadata": {},
   "outputs": [],
   "source": [
    "# Set higher price for ask order on benchmark\n",
    "df_seller_strategy = df_prediction.copy()\n",
    "\n",
    "# Make Order columns on benchmark\n",
    "High_list = list(df_seller_strategy[\"High\"])\n",
    "Close_list = list(df_seller_strategy[\"Close\"])\n",
    "\n",
    "# Judge_success = []\n",
    "\n",
    "# 0%から20%くらいで一旦様子見 (分析次第)\n",
    "for i in list(range(0, 21, 1)):\n",
    "\n",
    "# Make Execution columns on benchmark\n",
    "    Execution_i = []\n",
    "    Judge_i = []\n",
    "    Order_list_i = list((df_seller_strategy[\"Close_pred\"]* (1 + i/100)).round(2))\n",
    "    for o, h, c  in zip(Order_list_i, High_list, Close_list):\n",
    "        if o <= h:\n",
    "            Execution_i.append(o)\n",
    "            Judge_i.append(\"True\")\n",
    "        else:\n",
    "            Execution_i.append(c)\n",
    "            Judge_i.append(\"False\")\n",
    "    df_seller_strategy[\"Exec_\" + str(i) + \"%\"] = pd.Series(Execution_i)\n",
    "    df_seller_strategy[\"Judge_\" + str(i) + \"%\"] = pd.Series(Judge_i)\n",
    "\n",
    "#     Judge_success.append((df_seller_bench[\"Judge_\" + str(i) + \"%\"] == 'True').sum())\n",
    "# #For graph\n",
    "# Judge_success = pd.Series(Judge_success)"
   ]
  },
  {
   "cell_type": "markdown",
   "metadata": {},
   "source": [
    "## Construct Portfolios"
   ]
  },
  {
   "cell_type": "markdown",
   "metadata": {},
   "source": [
    "- Spot と Intraの組み合わせをポートフォリオと捉える\n",
    "- 以下の戦略について指値+1%, +5%, +10%で構築\n",
    "    -->10ポートフォリオ×3執行パターン×２(Bench＆Strategy) = 60パターン出来上がる -->ループ必須\n",
    "\n",
    "\n",
    "\n",
    "1)Weightの設定\n",
    "\n",
    "2)Excution_bufferの設定\n",
    "\n",
    "3)Spotのweightを変化させてそれぞれのリターン(差額)を返す"
   ]
  },
  {
   "cell_type": "markdown",
   "metadata": {},
   "source": [
    "### Benchmark Portfolio"
   ]
  },
  {
   "cell_type": "code",
   "execution_count": 6,
   "metadata": {},
   "outputs": [],
   "source": [
    "# できればポートフォリオ構築と評価は分けておきたい (ややこしくなるならスキップ)"
   ]
  },
  {
   "cell_type": "markdown",
   "metadata": {},
   "source": [
    "### Strategy Portfolio"
   ]
  },
  {
   "cell_type": "code",
   "execution_count": 7,
   "metadata": {},
   "outputs": [],
   "source": [
    "# できればポートフォリオ構築と評価は分けておきたい (ややこしくなるならスキップ)"
   ]
  },
  {
   "cell_type": "markdown",
   "metadata": {},
   "source": [
    "## Evaluation function"
   ]
  },
  {
   "cell_type": "markdown",
   "metadata": {},
   "source": [
    "以下の算出式を整理しておく (各戦略の各タイムスロットのポートフォリオ毎に算出する -->タイムスロット分だけポートフォリオができあがる )\n",
    "- Return = 売却価格 (単純に売るだけだから、タイミングの問題、Spot/Close/Predicted/指値+-a%)\n",
    "- Standard Deviation = 期間中のStandard deviationを確認\n",
    "- Sharp-ratio = 上記から算出し、ベンチマークと各戦略の値を比較 -->高いほうが勝ち\n",
    "- VaR = ？？\n",
    "\n",
    "※一旦全期間で評価してるけど、年間で分けたほうが良さそう"
   ]
  },
  {
   "cell_type": "markdown",
   "metadata": {},
   "source": [
    "### Benchmark portfolio"
   ]
  },
  {
   "cell_type": "code",
   "execution_count": 8,
   "metadata": {
    "scrolled": true
   },
   "outputs": [],
   "source": [
    "# ここで最終的に欲しいものは上記数値\n",
    "# Benchmarkのポートフォリオ\n",
    "\n",
    "Spot_list = list(df_seller_bench[\"Spot\"])\n",
    "\n",
    "portfolio_weights= [0, 0.1, 0.2, 0.3, 0.4, 0.5, 0.6, 0.7, 0.8, 0.9, 1.0]\n",
    "execution_buffers = list(range(0, 21, 1))\n",
    "\n",
    "# 算出結果を格納するリスト\n",
    "cols = []\n",
    "\n",
    "Return = [] \n",
    "PortfolioReturn = []\n",
    "StandardDeviation = []\n",
    "Max = []\n",
    "Min = []\n",
    "SharpRatio = []\n",
    "\n",
    "\n",
    "for i in execution_buffers:\n",
    "    Exec_list = list(df_seller_bench[\"Exec_\" + str(i) + \"%\"]) # Exec_listをexecution_bufferに合わせて再設定\n",
    "    for weight in portfolio_weights:\n",
    "        Return = [] #ループ毎にreturnを格納するリストを再設定\n",
    "        for spot, execution in zip(Spot_list, Exec_list):\n",
    "            # Spotで全約定した場合、spot*weightをReturn[]に格納していく\n",
    "            if weight == 1.0:\n",
    "                #Returnを格納\n",
    "                Return.append(spot*weight)\n",
    "                \n",
    "            #Spotで約定できなかった場合、spot*weight + execution*(1-weight)をReturn[]に格納していく\n",
    "            else:\n",
    "                #Returnを格納\n",
    "                Return.append(spot*weight + execution*(1-weight))\n",
    "\n",
    "        if weight == 1.0:\n",
    "            cols.append(\"Spot\" + str(weight*100))\n",
    "        else:\n",
    "            cols.append(\"Spot\" + str(weight*100) + \"%&Order+\" +str(i) + \"%\")\n",
    "\n",
    "        #30ポートフォリオの算出結果をリストに格納していく\n",
    "        Return = pd.Series(Return)\n",
    "        PortfolioReturn.append(Return.mean().round(2))\n",
    "        StandardDeviation.append(Return.std().round(2))\n",
    "        Max.append(Return.max().round(2))\n",
    "        Min.append(Return.min().round(2))\n",
    "        SharpRatio.append((Return.mean()/Return.std()).round(2))\n",
    "\n",
    "#df_portfolio_benchの列を設定し、行列を入替えて調整する\n",
    "df_portfolio_bench = pd.DataFrame()\n",
    "df_portfolio_bench = df_portfolio_bench.T\n",
    "\n",
    "#各算出結果をdf_portfolio_benchの列へ追加する\n",
    "df_portfolio_bench[\"PortfolioReturn\"] = pd.Series(PortfolioReturn)\n",
    "df_portfolio_bench[\"StandardDeviation\"] = pd.Series(StandardDeviation)\n",
    "df_portfolio_bench[\"Max\"] = pd.Series(Max)\n",
    "df_portfolio_bench[\"Min\"] = pd.Series(Min)\n",
    "df_portfolio_bench[\"SharpRatio\"] = pd.Series(SharpRatio)\n",
    "df_portfolio_bench.index = cols"
   ]
  },
  {
   "cell_type": "code",
   "execution_count": 9,
   "metadata": {
    "scrolled": true
   },
   "outputs": [
    {
     "data": {
      "image/png": "[encoded data removed]",
      "text/plain": [
       "<Figure size 1152x144 with 1 Axes>"
      ]
     },
     "metadata": {
      "needs_background": "light"
     },
     "output_type": "display_data"
    }
   ],
   "source": [
    "fig, ax = plt.subplots(1, figsize=plt.figaspect(.05))\n",
    "df_portfolio_bench[\"SharpRatio\"].plot()\n",
    "plt.legend(loc=\"upper left\");"
   ]
  },
  {
   "cell_type": "code",
   "execution_count": 10,
   "metadata": {
    "scrolled": true
   },
   "outputs": [
    {
     "data": {
      "text/html": [
       "<div>\n",
       "<style scoped>\n",
       "    .dataframe tbody tr th:only-of-type {\n",
       "        vertical-align: middle;\n",
       "    }\n",
       "\n",
       "    .dataframe tbody tr th {\n",
       "        vertical-align: top;\n",
       "    }\n",
       "\n",
       "    .dataframe thead th {\n",
       "        text-align: right;\n",
       "    }\n",
       "</style>\n",
       "<table border=\"1\" class=\"dataframe\">\n",
       "  <thead>\n",
       "    <tr style=\"text-align: right;\">\n",
       "      <th></th>\n",
       "      <th>PortfolioReturn</th>\n",
       "      <th>StandardDeviation</th>\n",
       "      <th>Max</th>\n",
       "      <th>Min</th>\n",
       "      <th>SharpRatio</th>\n",
       "    </tr>\n",
       "  </thead>\n",
       "  <tbody>\n",
       "    <tr>\n",
       "      <th>count</th>\n",
       "      <td>231.000000</td>\n",
       "      <td>231.000000</td>\n",
       "      <td>231.00000</td>\n",
       "      <td>2.310000e+02</td>\n",
       "      <td>231.000000</td>\n",
       "    </tr>\n",
       "    <tr>\n",
       "      <th>mean</th>\n",
       "      <td>8.870866</td>\n",
       "      <td>4.308961</td>\n",
       "      <td>84.00000</td>\n",
       "      <td>1.000000e-02</td>\n",
       "      <td>2.059913</td>\n",
       "    </tr>\n",
       "    <tr>\n",
       "      <th>std</th>\n",
       "      <td>0.296419</td>\n",
       "      <td>0.147903</td>\n",
       "      <td>3.83104</td>\n",
       "      <td>1.738491e-18</td>\n",
       "      <td>0.005897</td>\n",
       "    </tr>\n",
       "    <tr>\n",
       "      <th>min</th>\n",
       "      <td>8.540000</td>\n",
       "      <td>4.150000</td>\n",
       "      <td>80.00000</td>\n",
       "      <td>1.000000e-02</td>\n",
       "      <td>2.030000</td>\n",
       "    </tr>\n",
       "    <tr>\n",
       "      <th>25%</th>\n",
       "      <td>8.620000</td>\n",
       "      <td>4.190000</td>\n",
       "      <td>80.84000</td>\n",
       "      <td>1.000000e-02</td>\n",
       "      <td>2.060000</td>\n",
       "    </tr>\n",
       "    <tr>\n",
       "      <th>50%</th>\n",
       "      <td>8.790000</td>\n",
       "      <td>4.270000</td>\n",
       "      <td>82.88000</td>\n",
       "      <td>1.000000e-02</td>\n",
       "      <td>2.060000</td>\n",
       "    </tr>\n",
       "    <tr>\n",
       "      <th>75%</th>\n",
       "      <td>9.065000</td>\n",
       "      <td>4.400000</td>\n",
       "      <td>86.32000</td>\n",
       "      <td>1.000000e-02</td>\n",
       "      <td>2.060000</td>\n",
       "    </tr>\n",
       "    <tr>\n",
       "      <th>max</th>\n",
       "      <td>9.700000</td>\n",
       "      <td>4.780000</td>\n",
       "      <td>96.00000</td>\n",
       "      <td>1.000000e-02</td>\n",
       "      <td>2.070000</td>\n",
       "    </tr>\n",
       "  </tbody>\n",
       "</table>\n",
       "</div>"
      ],
      "text/plain": [
       "       PortfolioReturn  StandardDeviation        Max           Min  SharpRatio\n",
       "count       231.000000         231.000000  231.00000  2.310000e+02  231.000000\n",
       "mean          8.870866           4.308961   84.00000  1.000000e-02    2.059913\n",
       "std           0.296419           0.147903    3.83104  1.738491e-18    0.005897\n",
       "min           8.540000           4.150000   80.00000  1.000000e-02    2.030000\n",
       "25%           8.620000           4.190000   80.84000  1.000000e-02    2.060000\n",
       "50%           8.790000           4.270000   82.88000  1.000000e-02    2.060000\n",
       "75%           9.065000           4.400000   86.32000  1.000000e-02    2.060000\n",
       "max           9.700000           4.780000   96.00000  1.000000e-02    2.070000"
      ]
     },
     "execution_count": 10,
     "metadata": {},
     "output_type": "execute_result"
    }
   ],
   "source": [
    "df_portfolio_bench.describe()"
   ]
  },
  {
   "cell_type": "code",
   "execution_count": 11,
   "metadata": {
    "scrolled": false
   },
   "outputs": [
    {
     "data": {
      "text/html": [
       "<div>\n",
       "<style scoped>\n",
       "    .dataframe tbody tr th:only-of-type {\n",
       "        vertical-align: middle;\n",
       "    }\n",
       "\n",
       "    .dataframe tbody tr th {\n",
       "        vertical-align: top;\n",
       "    }\n",
       "\n",
       "    .dataframe thead th {\n",
       "        text-align: right;\n",
       "    }\n",
       "</style>\n",
       "<table border=\"1\" class=\"dataframe\">\n",
       "  <thead>\n",
       "    <tr style=\"text-align: right;\">\n",
       "      <th></th>\n",
       "      <th>PortfolioReturn</th>\n",
       "      <th>StandardDeviation</th>\n",
       "      <th>Max</th>\n",
       "      <th>Min</th>\n",
       "      <th>SharpRatio</th>\n",
       "    </tr>\n",
       "  </thead>\n",
       "  <tbody>\n",
       "    <tr>\n",
       "      <th>Spot0%&amp;Order+16%</th>\n",
       "      <td>9.55</td>\n",
       "      <td>4.66</td>\n",
       "      <td>92.8</td>\n",
       "      <td>0.01</td>\n",
       "      <td>2.05</td>\n",
       "    </tr>\n",
       "  </tbody>\n",
       "</table>\n",
       "</div>"
      ],
      "text/plain": [
       "                  PortfolioReturn  StandardDeviation   Max   Min  SharpRatio\n",
       "Spot0%&Order+16%             9.55               4.66  92.8  0.01        2.05"
      ]
     },
     "execution_count": 11,
     "metadata": {},
     "output_type": "execute_result"
    }
   ],
   "source": [
    "df_portfolio_bench[df_portfolio_bench[\"StandardDeviation\"] == 4.66]"
   ]
  },
  {
   "cell_type": "code",
   "execution_count": 12,
   "metadata": {},
   "outputs": [
    {
     "data": {
      "text/html": [
       "<div>\n",
       "<style scoped>\n",
       "    .dataframe tbody tr th:only-of-type {\n",
       "        vertical-align: middle;\n",
       "    }\n",
       "\n",
       "    .dataframe tbody tr th {\n",
       "        vertical-align: top;\n",
       "    }\n",
       "\n",
       "    .dataframe thead th {\n",
       "        text-align: right;\n",
       "    }\n",
       "</style>\n",
       "<table border=\"1\" class=\"dataframe\">\n",
       "  <thead>\n",
       "    <tr style=\"text-align: right;\">\n",
       "      <th></th>\n",
       "      <th>PortfolioReturn</th>\n",
       "      <th>StandardDeviation</th>\n",
       "      <th>Max</th>\n",
       "      <th>Min</th>\n",
       "      <th>SharpRatio</th>\n",
       "    </tr>\n",
       "  </thead>\n",
       "  <tbody>\n",
       "    <tr>\n",
       "      <th>Spot0%&amp;Order+4%</th>\n",
       "      <td>8.85</td>\n",
       "      <td>4.31</td>\n",
       "      <td>83.20</td>\n",
       "      <td>0.01</td>\n",
       "      <td>2.05</td>\n",
       "    </tr>\n",
       "    <tr>\n",
       "      <th>Spot0%&amp;Order+5%</th>\n",
       "      <td>8.92</td>\n",
       "      <td>4.34</td>\n",
       "      <td>84.00</td>\n",
       "      <td>0.01</td>\n",
       "      <td>2.05</td>\n",
       "    </tr>\n",
       "    <tr>\n",
       "      <th>Spot10.0%&amp;Order+5%</th>\n",
       "      <td>8.88</td>\n",
       "      <td>4.32</td>\n",
       "      <td>83.60</td>\n",
       "      <td>0.01</td>\n",
       "      <td>2.05</td>\n",
       "    </tr>\n",
       "    <tr>\n",
       "      <th>Spot0%&amp;Order+6%</th>\n",
       "      <td>8.99</td>\n",
       "      <td>4.38</td>\n",
       "      <td>84.80</td>\n",
       "      <td>0.01</td>\n",
       "      <td>2.05</td>\n",
       "    </tr>\n",
       "    <tr>\n",
       "      <th>Spot10.0%&amp;Order+6%</th>\n",
       "      <td>8.95</td>\n",
       "      <td>4.36</td>\n",
       "      <td>84.32</td>\n",
       "      <td>0.01</td>\n",
       "      <td>2.05</td>\n",
       "    </tr>\n",
       "    <tr>\n",
       "      <th>Spot0%&amp;Order+7%</th>\n",
       "      <td>9.06</td>\n",
       "      <td>4.42</td>\n",
       "      <td>85.60</td>\n",
       "      <td>0.01</td>\n",
       "      <td>2.05</td>\n",
       "    </tr>\n",
       "    <tr>\n",
       "      <th>Spot10.0%&amp;Order+7%</th>\n",
       "      <td>9.01</td>\n",
       "      <td>4.39</td>\n",
       "      <td>85.04</td>\n",
       "      <td>0.01</td>\n",
       "      <td>2.05</td>\n",
       "    </tr>\n",
       "    <tr>\n",
       "      <th>Spot0%&amp;Order+8%</th>\n",
       "      <td>9.13</td>\n",
       "      <td>4.44</td>\n",
       "      <td>86.40</td>\n",
       "      <td>0.01</td>\n",
       "      <td>2.05</td>\n",
       "    </tr>\n",
       "    <tr>\n",
       "      <th>Spot0%&amp;Order+10%</th>\n",
       "      <td>9.25</td>\n",
       "      <td>4.50</td>\n",
       "      <td>88.00</td>\n",
       "      <td>0.01</td>\n",
       "      <td>2.05</td>\n",
       "    </tr>\n",
       "    <tr>\n",
       "      <th>Spot0%&amp;Order+11%</th>\n",
       "      <td>9.30</td>\n",
       "      <td>4.53</td>\n",
       "      <td>88.80</td>\n",
       "      <td>0.01</td>\n",
       "      <td>2.05</td>\n",
       "    </tr>\n",
       "    <tr>\n",
       "      <th>Spot0%&amp;Order+12%</th>\n",
       "      <td>9.36</td>\n",
       "      <td>4.56</td>\n",
       "      <td>89.60</td>\n",
       "      <td>0.01</td>\n",
       "      <td>2.05</td>\n",
       "    </tr>\n",
       "    <tr>\n",
       "      <th>Spot0%&amp;Order+13%</th>\n",
       "      <td>9.41</td>\n",
       "      <td>4.58</td>\n",
       "      <td>90.40</td>\n",
       "      <td>0.01</td>\n",
       "      <td>2.05</td>\n",
       "    </tr>\n",
       "    <tr>\n",
       "      <th>Spot0%&amp;Order+14%</th>\n",
       "      <td>9.46</td>\n",
       "      <td>4.61</td>\n",
       "      <td>91.20</td>\n",
       "      <td>0.01</td>\n",
       "      <td>2.05</td>\n",
       "    </tr>\n",
       "    <tr>\n",
       "      <th>Spot0%&amp;Order+15%</th>\n",
       "      <td>9.51</td>\n",
       "      <td>4.64</td>\n",
       "      <td>92.00</td>\n",
       "      <td>0.01</td>\n",
       "      <td>2.05</td>\n",
       "    </tr>\n",
       "    <tr>\n",
       "      <th>Spot0%&amp;Order+16%</th>\n",
       "      <td>9.55</td>\n",
       "      <td>4.66</td>\n",
       "      <td>92.80</td>\n",
       "      <td>0.01</td>\n",
       "      <td>2.05</td>\n",
       "    </tr>\n",
       "    <tr>\n",
       "      <th>Spot10.0%&amp;Order+16%</th>\n",
       "      <td>9.45</td>\n",
       "      <td>4.60</td>\n",
       "      <td>91.52</td>\n",
       "      <td>0.01</td>\n",
       "      <td>2.05</td>\n",
       "    </tr>\n",
       "    <tr>\n",
       "      <th>Spot0%&amp;Order+17%</th>\n",
       "      <td>9.59</td>\n",
       "      <td>4.69</td>\n",
       "      <td>93.60</td>\n",
       "      <td>0.01</td>\n",
       "      <td>2.05</td>\n",
       "    </tr>\n",
       "    <tr>\n",
       "      <th>Spot10.0%&amp;Order+17%</th>\n",
       "      <td>9.48</td>\n",
       "      <td>4.62</td>\n",
       "      <td>92.24</td>\n",
       "      <td>0.01</td>\n",
       "      <td>2.05</td>\n",
       "    </tr>\n",
       "    <tr>\n",
       "      <th>Spot10.0%&amp;Order+18%</th>\n",
       "      <td>9.52</td>\n",
       "      <td>4.65</td>\n",
       "      <td>92.96</td>\n",
       "      <td>0.01</td>\n",
       "      <td>2.05</td>\n",
       "    </tr>\n",
       "    <tr>\n",
       "      <th>Spot20.0%&amp;Order+18%</th>\n",
       "      <td>9.41</td>\n",
       "      <td>4.58</td>\n",
       "      <td>91.52</td>\n",
       "      <td>0.01</td>\n",
       "      <td>2.05</td>\n",
       "    </tr>\n",
       "    <tr>\n",
       "      <th>Spot20.0%&amp;Order+19%</th>\n",
       "      <td>9.44</td>\n",
       "      <td>4.60</td>\n",
       "      <td>92.16</td>\n",
       "      <td>0.01</td>\n",
       "      <td>2.05</td>\n",
       "    </tr>\n",
       "    <tr>\n",
       "      <th>Spot20.0%&amp;Order+20%</th>\n",
       "      <td>9.47</td>\n",
       "      <td>4.62</td>\n",
       "      <td>92.80</td>\n",
       "      <td>0.01</td>\n",
       "      <td>2.05</td>\n",
       "    </tr>\n",
       "    <tr>\n",
       "      <th>Spot30.0%&amp;Order+20%</th>\n",
       "      <td>9.35</td>\n",
       "      <td>4.55</td>\n",
       "      <td>91.20</td>\n",
       "      <td>0.01</td>\n",
       "      <td>2.05</td>\n",
       "    </tr>\n",
       "  </tbody>\n",
       "</table>\n",
       "</div>"
      ],
      "text/plain": [
       "                     PortfolioReturn  StandardDeviation    Max   Min  \\\n",
       "Spot0%&Order+4%                 8.85               4.31  83.20  0.01   \n",
       "Spot0%&Order+5%                 8.92               4.34  84.00  0.01   \n",
       "Spot10.0%&Order+5%              8.88               4.32  83.60  0.01   \n",
       "Spot0%&Order+6%                 8.99               4.38  84.80  0.01   \n",
       "Spot10.0%&Order+6%              8.95               4.36  84.32  0.01   \n",
       "Spot0%&Order+7%                 9.06               4.42  85.60  0.01   \n",
       "Spot10.0%&Order+7%              9.01               4.39  85.04  0.01   \n",
       "Spot0%&Order+8%                 9.13               4.44  86.40  0.01   \n",
       "Spot0%&Order+10%                9.25               4.50  88.00  0.01   \n",
       "Spot0%&Order+11%                9.30               4.53  88.80  0.01   \n",
       "Spot0%&Order+12%                9.36               4.56  89.60  0.01   \n",
       "Spot0%&Order+13%                9.41               4.58  90.40  0.01   \n",
       "Spot0%&Order+14%                9.46               4.61  91.20  0.01   \n",
       "Spot0%&Order+15%                9.51               4.64  92.00  0.01   \n",
       "Spot0%&Order+16%                9.55               4.66  92.80  0.01   \n",
       "Spot10.0%&Order+16%             9.45               4.60  91.52  0.01   \n",
       "Spot0%&Order+17%                9.59               4.69  93.60  0.01   \n",
       "Spot10.0%&Order+17%             9.48               4.62  92.24  0.01   \n",
       "Spot10.0%&Order+18%             9.52               4.65  92.96  0.01   \n",
       "Spot20.0%&Order+18%             9.41               4.58  91.52  0.01   \n",
       "Spot20.0%&Order+19%             9.44               4.60  92.16  0.01   \n",
       "Spot20.0%&Order+20%             9.47               4.62  92.80  0.01   \n",
       "Spot30.0%&Order+20%             9.35               4.55  91.20  0.01   \n",
       "\n",
       "                     SharpRatio  \n",
       "Spot0%&Order+4%            2.05  \n",
       "Spot0%&Order+5%            2.05  \n",
       "Spot10.0%&Order+5%         2.05  \n",
       "Spot0%&Order+6%            2.05  \n",
       "Spot10.0%&Order+6%         2.05  \n",
       "Spot0%&Order+7%            2.05  \n",
       "Spot10.0%&Order+7%         2.05  \n",
       "Spot0%&Order+8%            2.05  \n",
       "Spot0%&Order+10%           2.05  \n",
       "Spot0%&Order+11%           2.05  \n",
       "Spot0%&Order+12%           2.05  \n",
       "Spot0%&Order+13%           2.05  \n",
       "Spot0%&Order+14%           2.05  \n",
       "Spot0%&Order+15%           2.05  \n",
       "Spot0%&Order+16%           2.05  \n",
       "Spot10.0%&Order+16%        2.05  \n",
       "Spot0%&Order+17%           2.05  \n",
       "Spot10.0%&Order+17%        2.05  \n",
       "Spot10.0%&Order+18%        2.05  \n",
       "Spot20.0%&Order+18%        2.05  \n",
       "Spot20.0%&Order+19%        2.05  \n",
       "Spot20.0%&Order+20%        2.05  \n",
       "Spot30.0%&Order+20%        2.05  "
      ]
     },
     "execution_count": 12,
     "metadata": {},
     "output_type": "execute_result"
    }
   ],
   "source": [
    "df_portfolio_bench[df_portfolio_bench[\"SharpRatio\"] == 2.05]"
   ]
  },
  {
   "cell_type": "code",
   "execution_count": 13,
   "metadata": {
    "scrolled": false
   },
   "outputs": [
    {
     "data": {
      "text/plain": [
       "<matplotlib.collections.PathCollection at 0x12357fb90>"
      ]
     },
     "execution_count": 13,
     "metadata": {},
     "output_type": "execute_result"
    },
    {
     "data": {
      "image/png": "[encoded data removed]",
      "text/plain": [
       "<Figure size 432x288 with 1 Axes>"
      ]
     },
     "metadata": {
      "needs_background": "light"
     },
     "output_type": "display_data"
    }
   ],
   "source": [
    "# fig, ax = plt.subplots(1, figsize=plt.figaspect(.25))\n",
    "plt.hlines(9.54\t, df_portfolio_bench[\"StandardDeviation\"].min(), df_portfolio_bench[\"StandardDeviation\"].max(), label=\"Minimum risk\", linestyle=\"dashed\", color=\"r\")\n",
    "plt.scatter(x=df_portfolio_bench[\"StandardDeviation\"], y=df_portfolio_bench[\"PortfolioReturn\"])"
   ]
  },
  {
   "cell_type": "markdown",
   "metadata": {},
   "source": [
    "[Benchmark] <p>\n",
    "Efficient frontier: PortfolioReturn < 9.54 <p>\n",
    "Max_SharpRatio = 2.05"
   ]
  },
  {
   "cell_type": "code",
   "execution_count": null,
   "metadata": {},
   "outputs": [],
   "source": []
  },
  {
   "cell_type": "markdown",
   "metadata": {},
   "source": [
    "### Strategy portfolio"
   ]
  },
  {
   "cell_type": "code",
   "execution_count": 14,
   "metadata": {
    "scrolled": true
   },
   "outputs": [],
   "source": [
    "# ここで最終的に欲しいものは上記数値\n",
    "# Strategyのポートフォリオ\n",
    "\n",
    "Spot_list = list(df_seller_strategy[\"Spot\"])\n",
    "\n",
    "portfolio_weights= [0, 0.1, 0.2, 0.3, 0.4, 0.5, 0.6, 0.7, 0.8, 0.9, 1.0]\n",
    "execution_buffers = list(range(0, 21, 1))\n",
    "\n",
    "# 算出結果を格納するリスト\n",
    "cols = []\n",
    "\n",
    "Return = [] \n",
    "PortfolioReturn = []\n",
    "StandardDeviation = []\n",
    "Max = []\n",
    "Min = []\n",
    "SharpRatio = []\n",
    "\n",
    "\n",
    "for i in execution_buffers:\n",
    "    Exec_list = list(df_seller_strategy[\"Exec_\" + str(i) + \"%\"]) # Exec_listをexecution_bufferに合わせて再設定\n",
    "    for weight in portfolio_weights:\n",
    "        Return = [] #ループ毎にreturnを格納するリストを再設定\n",
    "        for spot, execution in zip(Spot_list, Exec_list):\n",
    "            # Spotで全約定した場合、spot*weightをReturn[]に格納していく\n",
    "            if weight == 1.0:\n",
    "                #Returnを格納\n",
    "                Return.append(spot*weight)\n",
    "            #Spotで約定できなかった場合、spot*weight + execution*(1-weight)をReturn[]に格納していく\n",
    "            else:\n",
    "                #Returnを格納\n",
    "                Return.append(spot*weight + execution*(1-weight))\n",
    "\n",
    "        if weight == 1.0:\n",
    "            cols.append(\"Spot\" + str(weight*100))\n",
    "        else:\n",
    "            cols.append(\"Spot\" + str(weight*100) + \"%&Order+\" +str(i) + \"%\")\n",
    "\n",
    "        #30ポートフォリオの算出結果をリストに格納していく\n",
    "        Return = pd.Series(Return)\n",
    "        PortfolioReturn.append(Return.mean().round(2))\n",
    "        StandardDeviation.append(Return.std().round(2))\n",
    "        Max.append(Return.max().round(2))\n",
    "        Min.append(Return.min().round(2))\n",
    "        SharpRatio.append((Return.mean()/Return.std()).round(2))\n",
    "\n",
    "\n",
    "#df_portfolio_benchの列を設定し、行列を入替えて調整する\n",
    "df_seller_strategy = pd.DataFrame()\n",
    "df_seller_strategy = df_seller_strategy.T\n",
    "\n",
    "#各算出結果をdf_portfolio_benchの列へ追加する\n",
    "df_seller_strategy[\"PortfolioReturn\"] = pd.Series(PortfolioReturn)\n",
    "df_seller_strategy[\"StandardDeviation\"] = pd.Series(StandardDeviation)\n",
    "df_seller_strategy[\"Max\"] = pd.Series(Max)\n",
    "df_seller_strategy[\"Min\"] = pd.Series(Min)\n",
    "df_seller_strategy[\"SharpRatio\"] = pd.Series(SharpRatio)\n",
    "df_seller_strategy.index = cols"
   ]
  },
  {
   "cell_type": "code",
   "execution_count": 15,
   "metadata": {
    "scrolled": true
   },
   "outputs": [
    {
     "data": {
      "image/png": "[encoded data removed]",
      "text/plain": [
       "<Figure size 1152x144 with 1 Axes>"
      ]
     },
     "metadata": {
      "needs_background": "light"
     },
     "output_type": "display_data"
    }
   ],
   "source": [
    "fig, ax = plt.subplots(1, figsize=plt.figaspect(.05))\n",
    "df_seller_strategy[\"SharpRatio\"].plot()\n",
    "plt.legend(loc=\"upper left\");"
   ]
  },
  {
   "cell_type": "code",
   "execution_count": 16,
   "metadata": {
    "scrolled": true
   },
   "outputs": [
    {
     "data": {
      "text/html": [
       "<div>\n",
       "<style scoped>\n",
       "    .dataframe tbody tr th:only-of-type {\n",
       "        vertical-align: middle;\n",
       "    }\n",
       "\n",
       "    .dataframe tbody tr th {\n",
       "        vertical-align: top;\n",
       "    }\n",
       "\n",
       "    .dataframe thead th {\n",
       "        text-align: right;\n",
       "    }\n",
       "</style>\n",
       "<table border=\"1\" class=\"dataframe\">\n",
       "  <thead>\n",
       "    <tr style=\"text-align: right;\">\n",
       "      <th></th>\n",
       "      <th>PortfolioReturn</th>\n",
       "      <th>StandardDeviation</th>\n",
       "      <th>Max</th>\n",
       "      <th>Min</th>\n",
       "      <th>SharpRatio</th>\n",
       "    </tr>\n",
       "  </thead>\n",
       "  <tbody>\n",
       "    <tr>\n",
       "      <th>count</th>\n",
       "      <td>231.000000</td>\n",
       "      <td>231.000000</td>\n",
       "      <td>231.000000</td>\n",
       "      <td>231.000000</td>\n",
       "      <td>231.000000</td>\n",
       "    </tr>\n",
       "    <tr>\n",
       "      <th>mean</th>\n",
       "      <td>8.820996</td>\n",
       "      <td>3.953896</td>\n",
       "      <td>72.673723</td>\n",
       "      <td>0.124935</td>\n",
       "      <td>2.234935</td>\n",
       "    </tr>\n",
       "    <tr>\n",
       "      <th>std</th>\n",
       "      <td>0.291063</td>\n",
       "      <td>0.174212</td>\n",
       "      <td>4.503940</td>\n",
       "      <td>0.074372</td>\n",
       "      <td>0.112210</td>\n",
       "    </tr>\n",
       "    <tr>\n",
       "      <th>min</th>\n",
       "      <td>8.390000</td>\n",
       "      <td>3.420000</td>\n",
       "      <td>61.590000</td>\n",
       "      <td>0.010000</td>\n",
       "      <td>2.060000</td>\n",
       "    </tr>\n",
       "    <tr>\n",
       "      <th>25%</th>\n",
       "      <td>8.580000</td>\n",
       "      <td>3.850000</td>\n",
       "      <td>69.535000</td>\n",
       "      <td>0.060000</td>\n",
       "      <td>2.130000</td>\n",
       "    </tr>\n",
       "    <tr>\n",
       "      <th>50%</th>\n",
       "      <td>8.740000</td>\n",
       "      <td>4.000000</td>\n",
       "      <td>72.910000</td>\n",
       "      <td>0.120000</td>\n",
       "      <td>2.240000</td>\n",
       "    </tr>\n",
       "    <tr>\n",
       "      <th>75%</th>\n",
       "      <td>9.010000</td>\n",
       "      <td>4.100000</td>\n",
       "      <td>76.015000</td>\n",
       "      <td>0.190000</td>\n",
       "      <td>2.330000</td>\n",
       "    </tr>\n",
       "    <tr>\n",
       "      <th>max</th>\n",
       "      <td>9.660000</td>\n",
       "      <td>4.160000</td>\n",
       "      <td>80.000000</td>\n",
       "      <td>0.260000</td>\n",
       "      <td>2.450000</td>\n",
       "    </tr>\n",
       "  </tbody>\n",
       "</table>\n",
       "</div>"
      ],
      "text/plain": [
       "       PortfolioReturn  StandardDeviation         Max         Min  SharpRatio\n",
       "count       231.000000         231.000000  231.000000  231.000000  231.000000\n",
       "mean          8.820996           3.953896   72.673723    0.124935    2.234935\n",
       "std           0.291063           0.174212    4.503940    0.074372    0.112210\n",
       "min           8.390000           3.420000   61.590000    0.010000    2.060000\n",
       "25%           8.580000           3.850000   69.535000    0.060000    2.130000\n",
       "50%           8.740000           4.000000   72.910000    0.120000    2.240000\n",
       "75%           9.010000           4.100000   76.015000    0.190000    2.330000\n",
       "max           9.660000           4.160000   80.000000    0.260000    2.450000"
      ]
     },
     "execution_count": 16,
     "metadata": {},
     "output_type": "execute_result"
    }
   ],
   "source": [
    "df_seller_strategy.describe()"
   ]
  },
  {
   "cell_type": "code",
   "execution_count": 17,
   "metadata": {
    "scrolled": false
   },
   "outputs": [
    {
     "data": {
      "text/html": [
       "<div>\n",
       "<style scoped>\n",
       "    .dataframe tbody tr th:only-of-type {\n",
       "        vertical-align: middle;\n",
       "    }\n",
       "\n",
       "    .dataframe tbody tr th {\n",
       "        vertical-align: top;\n",
       "    }\n",
       "\n",
       "    .dataframe thead th {\n",
       "        text-align: right;\n",
       "    }\n",
       "</style>\n",
       "<table border=\"1\" class=\"dataframe\">\n",
       "  <thead>\n",
       "    <tr style=\"text-align: right;\">\n",
       "      <th></th>\n",
       "      <th>PortfolioReturn</th>\n",
       "      <th>StandardDeviation</th>\n",
       "      <th>Max</th>\n",
       "      <th>Min</th>\n",
       "      <th>SharpRatio</th>\n",
       "    </tr>\n",
       "  </thead>\n",
       "  <tbody>\n",
       "  </tbody>\n",
       "</table>\n",
       "</div>"
      ],
      "text/plain": [
       "Empty DataFrame\n",
       "Columns: [PortfolioReturn, StandardDeviation, Max, Min, SharpRatio]\n",
       "Index: []"
      ]
     },
     "execution_count": 17,
     "metadata": {},
     "output_type": "execute_result"
    }
   ],
   "source": [
    "df_seller_strategy[df_seller_strategy[\"StandardDeviation\"] == 3.34]"
   ]
  },
  {
   "cell_type": "code",
   "execution_count": 18,
   "metadata": {},
   "outputs": [
    {
     "data": {
      "text/html": [
       "<div>\n",
       "<style scoped>\n",
       "    .dataframe tbody tr th:only-of-type {\n",
       "        vertical-align: middle;\n",
       "    }\n",
       "\n",
       "    .dataframe tbody tr th {\n",
       "        vertical-align: top;\n",
       "    }\n",
       "\n",
       "    .dataframe thead th {\n",
       "        text-align: right;\n",
       "    }\n",
       "</style>\n",
       "<table border=\"1\" class=\"dataframe\">\n",
       "  <thead>\n",
       "    <tr style=\"text-align: right;\">\n",
       "      <th></th>\n",
       "      <th>PortfolioReturn</th>\n",
       "      <th>StandardDeviation</th>\n",
       "      <th>Max</th>\n",
       "      <th>Min</th>\n",
       "      <th>SharpRatio</th>\n",
       "    </tr>\n",
       "  </thead>\n",
       "  <tbody>\n",
       "  </tbody>\n",
       "</table>\n",
       "</div>"
      ],
      "text/plain": [
       "Empty DataFrame\n",
       "Columns: [PortfolioReturn, StandardDeviation, Max, Min, SharpRatio]\n",
       "Index: []"
      ]
     },
     "execution_count": 18,
     "metadata": {},
     "output_type": "execute_result"
    }
   ],
   "source": [
    "df_seller_strategy[df_seller_strategy[\"SharpRatio\"] == 2.51]"
   ]
  },
  {
   "cell_type": "code",
   "execution_count": 19,
   "metadata": {
    "scrolled": false
   },
   "outputs": [
    {
     "data": {
      "text/plain": [
       "<matplotlib.collections.PathCollection at 0x12357f910>"
      ]
     },
     "execution_count": 19,
     "metadata": {},
     "output_type": "execute_result"
    },
    {
     "data": {
      "image/png": "[encoded data removed]",
      "text/plain": [
       "<Figure size 432x288 with 1 Axes>"
      ]
     },
     "metadata": {
      "needs_background": "light"
     },
     "output_type": "display_data"
    }
   ],
   "source": [
    "# fig, ax = plt.subplots(1, figsize=plt.figaspect(.25))\n",
    "plt.hlines(8.38\t, df_seller_strategy[\"StandardDeviation\"].min(), df_seller_strategy[\"StandardDeviation\"].max(), label=\"Minimum risk\", linestyle=\"dashed\", color=\"r\")\n",
    "plt.scatter(x=df_seller_strategy[\"StandardDeviation\"], y=df_seller_strategy[\"PortfolioReturn\"])"
   ]
  },
  {
   "cell_type": "markdown",
   "metadata": {},
   "source": [
    "Efficient frontier: PortfolioReturn < 8.38 <p>\n",
    "Max_SharpRatio = 2.51\n",
    "    \n",
    "※課題\n",
    "- 各年での評価がまだできていない (ポートフォリオ構築からやり直す必要があるかも。例えば元のテーブルでポートフォリオ構築まで組み込んで、評価テーブルで各商品ごとの集計に切り替える、等)\n",
    "- 各商品のポートフォリオ比率が一定 --> (各商品ごとに最適なポートフォリオを選択するという手段もある)\n",
    "\n",
    "\n",
    "※アイディア案\n",
    "- 各商品別にポートフォリオを組んで別テーブルを作る (行：各商品、時系列順　　列：各条件のポートフォリオ)\n",
    "- 横軸で(各商品ごとに)Maxの数値を選択しMix　portfolioも加える\n",
    "- Mix　Portfolioも加えて各年で分けて評価していく\n",
    "- 最終的な評価はTrain期間とValid期間を分けて実施したいところ"
   ]
  },
  {
   "cell_type": "markdown",
   "metadata": {},
   "source": [
    "# For Buyer"
   ]
  },
  {
   "cell_type": "markdown",
   "metadata": {},
   "source": [
    "トレーディング戦略(買い手：小売)\n",
    "[予測なし(ベンチマーク)]\n",
    "- 100%Spotでの売買を優先 (Spot入札成功率を変えて感度分析)\n",
    "       -->SpotとIntraのWeightを１００％〜10%で設定する\n",
    "- 入札漏れは\n",
    "    -->Closeで成行\n",
    "    -->Spotの1%, 5%, 10%で指値後、約定しなければCloseで成行\n",
    "\n",
    "[予測有り]\n",
    "- Spot価格とIntra予測価格の有利な方で売却 (Spot入札率を変えて感度分析)\n",
    "- 入札漏れは\n",
    "    -->予測価格の1%, 5%, 10%で指値後、約定しなければCloseで成行\n",
    "    \n",
    "※約定の条件はBid price > Low price"
   ]
  },
  {
   "cell_type": "markdown",
   "metadata": {},
   "source": [
    "## Requierd dataset"
   ]
  },
  {
   "cell_type": "markdown",
   "metadata": {},
   "source": [
    "### Benchmark"
   ]
  },
  {
   "cell_type": "code",
   "execution_count": 20,
   "metadata": {},
   "outputs": [],
   "source": [
    "# Set higher price for ask order on benchmark\n",
    "df_buyer_bench = df_prediction.copy()\n",
    "\n",
    "# Drop Close_pred on benchmark\n",
    "df_buyer_bench = df_buyer_bench.drop(\"Close_pred\", axis=1)\n",
    "\n",
    "# Make Order columns on benchmark\n",
    "Low_list = list(df_buyer_bench[\"Low\"])\n",
    "Close_list = list(df_buyer_bench[\"Close\"])\n",
    "# Judge_success = []\n",
    "\n",
    "# 0%から20%くらいで一旦様子見 (分析次第)\n",
    "for i in list(range(0, 21, 1)):\n",
    "# Make Execution columns on benchmark\n",
    "    Execution_i = []\n",
    "    Judge_i = []\n",
    "    Order_list_i = list((df_buyer_bench[\"Spot\"]* (1 -  i/100)).round(2))\n",
    "    for o, l, c  in zip(Order_list_i, Low_list, Close_list):\n",
    "        if o >= l:\n",
    "            Execution_i.append(o)\n",
    "            Judge_i.append(\"True\")\n",
    "        else:\n",
    "            Execution_i.append(c)\n",
    "            Judge_i.append(\"False\")\n",
    "    df_buyer_bench[\"Exec_\" + str(i) + \"%\"] = pd.Series(Execution_i)\n",
    "    df_buyer_bench[\"Judge_\" + str(i) + \"%\"] = pd.Series(Judge_i)\n",
    "\n",
    "#     Judge_success.append((df_seller_bench[\"Judge_\" + str(i) + \"%\"] == 'True').sum())\n",
    "# #For graph\n",
    "# Judge_success = pd.Series(Judge_success)"
   ]
  },
  {
   "cell_type": "code",
   "execution_count": 21,
   "metadata": {},
   "outputs": [
    {
     "data": {
      "text/html": [
       "<div>\n",
       "<style scoped>\n",
       "    .dataframe tbody tr th:only-of-type {\n",
       "        vertical-align: middle;\n",
       "    }\n",
       "\n",
       "    .dataframe tbody tr th {\n",
       "        vertical-align: top;\n",
       "    }\n",
       "\n",
       "    .dataframe thead th {\n",
       "        text-align: right;\n",
       "    }\n",
       "</style>\n",
       "<table border=\"1\" class=\"dataframe\">\n",
       "  <thead>\n",
       "    <tr style=\"text-align: right;\">\n",
       "      <th></th>\n",
       "      <th>Date</th>\n",
       "      <th>HH</th>\n",
       "      <th>date_block_num</th>\n",
       "      <th>Open</th>\n",
       "      <th>High</th>\n",
       "      <th>Low</th>\n",
       "      <th>Close</th>\n",
       "      <th>Spot</th>\n",
       "      <th>DateTime</th>\n",
       "      <th>Exec_0%</th>\n",
       "      <th>...</th>\n",
       "      <th>Exec_16%</th>\n",
       "      <th>Judge_16%</th>\n",
       "      <th>Exec_17%</th>\n",
       "      <th>Judge_17%</th>\n",
       "      <th>Exec_18%</th>\n",
       "      <th>Judge_18%</th>\n",
       "      <th>Exec_19%</th>\n",
       "      <th>Judge_19%</th>\n",
       "      <th>Exec_20%</th>\n",
       "      <th>Judge_20%</th>\n",
       "    </tr>\n",
       "  </thead>\n",
       "  <tbody>\n",
       "    <tr>\n",
       "      <th>0</th>\n",
       "      <td>2016-04-01</td>\n",
       "      <td>1</td>\n",
       "      <td>1</td>\n",
       "      <td>7.69</td>\n",
       "      <td>7.69</td>\n",
       "      <td>7.69</td>\n",
       "      <td>7.69</td>\n",
       "      <td>6.61</td>\n",
       "      <td>2016-04-01 00:00:00</td>\n",
       "      <td>7.69</td>\n",
       "      <td>...</td>\n",
       "      <td>7.69</td>\n",
       "      <td>False</td>\n",
       "      <td>7.69</td>\n",
       "      <td>False</td>\n",
       "      <td>7.69</td>\n",
       "      <td>False</td>\n",
       "      <td>7.69</td>\n",
       "      <td>False</td>\n",
       "      <td>7.69</td>\n",
       "      <td>False</td>\n",
       "    </tr>\n",
       "    <tr>\n",
       "      <th>1</th>\n",
       "      <td>2016-04-01</td>\n",
       "      <td>2</td>\n",
       "      <td>1</td>\n",
       "      <td>7.45</td>\n",
       "      <td>7.45</td>\n",
       "      <td>7.45</td>\n",
       "      <td>7.45</td>\n",
       "      <td>6.34</td>\n",
       "      <td>2016-04-01 00:30:00</td>\n",
       "      <td>7.45</td>\n",
       "      <td>...</td>\n",
       "      <td>7.45</td>\n",
       "      <td>False</td>\n",
       "      <td>7.45</td>\n",
       "      <td>False</td>\n",
       "      <td>7.45</td>\n",
       "      <td>False</td>\n",
       "      <td>7.45</td>\n",
       "      <td>False</td>\n",
       "      <td>7.45</td>\n",
       "      <td>False</td>\n",
       "    </tr>\n",
       "    <tr>\n",
       "      <th>2</th>\n",
       "      <td>2016-04-01</td>\n",
       "      <td>3</td>\n",
       "      <td>1</td>\n",
       "      <td>7.21</td>\n",
       "      <td>7.21</td>\n",
       "      <td>7.21</td>\n",
       "      <td>7.21</td>\n",
       "      <td>6.34</td>\n",
       "      <td>2016-04-01 01:00:00</td>\n",
       "      <td>7.21</td>\n",
       "      <td>...</td>\n",
       "      <td>7.21</td>\n",
       "      <td>False</td>\n",
       "      <td>7.21</td>\n",
       "      <td>False</td>\n",
       "      <td>7.21</td>\n",
       "      <td>False</td>\n",
       "      <td>7.21</td>\n",
       "      <td>False</td>\n",
       "      <td>7.21</td>\n",
       "      <td>False</td>\n",
       "    </tr>\n",
       "    <tr>\n",
       "      <th>3</th>\n",
       "      <td>2016-04-01</td>\n",
       "      <td>4</td>\n",
       "      <td>1</td>\n",
       "      <td>7.06</td>\n",
       "      <td>7.06</td>\n",
       "      <td>7.06</td>\n",
       "      <td>7.06</td>\n",
       "      <td>6.25</td>\n",
       "      <td>2016-04-01 01:30:00</td>\n",
       "      <td>7.06</td>\n",
       "      <td>...</td>\n",
       "      <td>7.06</td>\n",
       "      <td>False</td>\n",
       "      <td>7.06</td>\n",
       "      <td>False</td>\n",
       "      <td>7.06</td>\n",
       "      <td>False</td>\n",
       "      <td>7.06</td>\n",
       "      <td>False</td>\n",
       "      <td>7.06</td>\n",
       "      <td>False</td>\n",
       "    </tr>\n",
       "    <tr>\n",
       "      <th>4</th>\n",
       "      <td>2016-04-01</td>\n",
       "      <td>5</td>\n",
       "      <td>1</td>\n",
       "      <td>7.21</td>\n",
       "      <td>7.21</td>\n",
       "      <td>7.21</td>\n",
       "      <td>7.21</td>\n",
       "      <td>6.57</td>\n",
       "      <td>2016-04-01 02:00:00</td>\n",
       "      <td>7.21</td>\n",
       "      <td>...</td>\n",
       "      <td>7.21</td>\n",
       "      <td>False</td>\n",
       "      <td>7.21</td>\n",
       "      <td>False</td>\n",
       "      <td>7.21</td>\n",
       "      <td>False</td>\n",
       "      <td>7.21</td>\n",
       "      <td>False</td>\n",
       "      <td>7.21</td>\n",
       "      <td>False</td>\n",
       "    </tr>\n",
       "  </tbody>\n",
       "</table>\n",
       "<p>5 rows × 51 columns</p>\n",
       "</div>"
      ],
      "text/plain": [
       "         Date  HH  date_block_num  Open  High   Low  Close  Spot  \\\n",
       "0  2016-04-01   1               1  7.69  7.69  7.69   7.69  6.61   \n",
       "1  2016-04-01   2               1  7.45  7.45  7.45   7.45  6.34   \n",
       "2  2016-04-01   3               1  7.21  7.21  7.21   7.21  6.34   \n",
       "3  2016-04-01   4               1  7.06  7.06  7.06   7.06  6.25   \n",
       "4  2016-04-01   5               1  7.21  7.21  7.21   7.21  6.57   \n",
       "\n",
       "              DateTime  Exec_0%  ... Exec_16%  Judge_16% Exec_17%  Judge_17%  \\\n",
       "0  2016-04-01 00:00:00     7.69  ...     7.69      False     7.69      False   \n",
       "1  2016-04-01 00:30:00     7.45  ...     7.45      False     7.45      False   \n",
       "2  2016-04-01 01:00:00     7.21  ...     7.21      False     7.21      False   \n",
       "3  2016-04-01 01:30:00     7.06  ...     7.06      False     7.06      False   \n",
       "4  2016-04-01 02:00:00     7.21  ...     7.21      False     7.21      False   \n",
       "\n",
       "  Exec_18%  Judge_18% Exec_19%  Judge_19% Exec_20%  Judge_20%  \n",
       "0     7.69      False     7.69      False     7.69      False  \n",
       "1     7.45      False     7.45      False     7.45      False  \n",
       "2     7.21      False     7.21      False     7.21      False  \n",
       "3     7.06      False     7.06      False     7.06      False  \n",
       "4     7.21      False     7.21      False     7.21      False  \n",
       "\n",
       "[5 rows x 51 columns]"
      ]
     },
     "execution_count": 21,
     "metadata": {},
     "output_type": "execute_result"
    }
   ],
   "source": [
    "df_buyer_bench.head()"
   ]
  },
  {
   "cell_type": "markdown",
   "metadata": {},
   "source": [
    "### Strategy"
   ]
  },
  {
   "cell_type": "code",
   "execution_count": 22,
   "metadata": {},
   "outputs": [],
   "source": [
    "# Set higher price for ask order on benchmark\n",
    "df_buyer_strategy = df_prediction.copy()\n",
    "\n",
    "# Make Order columns on benchmark\n",
    "Low_list = list(df_buyer_strategy[\"Low\"])\n",
    "Close_list = list(df_buyer_strategy[\"Close\"])\n",
    "\n",
    "# Judge_success = []\n",
    "\n",
    "# 0%から20%くらいで一旦様子見 (分析次第)\n",
    "for i in list(range(0, 21, 1)):\n",
    "\n",
    "# Make Execution columns on benchmark\n",
    "    Execution_i = []\n",
    "    Judge_i = []\n",
    "    Order_list_i = list((df_buyer_strategy[\"Close_pred\"]* (1 - i/100)).round(2))\n",
    "    for o, l, c  in zip(Order_list_i, Low_list, Close_list):\n",
    "        if o >= l:\n",
    "            Execution_i.append(o)\n",
    "            Judge_i.append(\"True\")\n",
    "        else:\n",
    "            Execution_i.append(c)\n",
    "            Judge_i.append(\"False\")\n",
    "    df_buyer_strategy[\"Exec_\" + str(i) + \"%\"] = pd.Series(Execution_i)\n",
    "    df_buyer_strategy[\"Judge_\" + str(i) + \"%\"] = pd.Series(Judge_i)\n",
    "\n",
    "#     Judge_success.append((df_seller_bench[\"Judge_\" + str(i) + \"%\"] == 'True').sum())\n",
    "# #For graph\n",
    "# Judge_success = pd.Series(Judge_success)"
   ]
  },
  {
   "cell_type": "code",
   "execution_count": 23,
   "metadata": {},
   "outputs": [
    {
     "data": {
      "text/html": [
       "<div>\n",
       "<style scoped>\n",
       "    .dataframe tbody tr th:only-of-type {\n",
       "        vertical-align: middle;\n",
       "    }\n",
       "\n",
       "    .dataframe tbody tr th {\n",
       "        vertical-align: top;\n",
       "    }\n",
       "\n",
       "    .dataframe thead th {\n",
       "        text-align: right;\n",
       "    }\n",
       "</style>\n",
       "<table border=\"1\" class=\"dataframe\">\n",
       "  <thead>\n",
       "    <tr style=\"text-align: right;\">\n",
       "      <th></th>\n",
       "      <th>Date</th>\n",
       "      <th>HH</th>\n",
       "      <th>date_block_num</th>\n",
       "      <th>Open</th>\n",
       "      <th>High</th>\n",
       "      <th>Low</th>\n",
       "      <th>Close</th>\n",
       "      <th>Spot</th>\n",
       "      <th>DateTime</th>\n",
       "      <th>Close_pred</th>\n",
       "      <th>...</th>\n",
       "      <th>Exec_16%</th>\n",
       "      <th>Judge_16%</th>\n",
       "      <th>Exec_17%</th>\n",
       "      <th>Judge_17%</th>\n",
       "      <th>Exec_18%</th>\n",
       "      <th>Judge_18%</th>\n",
       "      <th>Exec_19%</th>\n",
       "      <th>Judge_19%</th>\n",
       "      <th>Exec_20%</th>\n",
       "      <th>Judge_20%</th>\n",
       "    </tr>\n",
       "  </thead>\n",
       "  <tbody>\n",
       "    <tr>\n",
       "      <th>0</th>\n",
       "      <td>2016-04-01</td>\n",
       "      <td>1</td>\n",
       "      <td>1</td>\n",
       "      <td>7.69</td>\n",
       "      <td>7.69</td>\n",
       "      <td>7.69</td>\n",
       "      <td>7.69</td>\n",
       "      <td>6.61</td>\n",
       "      <td>2016-04-01 00:00:00</td>\n",
       "      <td>5.49</td>\n",
       "      <td>...</td>\n",
       "      <td>7.69</td>\n",
       "      <td>False</td>\n",
       "      <td>7.69</td>\n",
       "      <td>False</td>\n",
       "      <td>7.69</td>\n",
       "      <td>False</td>\n",
       "      <td>7.69</td>\n",
       "      <td>False</td>\n",
       "      <td>7.69</td>\n",
       "      <td>False</td>\n",
       "    </tr>\n",
       "    <tr>\n",
       "      <th>1</th>\n",
       "      <td>2016-04-01</td>\n",
       "      <td>2</td>\n",
       "      <td>1</td>\n",
       "      <td>7.45</td>\n",
       "      <td>7.45</td>\n",
       "      <td>7.45</td>\n",
       "      <td>7.45</td>\n",
       "      <td>6.34</td>\n",
       "      <td>2016-04-01 00:30:00</td>\n",
       "      <td>5.29</td>\n",
       "      <td>...</td>\n",
       "      <td>7.45</td>\n",
       "      <td>False</td>\n",
       "      <td>7.45</td>\n",
       "      <td>False</td>\n",
       "      <td>7.45</td>\n",
       "      <td>False</td>\n",
       "      <td>7.45</td>\n",
       "      <td>False</td>\n",
       "      <td>7.45</td>\n",
       "      <td>False</td>\n",
       "    </tr>\n",
       "    <tr>\n",
       "      <th>2</th>\n",
       "      <td>2016-04-01</td>\n",
       "      <td>3</td>\n",
       "      <td>1</td>\n",
       "      <td>7.21</td>\n",
       "      <td>7.21</td>\n",
       "      <td>7.21</td>\n",
       "      <td>7.21</td>\n",
       "      <td>6.34</td>\n",
       "      <td>2016-04-01 01:00:00</td>\n",
       "      <td>5.27</td>\n",
       "      <td>...</td>\n",
       "      <td>7.21</td>\n",
       "      <td>False</td>\n",
       "      <td>7.21</td>\n",
       "      <td>False</td>\n",
       "      <td>7.21</td>\n",
       "      <td>False</td>\n",
       "      <td>7.21</td>\n",
       "      <td>False</td>\n",
       "      <td>7.21</td>\n",
       "      <td>False</td>\n",
       "    </tr>\n",
       "    <tr>\n",
       "      <th>3</th>\n",
       "      <td>2016-04-01</td>\n",
       "      <td>4</td>\n",
       "      <td>1</td>\n",
       "      <td>7.06</td>\n",
       "      <td>7.06</td>\n",
       "      <td>7.06</td>\n",
       "      <td>7.06</td>\n",
       "      <td>6.25</td>\n",
       "      <td>2016-04-01 01:30:00</td>\n",
       "      <td>5.16</td>\n",
       "      <td>...</td>\n",
       "      <td>7.06</td>\n",
       "      <td>False</td>\n",
       "      <td>7.06</td>\n",
       "      <td>False</td>\n",
       "      <td>7.06</td>\n",
       "      <td>False</td>\n",
       "      <td>7.06</td>\n",
       "      <td>False</td>\n",
       "      <td>7.06</td>\n",
       "      <td>False</td>\n",
       "    </tr>\n",
       "    <tr>\n",
       "      <th>4</th>\n",
       "      <td>2016-04-01</td>\n",
       "      <td>5</td>\n",
       "      <td>1</td>\n",
       "      <td>7.21</td>\n",
       "      <td>7.21</td>\n",
       "      <td>7.21</td>\n",
       "      <td>7.21</td>\n",
       "      <td>6.57</td>\n",
       "      <td>2016-04-01 02:00:00</td>\n",
       "      <td>5.48</td>\n",
       "      <td>...</td>\n",
       "      <td>7.21</td>\n",
       "      <td>False</td>\n",
       "      <td>7.21</td>\n",
       "      <td>False</td>\n",
       "      <td>7.21</td>\n",
       "      <td>False</td>\n",
       "      <td>7.21</td>\n",
       "      <td>False</td>\n",
       "      <td>7.21</td>\n",
       "      <td>False</td>\n",
       "    </tr>\n",
       "  </tbody>\n",
       "</table>\n",
       "<p>5 rows × 52 columns</p>\n",
       "</div>"
      ],
      "text/plain": [
       "         Date  HH  date_block_num  Open  High   Low  Close  Spot  \\\n",
       "0  2016-04-01   1               1  7.69  7.69  7.69   7.69  6.61   \n",
       "1  2016-04-01   2               1  7.45  7.45  7.45   7.45  6.34   \n",
       "2  2016-04-01   3               1  7.21  7.21  7.21   7.21  6.34   \n",
       "3  2016-04-01   4               1  7.06  7.06  7.06   7.06  6.25   \n",
       "4  2016-04-01   5               1  7.21  7.21  7.21   7.21  6.57   \n",
       "\n",
       "              DateTime  Close_pred  ...  Exec_16% Judge_16%  Exec_17%  \\\n",
       "0  2016-04-01 00:00:00        5.49  ...      7.69     False      7.69   \n",
       "1  2016-04-01 00:30:00        5.29  ...      7.45     False      7.45   \n",
       "2  2016-04-01 01:00:00        5.27  ...      7.21     False      7.21   \n",
       "3  2016-04-01 01:30:00        5.16  ...      7.06     False      7.06   \n",
       "4  2016-04-01 02:00:00        5.48  ...      7.21     False      7.21   \n",
       "\n",
       "  Judge_17%  Exec_18% Judge_18%  Exec_19% Judge_19%  Exec_20% Judge_20%  \n",
       "0     False      7.69     False      7.69     False      7.69     False  \n",
       "1     False      7.45     False      7.45     False      7.45     False  \n",
       "2     False      7.21     False      7.21     False      7.21     False  \n",
       "3     False      7.06     False      7.06     False      7.06     False  \n",
       "4     False      7.21     False      7.21     False      7.21     False  \n",
       "\n",
       "[5 rows x 52 columns]"
      ]
     },
     "execution_count": 23,
     "metadata": {},
     "output_type": "execute_result"
    }
   ],
   "source": [
    "df_buyer_strategy.head()"
   ]
  },
  {
   "cell_type": "markdown",
   "metadata": {},
   "source": [
    "## Construct Portfolios"
   ]
  },
  {
   "cell_type": "markdown",
   "metadata": {},
   "source": [
    "- Spot と Intraの組み合わせをポートフォリオと捉える\n",
    "- 以下の戦略について指値 -α %で構築\n",
    "    -->10ポートフォリオ×20執行パターン×２(Bench＆Strategy) = 200パターン出来上がる -->ループ必須\n",
    "\n",
    "\n",
    "1)Weightの設定\n",
    "\n",
    "2)Excution_bufferの設定\n",
    "\n",
    "3)Spotのweightを変化させてそれぞれのリターン(差額)を返す"
   ]
  },
  {
   "cell_type": "markdown",
   "metadata": {},
   "source": [
    "### Benchmark Portfolio"
   ]
  },
  {
   "cell_type": "code",
   "execution_count": 24,
   "metadata": {},
   "outputs": [],
   "source": [
    "# できればポートフォリオ構築と評価は分けておきたい (ややこしくなるならスキップ)"
   ]
  },
  {
   "cell_type": "markdown",
   "metadata": {},
   "source": [
    "### Strategy Portfolio"
   ]
  },
  {
   "cell_type": "code",
   "execution_count": 25,
   "metadata": {},
   "outputs": [],
   "source": [
    "# できればポートフォリオ構築と評価は分けておきたい (ややこしくなるならスキップ)"
   ]
  },
  {
   "cell_type": "markdown",
   "metadata": {},
   "source": [
    "## Evaluation function"
   ]
  },
  {
   "cell_type": "markdown",
   "metadata": {},
   "source": [
    "以下の算出式を整理しておく\n",
    "- Return = 買取価格 (単純に買うだけだから、タイミングの問題、Spot/Close/Predicted/指値+-a%)\n",
    "- Standard Deviation = 期間中のStandard deviationを確認\n",
    "- Sharp-ratio = 上記から算出し、ベンチマークと各戦略の値を比較 -->安いほうが勝ち\n",
    "- VaR = ？？\n",
    "\n",
    "※一旦全期間で評価してるけど、年間で分けたほうが良さそう"
   ]
  },
  {
   "cell_type": "markdown",
   "metadata": {},
   "source": [
    "### Benchmark portfolio"
   ]
  },
  {
   "cell_type": "code",
   "execution_count": 26,
   "metadata": {
    "scrolled": true
   },
   "outputs": [],
   "source": [
    "# ここで最終的に欲しいものは上記数値\n",
    "# Benchmarkのポートフォリオ\n",
    "\n",
    "Spot_list = list(df_buyer_bench[\"Spot\"])\n",
    "\n",
    "portfolio_weights= [0, 0.1, 0.2, 0.3, 0.4, 0.5, 0.6, 0.7, 0.8, 0.9, 1.0]\n",
    "execution_buffers = list(range(0, 21, 1))\n",
    "\n",
    "# 算出結果を格納するリスト\n",
    "cols = []\n",
    "\n",
    "Return = [] \n",
    "PortfolioReturn = []\n",
    "StandardDeviation = []\n",
    "Max = []\n",
    "Min = []\n",
    "SharpRatio = []\n",
    "\n",
    "\n",
    "for i in execution_buffers:\n",
    "    Exec_list = list(df_buyer_bench[\"Exec_\" + str(i) + \"%\"]) # Exec_listをexecution_bufferに合わせて再設定\n",
    "    for weight in portfolio_weights:\n",
    "        Return = [] #ループ毎にreturnを格納するリストを再設定\n",
    "        for spot, execution in zip(Spot_list, Exec_list):\n",
    "            # Spotで全約定した場合、spot*weightをReturn[]に格納していく\n",
    "            if weight == 1.0:\n",
    "                #Returnを格納\n",
    "                Return.append(spot*weight)\n",
    "            #Spotで約定できなかった場合、spot*weight + execution*(1-weight)をReturn[]に格納していく\n",
    "            else:\n",
    "                #Returnを格納\n",
    "                Return.append(spot*weight + execution*(1-weight))\n",
    "\n",
    "        if weight == 1.0:\n",
    "            cols.append(\"Spot\" + str(weight*100))\n",
    "        else:\n",
    "            cols.append(\"Spot\" + str(weight*100) + \"%&Order+\" +str(i) + \"%\")\n",
    "\n",
    "        #30ポートフォリオの算出結果をリストに格納していく\n",
    "        Return = pd.Series(Return)\n",
    "        PortfolioReturn.append(Return.mean().round(2))\n",
    "        StandardDeviation.append(Return.std().round(2))\n",
    "        Max.append(Return.max().round(2))\n",
    "        Min.append(Return.min().round(2))\n",
    "        SharpRatio.append((Return.mean()/Return.std()).round(2))\n",
    "\n",
    "\n",
    "#df_portfolio_benchの列を設定し、行列を入替えて調整する\n",
    "df_portfolio_bench = pd.DataFrame()\n",
    "df_portfolio_bench = df_portfolio_bench.T\n",
    "\n",
    "#各算出結果をdf_portfolio_benchの列へ追加する\n",
    "df_portfolio_bench[\"PortfolioReturn\"] = pd.Series(PortfolioReturn)\n",
    "df_portfolio_bench[\"StandardDeviation\"] = pd.Series(StandardDeviation)\n",
    "df_portfolio_bench[\"Max\"] = pd.Series(Max)\n",
    "df_portfolio_bench[\"Min\"] = pd.Series(Min)\n",
    "df_portfolio_bench[\"SharpRatio\"] = pd.Series(SharpRatio)\n",
    "df_portfolio_bench.index = cols"
   ]
  },
  {
   "cell_type": "code",
   "execution_count": 27,
   "metadata": {
    "scrolled": true
   },
   "outputs": [
    {
     "data": {
      "image/png": "[encoded data removed]",
      "text/plain": [
       "<Figure size 1152x144 with 1 Axes>"
      ]
     },
     "metadata": {
      "needs_background": "light"
     },
     "output_type": "display_data"
    }
   ],
   "source": [
    "fig, ax = plt.subplots(1, figsize=plt.figaspect(.05))\n",
    "df_portfolio_bench[\"SharpRatio\"].plot()\n",
    "plt.legend(loc=\"upper left\");"
   ]
  },
  {
   "cell_type": "code",
   "execution_count": 28,
   "metadata": {
    "scrolled": true
   },
   "outputs": [
    {
     "data": {
      "text/html": [
       "<div>\n",
       "<style scoped>\n",
       "    .dataframe tbody tr th:only-of-type {\n",
       "        vertical-align: middle;\n",
       "    }\n",
       "\n",
       "    .dataframe tbody tr th {\n",
       "        vertical-align: top;\n",
       "    }\n",
       "\n",
       "    .dataframe thead th {\n",
       "        text-align: right;\n",
       "    }\n",
       "</style>\n",
       "<table border=\"1\" class=\"dataframe\">\n",
       "  <thead>\n",
       "    <tr style=\"text-align: right;\">\n",
       "      <th></th>\n",
       "      <th>PortfolioReturn</th>\n",
       "      <th>StandardDeviation</th>\n",
       "      <th>Max</th>\n",
       "      <th>Min</th>\n",
       "      <th>SharpRatio</th>\n",
       "    </tr>\n",
       "  </thead>\n",
       "  <tbody>\n",
       "    <tr>\n",
       "      <th>count</th>\n",
       "      <td>231.000000</td>\n",
       "      <td>231.000000</td>\n",
       "      <td>231.000000</td>\n",
       "      <td>2.310000e+02</td>\n",
       "      <td>231.000000</td>\n",
       "    </tr>\n",
       "    <tr>\n",
       "      <th>mean</th>\n",
       "      <td>8.337662</td>\n",
       "      <td>4.070909</td>\n",
       "      <td>102.411342</td>\n",
       "      <td>1.000000e-02</td>\n",
       "      <td>2.048139</td>\n",
       "    </tr>\n",
       "    <tr>\n",
       "      <th>std</th>\n",
       "      <td>0.200236</td>\n",
       "      <td>0.062842</td>\n",
       "      <td>24.360176</td>\n",
       "      <td>1.738491e-18</td>\n",
       "      <td>0.027481</td>\n",
       "    </tr>\n",
       "    <tr>\n",
       "      <th>min</th>\n",
       "      <td>7.830000</td>\n",
       "      <td>3.960000</td>\n",
       "      <td>78.560000</td>\n",
       "      <td>1.000000e-02</td>\n",
       "      <td>1.930000</td>\n",
       "    </tr>\n",
       "    <tr>\n",
       "      <th>25%</th>\n",
       "      <td>8.200000</td>\n",
       "      <td>4.010000</td>\n",
       "      <td>79.680000</td>\n",
       "      <td>1.000000e-02</td>\n",
       "      <td>2.050000</td>\n",
       "    </tr>\n",
       "    <tr>\n",
       "      <th>50%</th>\n",
       "      <td>8.390000</td>\n",
       "      <td>4.070000</td>\n",
       "      <td>98.520000</td>\n",
       "      <td>1.000000e-02</td>\n",
       "      <td>2.060000</td>\n",
       "    </tr>\n",
       "    <tr>\n",
       "      <th>75%</th>\n",
       "      <td>8.510000</td>\n",
       "      <td>4.130000</td>\n",
       "      <td>121.345000</td>\n",
       "      <td>1.000000e-02</td>\n",
       "      <td>2.060000</td>\n",
       "    </tr>\n",
       "    <tr>\n",
       "      <th>max</th>\n",
       "      <td>8.630000</td>\n",
       "      <td>4.190000</td>\n",
       "      <td>150.000000</td>\n",
       "      <td>1.000000e-02</td>\n",
       "      <td>2.080000</td>\n",
       "    </tr>\n",
       "  </tbody>\n",
       "</table>\n",
       "</div>"
      ],
      "text/plain": [
       "       PortfolioReturn  StandardDeviation         Max           Min  \\\n",
       "count       231.000000         231.000000  231.000000  2.310000e+02   \n",
       "mean          8.337662           4.070909  102.411342  1.000000e-02   \n",
       "std           0.200236           0.062842   24.360176  1.738491e-18   \n",
       "min           7.830000           3.960000   78.560000  1.000000e-02   \n",
       "25%           8.200000           4.010000   79.680000  1.000000e-02   \n",
       "50%           8.390000           4.070000   98.520000  1.000000e-02   \n",
       "75%           8.510000           4.130000  121.345000  1.000000e-02   \n",
       "max           8.630000           4.190000  150.000000  1.000000e-02   \n",
       "\n",
       "       SharpRatio  \n",
       "count  231.000000  \n",
       "mean     2.048139  \n",
       "std      0.027481  \n",
       "min      1.930000  \n",
       "25%      2.050000  \n",
       "50%      2.060000  \n",
       "75%      2.060000  \n",
       "max      2.080000  "
      ]
     },
     "execution_count": 28,
     "metadata": {},
     "output_type": "execute_result"
    }
   ],
   "source": [
    "df_portfolio_bench.describe()"
   ]
  },
  {
   "cell_type": "code",
   "execution_count": 29,
   "metadata": {
    "scrolled": false
   },
   "outputs": [
    {
     "data": {
      "text/html": [
       "<div>\n",
       "<style scoped>\n",
       "    .dataframe tbody tr th:only-of-type {\n",
       "        vertical-align: middle;\n",
       "    }\n",
       "\n",
       "    .dataframe tbody tr th {\n",
       "        vertical-align: top;\n",
       "    }\n",
       "\n",
       "    .dataframe thead th {\n",
       "        text-align: right;\n",
       "    }\n",
       "</style>\n",
       "<table border=\"1\" class=\"dataframe\">\n",
       "  <thead>\n",
       "    <tr style=\"text-align: right;\">\n",
       "      <th></th>\n",
       "      <th>PortfolioReturn</th>\n",
       "      <th>StandardDeviation</th>\n",
       "      <th>Max</th>\n",
       "      <th>Min</th>\n",
       "      <th>SharpRatio</th>\n",
       "    </tr>\n",
       "  </thead>\n",
       "  <tbody>\n",
       "  </tbody>\n",
       "</table>\n",
       "</div>"
      ],
      "text/plain": [
       "Empty DataFrame\n",
       "Columns: [PortfolioReturn, StandardDeviation, Max, Min, SharpRatio]\n",
       "Index: []"
      ]
     },
     "execution_count": 29,
     "metadata": {},
     "output_type": "execute_result"
    }
   ],
   "source": [
    "df_portfolio_bench[df_portfolio_bench[\"StandardDeviation\"] == 4.41]"
   ]
  },
  {
   "cell_type": "code",
   "execution_count": 30,
   "metadata": {},
   "outputs": [
    {
     "data": {
      "text/html": [
       "<div>\n",
       "<style scoped>\n",
       "    .dataframe tbody tr th:only-of-type {\n",
       "        vertical-align: middle;\n",
       "    }\n",
       "\n",
       "    .dataframe tbody tr th {\n",
       "        vertical-align: top;\n",
       "    }\n",
       "\n",
       "    .dataframe thead th {\n",
       "        text-align: right;\n",
       "    }\n",
       "</style>\n",
       "<table border=\"1\" class=\"dataframe\">\n",
       "  <thead>\n",
       "    <tr style=\"text-align: right;\">\n",
       "      <th></th>\n",
       "      <th>PortfolioReturn</th>\n",
       "      <th>StandardDeviation</th>\n",
       "      <th>Max</th>\n",
       "      <th>Min</th>\n",
       "      <th>SharpRatio</th>\n",
       "    </tr>\n",
       "  </thead>\n",
       "  <tbody>\n",
       "  </tbody>\n",
       "</table>\n",
       "</div>"
      ],
      "text/plain": [
       "Empty DataFrame\n",
       "Columns: [PortfolioReturn, StandardDeviation, Max, Min, SharpRatio]\n",
       "Index: []"
      ]
     },
     "execution_count": 30,
     "metadata": {},
     "output_type": "execute_result"
    }
   ],
   "source": [
    "df_portfolio_bench[df_portfolio_bench[\"SharpRatio\"] == 1.87]"
   ]
  },
  {
   "cell_type": "code",
   "execution_count": 31,
   "metadata": {
    "scrolled": false
   },
   "outputs": [
    {
     "data": {
      "text/plain": [
       "<matplotlib.collections.PathCollection at 0x123763810>"
      ]
     },
     "execution_count": 31,
     "metadata": {},
     "output_type": "execute_result"
    },
    {
     "data": {
      "image/png": "[encoded data removed]",
      "text/plain": [
       "<Figure size 432x288 with 1 Axes>"
      ]
     },
     "metadata": {
      "needs_background": "light"
     },
     "output_type": "display_data"
    }
   ],
   "source": [
    "# fig, ax = plt.subplots(1, figsize=plt.figaspect(.25))\n",
    "plt.hlines(8.24, df_portfolio_bench[\"StandardDeviation\"].min(), df_portfolio_bench[\"StandardDeviation\"].max(), label=\"Minimum risk\", linestyle=\"dashed\", color=\"r\")\n",
    "plt.scatter(x=df_portfolio_bench[\"StandardDeviation\"], y=df_portfolio_bench[\"PortfolioReturn\"])"
   ]
  },
  {
   "cell_type": "markdown",
   "metadata": {},
   "source": [
    "[Benchmark] Buyerのケースのリターンについてはもう少し検討が必要<p>\n",
    "    \n",
    "Efficient frontier: PortfolioReturn < 8.24 <p>\n",
    "Min_SharpRatio = 1.87"
   ]
  },
  {
   "cell_type": "code",
   "execution_count": null,
   "metadata": {},
   "outputs": [],
   "source": []
  },
  {
   "cell_type": "code",
   "execution_count": null,
   "metadata": {},
   "outputs": [],
   "source": []
  },
  {
   "cell_type": "code",
   "execution_count": null,
   "metadata": {},
   "outputs": [],
   "source": []
  },
  {
   "cell_type": "markdown",
   "metadata": {},
   "source": [
    "### Strategy portfolio"
   ]
  },
  {
   "cell_type": "code",
   "execution_count": 32,
   "metadata": {
    "scrolled": true
   },
   "outputs": [],
   "source": [
    "# ここで最終的に欲しいものは上記数値\n",
    "# Strategyのポートフォリオ\n",
    "\n",
    "Spot_list = list(df_buyer_strategy[\"Spot\"])\n",
    "\n",
    "portfolio_weights= [0, 0.1, 0.2, 0.3, 0.4, 0.5, 0.6, 0.7, 0.8, 0.9, 1.0]\n",
    "execution_buffers = list(range(0, 21, 1))\n",
    "\n",
    "# 算出結果を格納するリスト\n",
    "cols = []\n",
    "\n",
    "Return = [] \n",
    "PortfolioReturn = []\n",
    "StandardDeviation = []\n",
    "Max = []\n",
    "Min = []\n",
    "SharpRatio = []\n",
    "\n",
    "\n",
    "for i in execution_buffers:\n",
    "    Exec_list = list(df_buyer_strategy[\"Exec_\" + str(i) + \"%\"]) # Exec_listをexecution_bufferに合わせて再設定\n",
    "    for weight in portfolio_weights:\n",
    "        Return = [] #ループ毎にreturnを格納するリストを再設定\n",
    "        for spot, execution in zip(Spot_list, Exec_list):\n",
    "            # Spotで全約定した場合、spot*weightをReturn[]に格納していく\n",
    "            if weight == 1.0:\n",
    "                #Returnを格納\n",
    "                Return.append(spot*weight)\n",
    "            #Spotで約定できなかった場合、spot*weight + execution*(1-weight)をReturn[]に格納していく\n",
    "            else:\n",
    "                #Returnを格納\n",
    "                Return.append(spot*weight + execution*(1-weight))\n",
    "\n",
    "        if weight == 1.0:\n",
    "            cols.append(\"Spot\" + str(weight*100))\n",
    "        else:\n",
    "            cols.append(\"Spot\" + str(weight*100) + \"%&Order+\" +str(i) + \"%\")\n",
    "\n",
    "        #30ポートフォリオの算出結果をリストに格納していく\n",
    "        Return = pd.Series(Return)\n",
    "        PortfolioReturn.append(Return.mean().round(2))\n",
    "        StandardDeviation.append(Return.std().round(2))\n",
    "        Max.append(Return.max().round(2))\n",
    "        Min.append(Return.min().round(2))\n",
    "        SharpRatio.append((Return.mean()/Return.std()).round(2))\n",
    "\n",
    "\n",
    "#df_portfolio_benchの列を設定し、行列を入替えて調整する\n",
    "df_buyer_strategy = pd.DataFrame()\n",
    "df_buyer_strategy = df_buyer_strategy.T\n",
    "\n",
    "#各算出結果をdf_portfolio_benchの列へ追加する\n",
    "df_buyer_strategy[\"PortfolioReturn\"] = pd.Series(PortfolioReturn)\n",
    "df_buyer_strategy[\"StandardDeviation\"] = pd.Series(StandardDeviation)\n",
    "df_buyer_strategy[\"Max\"] = pd.Series(Max)\n",
    "df_buyer_strategy[\"Min\"] = pd.Series(Min)\n",
    "df_buyer_strategy[\"SharpRatio\"] = pd.Series(SharpRatio)\n",
    "df_buyer_strategy.index = cols"
   ]
  },
  {
   "cell_type": "code",
   "execution_count": 33,
   "metadata": {
    "scrolled": true
   },
   "outputs": [
    {
     "data": {
      "image/png": "[encoded data removed]",
      "text/plain": [
       "<Figure size 1152x144 with 1 Axes>"
      ]
     },
     "metadata": {
      "needs_background": "light"
     },
     "output_type": "display_data"
    }
   ],
   "source": [
    "fig, ax = plt.subplots(1, figsize=plt.figaspect(.05))\n",
    "df_buyer_strategy[\"SharpRatio\"].plot()\n",
    "plt.legend(loc=\"upper left\");"
   ]
  },
  {
   "cell_type": "code",
   "execution_count": 34,
   "metadata": {
    "scrolled": true
   },
   "outputs": [
    {
     "data": {
      "text/html": [
       "<div>\n",
       "<style scoped>\n",
       "    .dataframe tbody tr th:only-of-type {\n",
       "        vertical-align: middle;\n",
       "    }\n",
       "\n",
       "    .dataframe tbody tr th {\n",
       "        vertical-align: top;\n",
       "    }\n",
       "\n",
       "    .dataframe thead th {\n",
       "        text-align: right;\n",
       "    }\n",
       "</style>\n",
       "<table border=\"1\" class=\"dataframe\">\n",
       "  <thead>\n",
       "    <tr style=\"text-align: right;\">\n",
       "      <th></th>\n",
       "      <th>PortfolioReturn</th>\n",
       "      <th>StandardDeviation</th>\n",
       "      <th>Max</th>\n",
       "      <th>Min</th>\n",
       "      <th>SharpRatio</th>\n",
       "    </tr>\n",
       "  </thead>\n",
       "  <tbody>\n",
       "    <tr>\n",
       "      <th>count</th>\n",
       "      <td>231.000000</td>\n",
       "      <td>231.000000</td>\n",
       "      <td>231.000000</td>\n",
       "      <td>231.000000</td>\n",
       "      <td>231.000000</td>\n",
       "    </tr>\n",
       "    <tr>\n",
       "      <th>mean</th>\n",
       "      <td>8.255152</td>\n",
       "      <td>3.936797</td>\n",
       "      <td>104.698182</td>\n",
       "      <td>0.104329</td>\n",
       "      <td>2.097489</td>\n",
       "    </tr>\n",
       "    <tr>\n",
       "      <th>std</th>\n",
       "      <td>0.232092</td>\n",
       "      <td>0.108476</td>\n",
       "      <td>25.222987</td>\n",
       "      <td>0.060010</td>\n",
       "      <td>0.047234</td>\n",
       "    </tr>\n",
       "    <tr>\n",
       "      <th>min</th>\n",
       "      <td>7.710000</td>\n",
       "      <td>3.790000</td>\n",
       "      <td>78.950000</td>\n",
       "      <td>0.010000</td>\n",
       "      <td>1.940000</td>\n",
       "    </tr>\n",
       "    <tr>\n",
       "      <th>25%</th>\n",
       "      <td>8.085000</td>\n",
       "      <td>3.850000</td>\n",
       "      <td>79.650000</td>\n",
       "      <td>0.050000</td>\n",
       "      <td>2.070000</td>\n",
       "    </tr>\n",
       "    <tr>\n",
       "      <th>50%</th>\n",
       "      <td>8.300000</td>\n",
       "      <td>3.910000</td>\n",
       "      <td>98.520000</td>\n",
       "      <td>0.110000</td>\n",
       "      <td>2.090000</td>\n",
       "    </tr>\n",
       "    <tr>\n",
       "      <th>75%</th>\n",
       "      <td>8.460000</td>\n",
       "      <td>4.020000</td>\n",
       "      <td>129.410000</td>\n",
       "      <td>0.150000</td>\n",
       "      <td>2.120000</td>\n",
       "    </tr>\n",
       "    <tr>\n",
       "      <th>max</th>\n",
       "      <td>8.540000</td>\n",
       "      <td>4.150000</td>\n",
       "      <td>150.000000</td>\n",
       "      <td>0.220000</td>\n",
       "      <td>2.220000</td>\n",
       "    </tr>\n",
       "  </tbody>\n",
       "</table>\n",
       "</div>"
      ],
      "text/plain": [
       "       PortfolioReturn  StandardDeviation         Max         Min  SharpRatio\n",
       "count       231.000000         231.000000  231.000000  231.000000  231.000000\n",
       "mean          8.255152           3.936797  104.698182    0.104329    2.097489\n",
       "std           0.232092           0.108476   25.222987    0.060010    0.047234\n",
       "min           7.710000           3.790000   78.950000    0.010000    1.940000\n",
       "25%           8.085000           3.850000   79.650000    0.050000    2.070000\n",
       "50%           8.300000           3.910000   98.520000    0.110000    2.090000\n",
       "75%           8.460000           4.020000  129.410000    0.150000    2.120000\n",
       "max           8.540000           4.150000  150.000000    0.220000    2.220000"
      ]
     },
     "execution_count": 34,
     "metadata": {},
     "output_type": "execute_result"
    }
   ],
   "source": [
    "df_buyer_strategy.describe()"
   ]
  },
  {
   "cell_type": "code",
   "execution_count": 35,
   "metadata": {
    "scrolled": false
   },
   "outputs": [
    {
     "data": {
      "text/html": [
       "<div>\n",
       "<style scoped>\n",
       "    .dataframe tbody tr th:only-of-type {\n",
       "        vertical-align: middle;\n",
       "    }\n",
       "\n",
       "    .dataframe tbody tr th {\n",
       "        vertical-align: top;\n",
       "    }\n",
       "\n",
       "    .dataframe thead th {\n",
       "        text-align: right;\n",
       "    }\n",
       "</style>\n",
       "<table border=\"1\" class=\"dataframe\">\n",
       "  <thead>\n",
       "    <tr style=\"text-align: right;\">\n",
       "      <th></th>\n",
       "      <th>PortfolioReturn</th>\n",
       "      <th>StandardDeviation</th>\n",
       "      <th>Max</th>\n",
       "      <th>Min</th>\n",
       "      <th>SharpRatio</th>\n",
       "    </tr>\n",
       "  </thead>\n",
       "  <tbody>\n",
       "  </tbody>\n",
       "</table>\n",
       "</div>"
      ],
      "text/plain": [
       "Empty DataFrame\n",
       "Columns: [PortfolioReturn, StandardDeviation, Max, Min, SharpRatio]\n",
       "Index: []"
      ]
     },
     "execution_count": 35,
     "metadata": {},
     "output_type": "execute_result"
    }
   ],
   "source": [
    "df_buyer_strategy[df_buyer_strategy[\"StandardDeviation\"] == 3.77]"
   ]
  },
  {
   "cell_type": "code",
   "execution_count": 36,
   "metadata": {},
   "outputs": [
    {
     "data": {
      "text/html": [
       "<div>\n",
       "<style scoped>\n",
       "    .dataframe tbody tr th:only-of-type {\n",
       "        vertical-align: middle;\n",
       "    }\n",
       "\n",
       "    .dataframe tbody tr th {\n",
       "        vertical-align: top;\n",
       "    }\n",
       "\n",
       "    .dataframe thead th {\n",
       "        text-align: right;\n",
       "    }\n",
       "</style>\n",
       "<table border=\"1\" class=\"dataframe\">\n",
       "  <thead>\n",
       "    <tr style=\"text-align: right;\">\n",
       "      <th></th>\n",
       "      <th>PortfolioReturn</th>\n",
       "      <th>StandardDeviation</th>\n",
       "      <th>Max</th>\n",
       "      <th>Min</th>\n",
       "      <th>SharpRatio</th>\n",
       "    </tr>\n",
       "  </thead>\n",
       "  <tbody>\n",
       "  </tbody>\n",
       "</table>\n",
       "</div>"
      ],
      "text/plain": [
       "Empty DataFrame\n",
       "Columns: [PortfolioReturn, StandardDeviation, Max, Min, SharpRatio]\n",
       "Index: []"
      ]
     },
     "execution_count": 36,
     "metadata": {},
     "output_type": "execute_result"
    }
   ],
   "source": [
    "df_buyer_strategy[df_buyer_strategy[\"SharpRatio\"] == 1.91]"
   ]
  },
  {
   "cell_type": "code",
   "execution_count": 37,
   "metadata": {
    "scrolled": false
   },
   "outputs": [
    {
     "data": {
      "text/plain": [
       "<matplotlib.collections.PathCollection at 0x1231082d0>"
      ]
     },
     "execution_count": 37,
     "metadata": {},
     "output_type": "execute_result"
    },
    {
     "data": {
      "image/png": "[encoded data removed]",
      "text/plain": [
       "<Figure size 432x288 with 1 Axes>"
      ]
     },
     "metadata": {
      "needs_background": "light"
     },
     "output_type": "display_data"
    }
   ],
   "source": [
    "# fig, ax = plt.subplots(1, figsize=plt.figaspect(.25))\n",
    "plt.hlines(8.05, df_buyer_strategy[\"StandardDeviation\"].min(), df_buyer_strategy[\"StandardDeviation\"].max(), label=\"Minimum risk\", linestyle=\"dashed\", color=\"r\")\n",
    "plt.scatter(x=df_buyer_strategy[\"StandardDeviation\"], y=df_buyer_strategy[\"PortfolioReturn\"])"
   ]
  },
  {
   "cell_type": "markdown",
   "metadata": {},
   "source": [
    "Efficient frontier: PortfolioReturn < 8.05 <p>\n",
    "Min_SharpRatio = 1.91\n",
    "    \n",
    "※課題\n",
    "- 各年での評価がまだできていない (ポートフォリオ構築からやり直す必要があるかも。例えば元のテーブルでポートフォリオ構築まで組み込んで、評価テーブルで各商品ごとの集計に切り替える、等)\n",
    "- 各商品のポートフォリオ比率が一定 --> (各商品ごとに最適なポートフォリオを選択するという手段もある)\n",
    "\n",
    "\n",
    "※アイディア案\n",
    "- 各商品別にポートフォリオを組んで別テーブルを作る (行：各商品、時系列順　　列：各条件のポートフォリオ)\n",
    "- 横軸で(各商品ごとに)Minの数値を選択しMix　portfolioも加える\n",
    "- Mix　Portfolioも加えて各年で分けて評価していく"
   ]
  },
  {
   "cell_type": "markdown",
   "metadata": {},
   "source": [
    "# For Trader"
   ]
  },
  {
   "cell_type": "markdown",
   "metadata": {},
   "source": [
    "前提（トレーダー）\n",
    "- 下記裁定トレーディングを実施するためには、EMHの仮定を棄却する必要がある\n",
    "- そのためには各商品の自己相関を確認しておく　-->価格予測Noteの \"Close priceのEDAパートもしくはSARIMAパート\"参照\n",
    "-　Spotで買い/売りを仕掛け、Intraで全ポジション反対決裁 --> 取引数量は無視 (1単位のみ)\n",
    "- 手仕舞い時のみ指値を活用\n",
    "\n",
    "- 論文では　\"combination of the GARCH and Ljung-Box methods\"で2015年のSpot, Intra priceを両方検証し、棄却に成功している(４タイムスロットの日足データ)<p>\n",
    "    -->各タイムスロットの年間のデータはSpotもIntraも入手可能<p>\n",
    "    -->ただ、１年間のみ４スロットの検証で事足りるのか？？<p>\n",
    "    -->他に考えられる検証はないか。。。？<p>\n",
    "\n",
    "\n",
    "- JEPXの取引フローを調べておく (論文では約定フローとルールについて図解してある)\n",
    "- 論文では単純にSpotとIntraの価格差を損益として、年間の取引数Nを集計ししている"
   ]
  },
  {
   "cell_type": "markdown",
   "metadata": {},
   "source": [
    "トレーディング戦略(トレーダーの戦略について)\n",
    "[予測なし]\n",
    "予測なしではこの戦略は取れないので不要\n",
    "\n",
    "[予測有り]\n",
    "- Spot/Intra価格差に対して裁定取引をする(IntraではClose_predの+-α%感度分析)"
   ]
  },
  {
   "cell_type": "markdown",
   "metadata": {},
   "source": [
    "(Reference) \n",
    "オリジナリティが強すぎるのでなにか参考文献を見つけておく\n",
    "\n",
    "\"Speculative Trading and Market Performance: The Effect of Arbitrageurs on Efficiency and Market Power in the New York Electricity Market (2003)\"\n",
    "https://escholarship.org/content/qt0mx44472/qt0mx44472_noSplash_3bb91c9ed710e4c77dffa5caf1a6512b.pdf?t=krnn5f"
   ]
  },
  {
   "cell_type": "markdown",
   "metadata": {},
   "source": [
    "## Required dataset"
   ]
  },
  {
   "cell_type": "code",
   "execution_count": 38,
   "metadata": {},
   "outputs": [],
   "source": [
    "# Set higher price for ask order on benchmark\n",
    "df_trader = df_prediction.copy()\n",
    "\n",
    "# Make Order columns on benchmark\n",
    "High_list = list(df_trader[\"High\"])\n",
    "Low_list = list(df_trader[\"Low\"])\n",
    "Close_list = list(df_trader[\"Close\"])\n",
    "\n",
    "# Judge_success = []\n",
    "\n",
    "# 0%から20%くらいで一旦様子見 (分析次第)\n",
    "for i in list(range(0, 21, 1)):\n",
    "\n",
    "# Make BuyPositioin columns\n",
    "    Buy_i = []\n",
    "    BuyJudge_i = []\n",
    "    BuyPositon_i = list((df_trader[\"Close_pred\"]* (1 - i/100)).round(2))\n",
    "    for o, l, c  in zip(BuyPositon_i, Low_list, Close_list):\n",
    "        #約定できるケース --> BuyPositon_i\n",
    "        if o >= l:\n",
    "            Buy_i.append(o)\n",
    "            BuyJudge_i.append(\"True\")\n",
    "        #約定できないケース -->Close\n",
    "        else:\n",
    "            Buy_i.append(c)\n",
    "            BuyJudge_i.append(\"False\")\n",
    "    df_trader[\"Buy-\" + str(i) + \"%\"] = pd.Series(Buy_i)\n",
    "    df_trader[\"BuyJudge_\" + str(i) + \"%\"] = pd.Series(BuyJudge_i)\n",
    "\n",
    "    # Make SellPosition columns\n",
    "    Sell_i = []\n",
    "    SellJudge_i = []\n",
    "    SellPositon_i = list((df_trader[\"Close_pred\"]* (1 + i/100)).round(2))\n",
    "    for o, h, c  in zip(SellPositon_i, High_list, Close_list):\n",
    "        if o <= h:\n",
    "            Sell_i.append(o)\n",
    "            SellJudge_i.append(\"True\")\n",
    "        else:\n",
    "            Sell_i.append(c)\n",
    "            SellJudge_i.append(\"False\")\n",
    "    df_trader[\"Sell+\" + str(i) + \"%\"] = pd.Series(Sell_i)\n",
    "    df_trader[\"Judge_\" + str(i) + \"%\"] = pd.Series(SellJudge_i)\n",
    "\n",
    "    \n",
    "#     Judge_success.append((df_seller_bench[\"Judge_\" + str(i) + \"%\"] == 'True').sum())\n",
    "# #For graph\n",
    "# Judge_success = pd.Series(Judge_success)"
   ]
  },
  {
   "cell_type": "code",
   "execution_count": 39,
   "metadata": {
    "scrolled": true
   },
   "outputs": [
    {
     "data": {
      "text/html": [
       "<div>\n",
       "<style scoped>\n",
       "    .dataframe tbody tr th:only-of-type {\n",
       "        vertical-align: middle;\n",
       "    }\n",
       "\n",
       "    .dataframe tbody tr th {\n",
       "        vertical-align: top;\n",
       "    }\n",
       "\n",
       "    .dataframe thead th {\n",
       "        text-align: right;\n",
       "    }\n",
       "</style>\n",
       "<table border=\"1\" class=\"dataframe\">\n",
       "  <thead>\n",
       "    <tr style=\"text-align: right;\">\n",
       "      <th></th>\n",
       "      <th>Date</th>\n",
       "      <th>HH</th>\n",
       "      <th>date_block_num</th>\n",
       "      <th>Open</th>\n",
       "      <th>High</th>\n",
       "      <th>Low</th>\n",
       "      <th>Close</th>\n",
       "      <th>Spot</th>\n",
       "      <th>DateTime</th>\n",
       "      <th>Close_pred</th>\n",
       "      <th>...</th>\n",
       "      <th>Sell+18%</th>\n",
       "      <th>Judge_18%</th>\n",
       "      <th>Buy-19%</th>\n",
       "      <th>BuyJudge_19%</th>\n",
       "      <th>Sell+19%</th>\n",
       "      <th>Judge_19%</th>\n",
       "      <th>Buy-20%</th>\n",
       "      <th>BuyJudge_20%</th>\n",
       "      <th>Sell+20%</th>\n",
       "      <th>Judge_20%</th>\n",
       "    </tr>\n",
       "  </thead>\n",
       "  <tbody>\n",
       "    <tr>\n",
       "      <th>0</th>\n",
       "      <td>2016-04-01</td>\n",
       "      <td>1</td>\n",
       "      <td>1</td>\n",
       "      <td>7.69</td>\n",
       "      <td>7.69</td>\n",
       "      <td>7.69</td>\n",
       "      <td>7.69</td>\n",
       "      <td>6.61</td>\n",
       "      <td>2016-04-01 00:00:00</td>\n",
       "      <td>5.49</td>\n",
       "      <td>...</td>\n",
       "      <td>6.48</td>\n",
       "      <td>True</td>\n",
       "      <td>7.69</td>\n",
       "      <td>False</td>\n",
       "      <td>6.53</td>\n",
       "      <td>True</td>\n",
       "      <td>7.69</td>\n",
       "      <td>False</td>\n",
       "      <td>6.59</td>\n",
       "      <td>True</td>\n",
       "    </tr>\n",
       "    <tr>\n",
       "      <th>1</th>\n",
       "      <td>2016-04-01</td>\n",
       "      <td>2</td>\n",
       "      <td>1</td>\n",
       "      <td>7.45</td>\n",
       "      <td>7.45</td>\n",
       "      <td>7.45</td>\n",
       "      <td>7.45</td>\n",
       "      <td>6.34</td>\n",
       "      <td>2016-04-01 00:30:00</td>\n",
       "      <td>5.29</td>\n",
       "      <td>...</td>\n",
       "      <td>6.24</td>\n",
       "      <td>True</td>\n",
       "      <td>7.45</td>\n",
       "      <td>False</td>\n",
       "      <td>6.30</td>\n",
       "      <td>True</td>\n",
       "      <td>7.45</td>\n",
       "      <td>False</td>\n",
       "      <td>6.35</td>\n",
       "      <td>True</td>\n",
       "    </tr>\n",
       "    <tr>\n",
       "      <th>2</th>\n",
       "      <td>2016-04-01</td>\n",
       "      <td>3</td>\n",
       "      <td>1</td>\n",
       "      <td>7.21</td>\n",
       "      <td>7.21</td>\n",
       "      <td>7.21</td>\n",
       "      <td>7.21</td>\n",
       "      <td>6.34</td>\n",
       "      <td>2016-04-01 01:00:00</td>\n",
       "      <td>5.27</td>\n",
       "      <td>...</td>\n",
       "      <td>6.22</td>\n",
       "      <td>True</td>\n",
       "      <td>7.21</td>\n",
       "      <td>False</td>\n",
       "      <td>6.27</td>\n",
       "      <td>True</td>\n",
       "      <td>7.21</td>\n",
       "      <td>False</td>\n",
       "      <td>6.32</td>\n",
       "      <td>True</td>\n",
       "    </tr>\n",
       "    <tr>\n",
       "      <th>3</th>\n",
       "      <td>2016-04-01</td>\n",
       "      <td>4</td>\n",
       "      <td>1</td>\n",
       "      <td>7.06</td>\n",
       "      <td>7.06</td>\n",
       "      <td>7.06</td>\n",
       "      <td>7.06</td>\n",
       "      <td>6.25</td>\n",
       "      <td>2016-04-01 01:30:00</td>\n",
       "      <td>5.16</td>\n",
       "      <td>...</td>\n",
       "      <td>6.09</td>\n",
       "      <td>True</td>\n",
       "      <td>7.06</td>\n",
       "      <td>False</td>\n",
       "      <td>6.14</td>\n",
       "      <td>True</td>\n",
       "      <td>7.06</td>\n",
       "      <td>False</td>\n",
       "      <td>6.19</td>\n",
       "      <td>True</td>\n",
       "    </tr>\n",
       "    <tr>\n",
       "      <th>4</th>\n",
       "      <td>2016-04-01</td>\n",
       "      <td>5</td>\n",
       "      <td>1</td>\n",
       "      <td>7.21</td>\n",
       "      <td>7.21</td>\n",
       "      <td>7.21</td>\n",
       "      <td>7.21</td>\n",
       "      <td>6.57</td>\n",
       "      <td>2016-04-01 02:00:00</td>\n",
       "      <td>5.48</td>\n",
       "      <td>...</td>\n",
       "      <td>6.47</td>\n",
       "      <td>True</td>\n",
       "      <td>7.21</td>\n",
       "      <td>False</td>\n",
       "      <td>6.52</td>\n",
       "      <td>True</td>\n",
       "      <td>7.21</td>\n",
       "      <td>False</td>\n",
       "      <td>6.58</td>\n",
       "      <td>True</td>\n",
       "    </tr>\n",
       "  </tbody>\n",
       "</table>\n",
       "<p>5 rows × 94 columns</p>\n",
       "</div>"
      ],
      "text/plain": [
       "         Date  HH  date_block_num  Open  High   Low  Close  Spot  \\\n",
       "0  2016-04-01   1               1  7.69  7.69  7.69   7.69  6.61   \n",
       "1  2016-04-01   2               1  7.45  7.45  7.45   7.45  6.34   \n",
       "2  2016-04-01   3               1  7.21  7.21  7.21   7.21  6.34   \n",
       "3  2016-04-01   4               1  7.06  7.06  7.06   7.06  6.25   \n",
       "4  2016-04-01   5               1  7.21  7.21  7.21   7.21  6.57   \n",
       "\n",
       "              DateTime  Close_pred  ...  Sell+18% Judge_18%  Buy-19%  \\\n",
       "0  2016-04-01 00:00:00        5.49  ...      6.48      True     7.69   \n",
       "1  2016-04-01 00:30:00        5.29  ...      6.24      True     7.45   \n",
       "2  2016-04-01 01:00:00        5.27  ...      6.22      True     7.21   \n",
       "3  2016-04-01 01:30:00        5.16  ...      6.09      True     7.06   \n",
       "4  2016-04-01 02:00:00        5.48  ...      6.47      True     7.21   \n",
       "\n",
       "  BuyJudge_19%  Sell+19% Judge_19%  Buy-20% BuyJudge_20%  Sell+20% Judge_20%  \n",
       "0        False      6.53      True     7.69        False      6.59      True  \n",
       "1        False      6.30      True     7.45        False      6.35      True  \n",
       "2        False      6.27      True     7.21        False      6.32      True  \n",
       "3        False      6.14      True     7.06        False      6.19      True  \n",
       "4        False      6.52      True     7.21        False      6.58      True  \n",
       "\n",
       "[5 rows x 94 columns]"
      ]
     },
     "execution_count": 39,
     "metadata": {},
     "output_type": "execute_result"
    }
   ],
   "source": [
    "df_trader.head()"
   ]
  },
  {
   "cell_type": "markdown",
   "metadata": {},
   "source": [
    "## Construct Portfolios"
   ]
  },
  {
   "cell_type": "markdown",
   "metadata": {},
   "source": [
    "売買戦略は以下の通り <p>\n",
    "- まずは基本的なSpotとIntra間のアビトラから組んでみる(指値バッファ0%のポートフォリオが１つ出来上がる)\n",
    "- 次に可能であれば指値バッファを変化させてポートフォリオを増やしていく<p>\n",
    "    --> 指値バッファが変わることで損益が大きく変わるはず"
   ]
  },
  {
   "cell_type": "markdown",
   "metadata": {},
   "source": [
    "## Evaluation function"
   ]
  },
  {
   "cell_type": "markdown",
   "metadata": {},
   "source": [
    "以下の算出式を整理しておく (基本的にはベース論文を参考にする)\n",
    "- Return = 各48商品の| Pintra_actual - Pspot |についての合計\n",
    "\n",
    "- Standard Deviation\n",
    "    -->Intra priceとSpot priceのStandard deviationを算出し、Weightに応じて算出\n",
    " \n",
    "- Sharp-ratio\n",
    "    -->上記RerurnとStandard deviationから算出する -->超過リターンを計測し、トレーディングの可能性を示す\n",
    "    \n",
    "- VaR　=[Expected Weighted Return of the Portfolio − (z-score of the confidence interval × standard deviation of the portfolio)] × portfolio value\n",
    "\n",
    "-->Required datasetに上記結果を追加する\n",
    "-->48商品を横軸、年月日を縦軸のテーブル、値に評価関数を当てはめて期間集計し、それぞれ列を追加する\n",
    "-->線グラフ化で推移を確認\n",
    "-->リターンの分布を確認できる (テールリスクについてもざっくり見られる)\n",
    "-->テールリスクについてはVaRで掘り下げていく"
   ]
  },
  {
   "cell_type": "markdown",
   "metadata": {},
   "source": [
    "[VaRの考え方について]\n"
   ]
  },
  {
   "cell_type": "markdown",
   "metadata": {},
   "source": [
    "評価と評価期間\n",
    "- ベンチマークと各戦略の年間収益額を算出\n",
    "- グラフで比較"
   ]
  },
  {
   "cell_type": "code",
   "execution_count": 41,
   "metadata": {},
   "outputs": [],
   "source": [
    "#Tradingのポートフォリオ\n",
    "\n",
    "Spot_list = list(df_trader[\"Spot\"])\n",
    "Pred_list = list(df_trader[\"Close_pred\"])\n",
    "Close_list = list(df_trader[\"Close\"])\n",
    "High_list = list(df_trader[\"High\"])\n",
    "Low_list = list(df_trader[\"Low\"])\n",
    "\n",
    "# 算出結果を格納するリスト\n",
    "cols = []\n",
    "\n",
    "Return = [] \n",
    "PortfolioReturn = []\n",
    "StandardDeviation = []\n",
    "Max = []\n",
    "Min = []\n",
    "SharpRatio = []\n",
    "\n",
    "\n",
    "#一旦は指値バッファなしで組んでみる\n",
    "for spot, pred, high, low, close in zip(Spot_list, Pred_list, High_list, Low_list, Close_list):\n",
    "    #　Buy-in, Sell-out\n",
    "    if spot < pred:\n",
    "        #Returnを格納\n",
    "        #約定成功\n",
    "        if pred < high:\n",
    "            Return.append(round(pred - spot, 4))\n",
    "        #約定失敗\n",
    "        else:\n",
    "            Return.append(round(close - spot, 4))\n",
    "            \n",
    "    # Sell-in, Buy-out\n",
    "    elif spot > pred:\n",
    "        #Returnを格納\n",
    "        #約定成功\n",
    "        if pred > low:\n",
    "            Return.append(round(spot - pred, 4))\n",
    "        #約定失敗\n",
    "        else:\n",
    "            Return.append(round(spot - close, 4))\n",
    "    #No trade\n",
    "    else:\n",
    "        Return.append(0)\n",
    "\n",
    "# if weight == 1.0:\n",
    "#     cols.append(\"Spot\" + str(weight*100))\n",
    "# else:\n",
    "#     cols.append(\"Spot\" + str(weight*100) + \"%&Order+\" +str(i) + \"%\")\n",
    "\n",
    "\n",
    "df_trader_portfolio = pd.DataFrame()\n",
    "df_trader_portfolio[\"Date\"] = df_trader[\"Date\"]\n",
    "df_trader_portfolio[\"HH\"] = df_trader[\"HH\"]\n",
    "df_trader_portfolio[\"Return\"] = pd.Series(Return)\n",
    "# #30ポートフォリオの算出結果をリストに格納していく\n",
    "# Return = pd.Series(Return)\n",
    "# PortfolioReturn.append(Return.mean().round(2))\n",
    "# StandardDeviation.append(Return.std().round(2))\n",
    "# Max.append(Return.max().round(2))\n",
    "# Min.append(Return.min().round(2))\n",
    "# SharpRatio.append((Return.mean()/Return.std()).round(2))\n",
    "\n",
    "\n",
    "# #df_portfolio_benchの列を設定し、行列を入替えて調整する\n",
    "# df_buyer_strategy = pd.DataFrame()\n",
    "# df_buyer_strategy = df_buyer_strategy.T\n",
    "\n",
    "# #各算出結果をdf_portfolio_benchの列へ追加する\n",
    "# df_buyer_strategy[\"PortfolioReturn\"] = pd.Series(PortfolioReturn)\n",
    "# df_buyer_strategy[\"StandardDeviation\"] = pd.Series(StandardDeviation)\n",
    "# df_buyer_strategy[\"Max\"] = pd.Series(Max)\n",
    "# df_buyer_strategy[\"Min\"] = pd.Series(Min)\n",
    "# df_buyer_strategy[\"SharpRatio\"] = pd.Series(SharpRatio)\n",
    "# df_buyer_strategy.index = cols"
   ]
  },
  {
   "cell_type": "code",
   "execution_count": 42,
   "metadata": {},
   "outputs": [
    {
     "data": {
      "text/html": [
       "<div>\n",
       "<style scoped>\n",
       "    .dataframe tbody tr th:only-of-type {\n",
       "        vertical-align: middle;\n",
       "    }\n",
       "\n",
       "    .dataframe tbody tr th {\n",
       "        vertical-align: top;\n",
       "    }\n",
       "\n",
       "    .dataframe thead th {\n",
       "        text-align: right;\n",
       "    }\n",
       "</style>\n",
       "<table border=\"1\" class=\"dataframe\">\n",
       "  <thead>\n",
       "    <tr style=\"text-align: right;\">\n",
       "      <th></th>\n",
       "      <th>Date</th>\n",
       "      <th>HH</th>\n",
       "      <th>Return</th>\n",
       "    </tr>\n",
       "  </thead>\n",
       "  <tbody>\n",
       "    <tr>\n",
       "      <th>0</th>\n",
       "      <td>2016-04-01</td>\n",
       "      <td>1</td>\n",
       "      <td>-1.08</td>\n",
       "    </tr>\n",
       "    <tr>\n",
       "      <th>1</th>\n",
       "      <td>2016-04-01</td>\n",
       "      <td>2</td>\n",
       "      <td>-1.11</td>\n",
       "    </tr>\n",
       "    <tr>\n",
       "      <th>2</th>\n",
       "      <td>2016-04-01</td>\n",
       "      <td>3</td>\n",
       "      <td>-0.87</td>\n",
       "    </tr>\n",
       "    <tr>\n",
       "      <th>3</th>\n",
       "      <td>2016-04-01</td>\n",
       "      <td>4</td>\n",
       "      <td>-0.81</td>\n",
       "    </tr>\n",
       "    <tr>\n",
       "      <th>4</th>\n",
       "      <td>2016-04-01</td>\n",
       "      <td>5</td>\n",
       "      <td>-0.64</td>\n",
       "    </tr>\n",
       "  </tbody>\n",
       "</table>\n",
       "</div>"
      ],
      "text/plain": [
       "         Date  HH  Return\n",
       "0  2016-04-01   1   -1.08\n",
       "1  2016-04-01   2   -1.11\n",
       "2  2016-04-01   3   -0.87\n",
       "3  2016-04-01   4   -0.81\n",
       "4  2016-04-01   5   -0.64"
      ]
     },
     "execution_count": 42,
     "metadata": {},
     "output_type": "execute_result"
    }
   ],
   "source": [
    "df_trader_portfolio.head()"
   ]
  },
  {
   "cell_type": "code",
   "execution_count": 43,
   "metadata": {},
   "outputs": [],
   "source": [
    "#valuesの値を変えれば別のポートフォリオの集計もできる\n",
    "df_trader_portfolio_table = pd.DataFrame(df_trader_portfolio.pivot(index='Date', columns='HH', values='Return'))"
   ]
  },
  {
   "cell_type": "code",
   "execution_count": 44,
   "metadata": {},
   "outputs": [],
   "source": [
    "df_trader_portfolio_table[\"Expected_Return\"] = df_trader_portfolio_table.loc[: , 0:48].mean(axis=1).round(2)\n",
    "df_trader_portfolio_table[\"StandardDeviation\"] = df_trader_portfolio_table.loc[: , 1:48].std(axis=1).round(2)\n",
    "df_trader_portfolio_table[\"Max\"] = df_trader_portfolio_table.loc[: , 1:48].max(axis=1).round(2)\n",
    "df_trader_portfolio_table[\"Min\"] = df_trader_portfolio_table.loc[: , 1:48].min(axis=1).round(2)\n",
    "df_trader_portfolio_table[\"SharpRatio\"] = (df_trader_portfolio_table.loc[: , 1:48].mean(axis=1)/df_trader_portfolio_table.loc[: , 1:48].std(axis=1)).round(2)"
   ]
  },
  {
   "cell_type": "code",
   "execution_count": 45,
   "metadata": {
    "scrolled": true
   },
   "outputs": [
    {
     "data": {
      "text/html": [
       "<div>\n",
       "<style scoped>\n",
       "    .dataframe tbody tr th:only-of-type {\n",
       "        vertical-align: middle;\n",
       "    }\n",
       "\n",
       "    .dataframe tbody tr th {\n",
       "        vertical-align: top;\n",
       "    }\n",
       "\n",
       "    .dataframe thead th {\n",
       "        text-align: right;\n",
       "    }\n",
       "</style>\n",
       "<table border=\"1\" class=\"dataframe\">\n",
       "  <thead>\n",
       "    <tr style=\"text-align: right;\">\n",
       "      <th>HH</th>\n",
       "      <th>1</th>\n",
       "      <th>2</th>\n",
       "      <th>3</th>\n",
       "      <th>4</th>\n",
       "      <th>5</th>\n",
       "      <th>6</th>\n",
       "      <th>7</th>\n",
       "      <th>8</th>\n",
       "      <th>9</th>\n",
       "      <th>10</th>\n",
       "      <th>...</th>\n",
       "      <th>44</th>\n",
       "      <th>45</th>\n",
       "      <th>46</th>\n",
       "      <th>47</th>\n",
       "      <th>48</th>\n",
       "      <th>Expected_Return</th>\n",
       "      <th>StandardDeviation</th>\n",
       "      <th>Max</th>\n",
       "      <th>Min</th>\n",
       "      <th>SharpRatio</th>\n",
       "    </tr>\n",
       "    <tr>\n",
       "      <th>Date</th>\n",
       "      <th></th>\n",
       "      <th></th>\n",
       "      <th></th>\n",
       "      <th></th>\n",
       "      <th></th>\n",
       "      <th></th>\n",
       "      <th></th>\n",
       "      <th></th>\n",
       "      <th></th>\n",
       "      <th></th>\n",
       "      <th></th>\n",
       "      <th></th>\n",
       "      <th></th>\n",
       "      <th></th>\n",
       "      <th></th>\n",
       "      <th></th>\n",
       "      <th></th>\n",
       "      <th></th>\n",
       "      <th></th>\n",
       "      <th></th>\n",
       "      <th></th>\n",
       "    </tr>\n",
       "  </thead>\n",
       "  <tbody>\n",
       "    <tr>\n",
       "      <th>2016-04-01</th>\n",
       "      <td>-1.0800</td>\n",
       "      <td>-1.11</td>\n",
       "      <td>-0.8700</td>\n",
       "      <td>-0.81</td>\n",
       "      <td>-0.640</td>\n",
       "      <td>-0.64</td>\n",
       "      <td>-0.64</td>\n",
       "      <td>-0.64</td>\n",
       "      <td>-0.49</td>\n",
       "      <td>-0.49</td>\n",
       "      <td>...</td>\n",
       "      <td>-0.72</td>\n",
       "      <td>-0.88</td>\n",
       "      <td>-0.91</td>\n",
       "      <td>-1.10</td>\n",
       "      <td>-1.17</td>\n",
       "      <td>-0.37</td>\n",
       "      <td>1.32</td>\n",
       "      <td>1.83</td>\n",
       "      <td>-3.77</td>\n",
       "      <td>-0.28</td>\n",
       "    </tr>\n",
       "    <tr>\n",
       "      <th>2016-04-02</th>\n",
       "      <td>0.2400</td>\n",
       "      <td>-0.24</td>\n",
       "      <td>0.1586</td>\n",
       "      <td>0.30</td>\n",
       "      <td>0.270</td>\n",
       "      <td>0.30</td>\n",
       "      <td>0.27</td>\n",
       "      <td>0.26</td>\n",
       "      <td>0.34</td>\n",
       "      <td>0.30</td>\n",
       "      <td>...</td>\n",
       "      <td>0.09</td>\n",
       "      <td>-1.09</td>\n",
       "      <td>-1.04</td>\n",
       "      <td>-0.41</td>\n",
       "      <td>-1.09</td>\n",
       "      <td>0.02</td>\n",
       "      <td>0.51</td>\n",
       "      <td>0.57</td>\n",
       "      <td>-1.09</td>\n",
       "      <td>0.05</td>\n",
       "    </tr>\n",
       "    <tr>\n",
       "      <th>2016-04-03</th>\n",
       "      <td>-0.1133</td>\n",
       "      <td>0.76</td>\n",
       "      <td>0.5900</td>\n",
       "      <td>0.56</td>\n",
       "      <td>0.820</td>\n",
       "      <td>1.06</td>\n",
       "      <td>0.85</td>\n",
       "      <td>1.06</td>\n",
       "      <td>1.02</td>\n",
       "      <td>1.05</td>\n",
       "      <td>...</td>\n",
       "      <td>0.20</td>\n",
       "      <td>0.43</td>\n",
       "      <td>0.54</td>\n",
       "      <td>0.42</td>\n",
       "      <td>0.14</td>\n",
       "      <td>0.49</td>\n",
       "      <td>0.30</td>\n",
       "      <td>1.06</td>\n",
       "      <td>-0.11</td>\n",
       "      <td>1.62</td>\n",
       "    </tr>\n",
       "    <tr>\n",
       "      <th>2016-04-04</th>\n",
       "      <td>-0.0537</td>\n",
       "      <td>0.59</td>\n",
       "      <td>0.2487</td>\n",
       "      <td>0.01</td>\n",
       "      <td>0.005</td>\n",
       "      <td>0.00</td>\n",
       "      <td>0.05</td>\n",
       "      <td>0.06</td>\n",
       "      <td>0.21</td>\n",
       "      <td>0.18</td>\n",
       "      <td>...</td>\n",
       "      <td>-0.50</td>\n",
       "      <td>0.01</td>\n",
       "      <td>0.29</td>\n",
       "      <td>0.01</td>\n",
       "      <td>0.01</td>\n",
       "      <td>0.21</td>\n",
       "      <td>0.53</td>\n",
       "      <td>1.08</td>\n",
       "      <td>-1.77</td>\n",
       "      <td>0.39</td>\n",
       "    </tr>\n",
       "    <tr>\n",
       "      <th>2016-04-05</th>\n",
       "      <td>0.6700</td>\n",
       "      <td>0.64</td>\n",
       "      <td>0.5700</td>\n",
       "      <td>0.44</td>\n",
       "      <td>0.340</td>\n",
       "      <td>0.39</td>\n",
       "      <td>0.41</td>\n",
       "      <td>0.42</td>\n",
       "      <td>0.43</td>\n",
       "      <td>0.40</td>\n",
       "      <td>...</td>\n",
       "      <td>0.20</td>\n",
       "      <td>0.33</td>\n",
       "      <td>-0.65</td>\n",
       "      <td>0.42</td>\n",
       "      <td>0.42</td>\n",
       "      <td>0.67</td>\n",
       "      <td>0.51</td>\n",
       "      <td>1.41</td>\n",
       "      <td>-1.25</td>\n",
       "      <td>1.31</td>\n",
       "    </tr>\n",
       "  </tbody>\n",
       "</table>\n",
       "<p>5 rows × 53 columns</p>\n",
       "</div>"
      ],
      "text/plain": [
       "HH               1     2       3     4      5     6     7     8     9    10  \\\n",
       "Date                                                                          \n",
       "2016-04-01 -1.0800 -1.11 -0.8700 -0.81 -0.640 -0.64 -0.64 -0.64 -0.49 -0.49   \n",
       "2016-04-02  0.2400 -0.24  0.1586  0.30  0.270  0.30  0.27  0.26  0.34  0.30   \n",
       "2016-04-03 -0.1133  0.76  0.5900  0.56  0.820  1.06  0.85  1.06  1.02  1.05   \n",
       "2016-04-04 -0.0537  0.59  0.2487  0.01  0.005  0.00  0.05  0.06  0.21  0.18   \n",
       "2016-04-05  0.6700  0.64  0.5700  0.44  0.340  0.39  0.41  0.42  0.43  0.40   \n",
       "\n",
       "HH          ...    44    45    46    47    48  Expected_Return  \\\n",
       "Date        ...                                                  \n",
       "2016-04-01  ... -0.72 -0.88 -0.91 -1.10 -1.17            -0.37   \n",
       "2016-04-02  ...  0.09 -1.09 -1.04 -0.41 -1.09             0.02   \n",
       "2016-04-03  ...  0.20  0.43  0.54  0.42  0.14             0.49   \n",
       "2016-04-04  ... -0.50  0.01  0.29  0.01  0.01             0.21   \n",
       "2016-04-05  ...  0.20  0.33 -0.65  0.42  0.42             0.67   \n",
       "\n",
       "HH          StandardDeviation   Max   Min  SharpRatio  \n",
       "Date                                                   \n",
       "2016-04-01               1.32  1.83 -3.77       -0.28  \n",
       "2016-04-02               0.51  0.57 -1.09        0.05  \n",
       "2016-04-03               0.30  1.06 -0.11        1.62  \n",
       "2016-04-04               0.53  1.08 -1.77        0.39  \n",
       "2016-04-05               0.51  1.41 -1.25        1.31  \n",
       "\n",
       "[5 rows x 53 columns]"
      ]
     },
     "execution_count": 45,
     "metadata": {},
     "output_type": "execute_result"
    }
   ],
   "source": [
    "df_trader_portfolio_table.head()"
   ]
  },
  {
   "cell_type": "code",
   "execution_count": 46,
   "metadata": {
    "scrolled": true
   },
   "outputs": [
    {
     "data": {
      "text/plain": [
       "<matplotlib.axes._subplots.AxesSubplot at 0x12376e290>"
      ]
     },
     "execution_count": 46,
     "metadata": {},
     "output_type": "execute_result"
    },
    {
     "data": {
      "image/png": "[encoded data removed]",
      "text/plain": [
       "<Figure size 432x288 with 1 Axes>"
      ]
     },
     "metadata": {
      "needs_background": "light"
     },
     "output_type": "display_data"
    }
   ],
   "source": [
    "df_trader_portfolio_table['CumReturn'] = df_trader_portfolio_table['Expected_Return'].cumsum()\n",
    "df_trader_portfolio_table['CumReturn'].plot()"
   ]
  },
  {
   "cell_type": "code",
   "execution_count": 47,
   "metadata": {
    "scrolled": false
   },
   "outputs": [
    {
     "data": {
      "text/html": [
       "<div>\n",
       "<style scoped>\n",
       "    .dataframe tbody tr th:only-of-type {\n",
       "        vertical-align: middle;\n",
       "    }\n",
       "\n",
       "    .dataframe tbody tr th {\n",
       "        vertical-align: top;\n",
       "    }\n",
       "\n",
       "    .dataframe thead th {\n",
       "        text-align: right;\n",
       "    }\n",
       "</style>\n",
       "<table border=\"1\" class=\"dataframe\">\n",
       "  <thead>\n",
       "    <tr style=\"text-align: right;\">\n",
       "      <th></th>\n",
       "      <th>Expected_Return</th>\n",
       "    </tr>\n",
       "    <tr>\n",
       "      <th>Date</th>\n",
       "      <th></th>\n",
       "    </tr>\n",
       "  </thead>\n",
       "  <tbody>\n",
       "    <tr>\n",
       "      <th>2016-04-01</th>\n",
       "      <td>-0.37</td>\n",
       "    </tr>\n",
       "    <tr>\n",
       "      <th>2016-04-02</th>\n",
       "      <td>0.02</td>\n",
       "    </tr>\n",
       "    <tr>\n",
       "      <th>2016-04-03</th>\n",
       "      <td>0.49</td>\n",
       "    </tr>\n",
       "    <tr>\n",
       "      <th>2016-04-04</th>\n",
       "      <td>0.21</td>\n",
       "    </tr>\n",
       "    <tr>\n",
       "      <th>2016-04-05</th>\n",
       "      <td>0.67</td>\n",
       "    </tr>\n",
       "    <tr>\n",
       "      <th>...</th>\n",
       "      <td>...</td>\n",
       "    </tr>\n",
       "    <tr>\n",
       "      <th>2020-12-27</th>\n",
       "      <td>3.87</td>\n",
       "    </tr>\n",
       "    <tr>\n",
       "      <th>2020-12-28</th>\n",
       "      <td>4.96</td>\n",
       "    </tr>\n",
       "    <tr>\n",
       "      <th>2020-12-29</th>\n",
       "      <td>3.90</td>\n",
       "    </tr>\n",
       "    <tr>\n",
       "      <th>2020-12-30</th>\n",
       "      <td>4.07</td>\n",
       "    </tr>\n",
       "    <tr>\n",
       "      <th>2020-12-31</th>\n",
       "      <td>-0.25</td>\n",
       "    </tr>\n",
       "  </tbody>\n",
       "</table>\n",
       "<p>1736 rows × 1 columns</p>\n",
       "</div>"
      ],
      "text/plain": [
       "            Expected_Return\n",
       "Date                       \n",
       "2016-04-01            -0.37\n",
       "2016-04-02             0.02\n",
       "2016-04-03             0.49\n",
       "2016-04-04             0.21\n",
       "2016-04-05             0.67\n",
       "...                     ...\n",
       "2020-12-27             3.87\n",
       "2020-12-28             4.96\n",
       "2020-12-29             3.90\n",
       "2020-12-30             4.07\n",
       "2020-12-31            -0.25\n",
       "\n",
       "[1736 rows x 1 columns]"
      ]
     },
     "execution_count": 47,
     "metadata": {},
     "output_type": "execute_result"
    }
   ],
   "source": [
    "risk = pd.DataFrame(df_trader_portfolio_table['Expected_Return'])\n",
    "risk"
   ]
  },
  {
   "cell_type": "markdown",
   "metadata": {},
   "source": [
    "以下ドローダウンを見てみる"
   ]
  },
  {
   "cell_type": "code",
   "execution_count": 48,
   "metadata": {},
   "outputs": [],
   "source": [
    "risk = pd.DataFrame(df_trader_portfolio_table['Expected_Return'])\n",
    "risk[\"equity\"] = risk['Expected_Return'].cumsum()\n",
    "risk[\"cummax\"] = risk[\"equity\"].cummax()\n",
    "risk[\"drawdown\"] = risk[\"cummax\"] -risk[\"equity\"]"
   ]
  },
  {
   "cell_type": "code",
   "execution_count": 49,
   "metadata": {},
   "outputs": [
    {
     "data": {
      "text/plain": [
       "5.899999999999977"
      ]
     },
     "execution_count": 49,
     "metadata": {},
     "output_type": "execute_result"
    }
   ],
   "source": [
    "risk[\"drawdown\"].max()"
   ]
  },
  {
   "cell_type": "code",
   "execution_count": 50,
   "metadata": {},
   "outputs": [
    {
     "data": {
      "text/plain": [
       "'2020-08-21'"
      ]
     },
     "execution_count": 50,
     "metadata": {},
     "output_type": "execute_result"
    }
   ],
   "source": [
    "t_max = risk[\"drawdown\"].idxmax()\n",
    "t_max"
   ]
  },
  {
   "cell_type": "code",
   "execution_count": 51,
   "metadata": {
    "scrolled": true
   },
   "outputs": [
    {
     "data": {
      "image/png": "[encoded data removed]",
      "text/plain": [
       "<Figure size 720x432 with 1 Axes>"
      ]
     },
     "metadata": {
      "needs_background": "light"
     },
     "output_type": "display_data"
    }
   ],
   "source": [
    "risk[\"equity\"].plot(figsize=(10, 6))\n",
    "plt.axvline(t_max, c=\"r\", alpha=0.5);"
   ]
  },
  {
   "cell_type": "code",
   "execution_count": 52,
   "metadata": {},
   "outputs": [
    {
     "data": {
      "text/plain": [
       "(array([1.000e+00, 0.000e+00, 1.000e+00, 1.000e+00, 0.000e+00, 0.000e+00,\n",
       "        0.000e+00, 0.000e+00, 1.000e+00, 0.000e+00, 4.000e+00, 9.000e+00,\n",
       "        1.960e+02, 1.194e+03, 2.280e+02, 5.700e+01, 2.000e+01, 6.000e+00,\n",
       "        8.000e+00, 1.000e+00, 2.000e+00, 2.000e+00, 2.000e+00, 1.000e+00,\n",
       "        0.000e+00, 1.000e+00, 0.000e+00, 0.000e+00, 0.000e+00, 1.000e+00]),\n",
       " array([-4.53 , -4.162, -3.794, -3.426, -3.058, -2.69 , -2.322, -1.954,\n",
       "        -1.586, -1.218, -0.85 , -0.482, -0.114,  0.254,  0.622,  0.99 ,\n",
       "         1.358,  1.726,  2.094,  2.462,  2.83 ,  3.198,  3.566,  3.934,\n",
       "         4.302,  4.67 ,  5.038,  5.406,  5.774,  6.142,  6.51 ]),\n",
       " <a list of 30 Patch objects>)"
      ]
     },
     "execution_count": 52,
     "metadata": {},
     "output_type": "execute_result"
    },
    {
     "data": {
      "image/png": "[encoded data removed]",
      "text/plain": [
       "<Figure size 720x432 with 1 Axes>"
      ]
     },
     "metadata": {
      "needs_background": "light"
     },
     "output_type": "display_data"
    }
   ],
   "source": [
    "plt.figure(figsize=(10, 6))\n",
    "plt.hist(risk['Expected_Return'], bins=30)"
   ]
  },
  {
   "cell_type": "markdown",
   "metadata": {},
   "source": [
    "上記要調整"
   ]
  },
  {
   "cell_type": "markdown",
   "metadata": {},
   "source": [
    "以下でVaRを算出"
   ]
  },
  {
   "cell_type": "code",
   "execution_count": 53,
   "metadata": {},
   "outputs": [],
   "source": [
    "import scipy.stats as scs\n",
    "\n",
    "equity = 1000\n",
    "\n",
    "percs = np.array([0.01, 0.1, 1., 2.5, 5.0, 10.0])\n",
    "risk[\"returns\"] = np.log(risk[\"equity\"] / risk[\"equity\"].shift(1))\n",
    "VaR = scs.scoreatpercentile(equity * risk[\"returns\"], percs)\n",
    "def print_var():\n",
    "    print('%16s %16s' % ('Confidence Level', 'Value-at-Risk'))\n",
    "    print(43 * '-')\n",
    "    for pair in zip(percs, VaR):\n",
    "        print('%16.2f %16.3f' % (100 - pair[0], -pair[1]))"
   ]
  },
  {
   "cell_type": "code",
   "execution_count": 54,
   "metadata": {
    "scrolled": true
   },
   "outputs": [
    {
     "name": "stdout",
     "output_type": "stream",
     "text": [
      "Confidence Level    Value-at-Risk\n",
      "-------------------------------------------\n",
      "           99.99          143.963\n",
      "           99.90           21.211\n",
      "           99.00            0.238\n",
      "           97.50           -0.272\n",
      "           95.00           -0.338\n",
      "           90.00           -0.415\n"
     ]
    }
   ],
   "source": [
    "print_var()"
   ]
  },
  {
   "cell_type": "markdown",
   "metadata": {},
   "source": [
    "VaRに関しては以下のリンクを参考にもう少し他の実装方法も試してみる\n",
    "\n",
    "[エンジニアのための金融工学入門：Value At Risk(バリューアットリスク）]\n",
    "\n",
    "\n",
    "https://recruit.gmo.jp/engineer/jisedai/blog/financial_technology_value_at_risk/"
   ]
  },
  {
   "cell_type": "markdown",
   "metadata": {},
   "source": [
    "一旦は指値バッファなしでテーブル作成。複数のポートフォリオを作ったら、Returnを差し替えて複数のテーブルを作成し、各集計を使って分析していく"
   ]
  },
  {
   "cell_type": "code",
   "execution_count": null,
   "metadata": {},
   "outputs": [],
   "source": []
  }
 ],
 "metadata": {
  "kernelspec": {
   "display_name": "Python 3",
   "language": "python",
   "name": "python3"
  },
  "language_info": {
   "codemirror_mode": {
    "name": "ipython",
    "version": 3
   },
   "file_extension": ".py",
   "mimetype": "text/x-python",
   "name": "python",
   "nbconvert_exporter": "python",
   "pygments_lexer": "ipython3",
   "version": "3.7.4"
  },
  "toc": {
   "base_numbering": 1,
   "nav_menu": {},
   "number_sections": true,
   "sideBar": true,
   "skip_h1_title": false,
   "title_cell": "Table of Contents",
   "title_sidebar": "Contents",
   "toc_cell": false,
   "toc_position": {
    "height": "calc(100% - 180px)",
    "left": "10px",
    "top": "150px",
    "width": "250px"
   },
   "toc_section_display": true,
   "toc_window_display": true
  }
 },
 "nbformat": 4,
 "nbformat_minor": 2
}
