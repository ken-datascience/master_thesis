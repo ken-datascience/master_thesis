{
 "cells": [
  {
   "cell_type": "markdown",
   "metadata": {},
   "source": [
    "# Master Thesis (Electricity Trading on Intraday Market in Japan)"
   ]
  },
  {
   "cell_type": "markdown",
   "metadata": {},
   "source": [
    "# Integration of the dataset"
   ]
  },
  {
   "cell_type": "code",
   "execution_count": 2,
   "metadata": {},
   "outputs": [],
   "source": [
    "# Import modules\n",
    "import pandas as pd\n",
    "import matplotlib.pyplot as plt #描画ライブラリ\n",
    "import seaborn as sns\n",
    "import numpy as np\n",
    "from sklearn.preprocessing import StandardScaler\n",
    "import warnings\n",
    "warnings.filterwarnings('ignore')\n",
    "%matplotlib inline\n",
    "import pathlib\n",
    "import pandas_datareader.data as web #データのダウンロードライブラリ\n",
    "import glob\n",
    "import math"
   ]
  },
  {
   "cell_type": "markdown",
   "metadata": {},
   "source": [
    "# Marge the data of Actual_generation(Tohoku_area)"
   ]
  },
  {
   "cell_type": "code",
   "execution_count": 3,
   "metadata": {},
   "outputs": [],
   "source": [
    "#Actual generation_dataset from 2016-08-01\n",
    "path ='/Users/kenotsu/Documents/Datasets/Master_thesis/Actual_generation_5min/Actual_generation_5min_until_2020-4-14'\n",
    "allFiles = sorted(glob.glob(path + \"/*.csv\")) # 指定したフォルダーの全CSVファイルを変数に代入します\n",
    "frame = pd.DataFrame()\n",
    "list_ = []\n",
    "col_names = [\"DATE\", \"TIME\", \"当日実績(5分間隔値)(万kW)\"]\n",
    "for file_ in allFiles:\n",
    "    df = pd.read_csv(file_, sep=',', header=36, encoding='shift_jis', names=col_names) # csvをデータフレームとして読み込む\n",
    "    list_.append(df)\n",
    "frame = pd.concat(list_, join='inner') # joinをinnerに指定\n",
    "frame.to_csv('/Users/kenotsu/Documents/Datasets/Master_thesis/Actual_generation_5min' + \"/Actual_generation1.csv\", encoding=\"shift_jis\", index=False)\n",
    "\n",
    "\n",
    "#Actual generation_dataset from 2020-04-14\n",
    "path ='/Users/kenotsu/Documents/Datasets/Master_thesis/Actual_generation_5min/Actual_generation_5min_from_2020-4-15'\n",
    "allFiles = sorted(glob.glob(path + \"/*.csv\")) # 指定したフォルダーの全CSVファイルを変数に代入します\n",
    "frame = pd.DataFrame()\n",
    "list_ = []\n",
    "col_names = [\"DATE\", \"TIME\", \"当日実績(5分間隔値)(万kW)\", \"太陽光発電実績(5分間隔値)(万kW)\", \"風力発電実績(5分間隔値)(万kW)\"]\n",
    "for file_ in allFiles:\n",
    "    df = pd.read_csv(file_, sep=',', header=44, encoding='shift_jis', names=col_names) # csvをデータフレームとして読み込む\n",
    "    list_.append(df)\n",
    "frame = pd.concat(list_, join='inner') # joinをinnerに指定\n",
    "frame.to_csv('/Users/kenotsu/Documents/Datasets/Master_thesis/Actual_generation_5min' + \"/Actual_generation2.csv\", encoding=\"shift_jis\", index=False)"
   ]
  },
  {
   "cell_type": "markdown",
   "metadata": {},
   "source": [
    "# Total demand & Generation by different type of plants"
   ]
  },
  {
   "cell_type": "code",
   "execution_count": 4,
   "metadata": {},
   "outputs": [],
   "source": [
    "#Total demand and generation by different type of plants_広域\n",
    "path ='/Users/kenotsu/Documents/Datasets/Master_thesis/actual_generation_and_demand_Tohoku'\n",
    "allFiles = sorted(glob.glob(path + \"/juyo_*.csv\")) # 指定したフォルダーの全CSVファイルを変数に代入します\n",
    "frame = pd.DataFrame()\n",
    "list_ = []\n",
    "#col_names = [\"DATE\", \"TIME\", \"当日実績(5分間隔値)(万kW)\"]\n",
    "for file_ in allFiles:\n",
    "    df = pd.read_csv(file_, sep=',', header=0, encoding='shift_jis') # csvをデータフレームとして読み込む\n",
    "    list_.append(df)\n",
    "frame = pd.concat(list_, join='inner') # joinをinnerに指定\n",
    "frame.to_csv('/Users/kenotsu/Documents/Datasets/Master_thesis/actual_generation_and_demand_Tohoku' + \"/Demand_plant_tohoku.csv\", encoding=\"shift_jis\", index=False)"
   ]
  },
  {
   "cell_type": "markdown",
   "metadata": {},
   "source": [
    "## Weather data in Tohoku area"
   ]
  },
  {
   "cell_type": "code",
   "execution_count": 5,
   "metadata": {
    "scrolled": true
   },
   "outputs": [],
   "source": [
    "#Read all the weather data in Tohoku area\n",
    "path ='/Users/kenotsu/Documents/Datasets/Master_thesis/Weather'\n",
    "frame = pd.DataFrame()\n",
    "# col_names = [\"Date\",\n",
    "#              \"Temp\", \"Temp_Qual\", \"Temp_Num\", \n",
    "#              \"SunLight(Time)\", \"SunLight(Time)_None\", \"SunLight(Time)_Qual\", \"SunLight(Time)_Num\", \n",
    "#              \"WindSpeed(m/s)\", \"WindSpeed(m/s)_Qual\", \"WindDirection\", \"WindDirection_Qual\", \"WindSpeed(m/s)_Num\", \n",
    "#              \"SunLight(MJ/㎡)\", \"SunLight(MJ/㎡)_Qual\", \"SunLight(MJ/㎡)_Num\", \n",
    "#              ]\n",
    "\n",
    "#Weather data in Aomori\n",
    "list_Aomori = []\n",
    "col_names = [\"Date\",\n",
    "             \"Temp_Ao\", \"Temp_Qual_Ao\", \"Temp_Num_Ao\", \n",
    "             \"SunLight(Time)_Ao\", \"SunLight(Time)_None_Ao\", \"SunLight(Time)_Qual_Ao\", \"SunLight(Time)_Num_Ao\", \n",
    "             \"WindSpeed(m/s)_Ao\", \"WindSpeed(m/s)_Qual_Ao\", \"WindDirection_Ao\", \"WindDirection_Qual_Ao\", \"WindSpeed(m/s)_Num_Ao\", \n",
    "             \"SunLight(MJ/㎡)_Ao\", \"SunLight(MJ/㎡)_Qual_Ao\", \"SunLight(MJ/㎡)_Num_Ao\", \n",
    "             ]\n",
    "allFiles_Aomori = sorted(glob.glob(path + \"/Aomori_*.csv\"))\n",
    "for file_Aomori in allFiles_Aomori:\n",
    "    df = pd.read_csv(file_Aomori, sep=',', header=0, encoding='cp932', engine=\"python\", names=col_names, skiprows=[0,1,2,3,4,5]) # csvをデータフレームとして読み込む\n",
    "    list_Aomori.append(df)\n",
    "frame = pd.concat(list_Aomori, join='inner') # joinをinnerに指定\n",
    "frame.to_csv('/Users/kenotsu/Documents/Datasets/Master_thesis/Weather' + \"/Weather_Aomori.csv\", encoding=\"cp932\", index=False)\n",
    "\n",
    "#Weather data in Akita\n",
    "list_Akita = []\n",
    "col_names = [\"Date\",\n",
    "             \"Temp_Aki\", \"Temp_Qual_Aki\", \"Temp_Num_Aki\", \n",
    "             \"SunLight(Time)_Aki\", \"SunLight(Time)_None_Aki\", \"SunLight(Time)_Qual_Aki\", \"SunLight(Time)_Num_Aki\", \n",
    "             \"WindSpeed(m/s)_Aki\", \"WindSpeed(m/s)_Qual_Aki\", \"WindDirection_Aki\", \"WindDirection_Qual_Aki\", \"WindSpeed(m/s)_Num_Aki\", \n",
    "             \"SunLight(MJ/㎡)_Aki\", \"SunLight(MJ/㎡)_Qual_Aki\", \"SunLight(MJ/㎡)_Num_Aki\", \n",
    "             ]\n",
    "allFiles_Akita = sorted(glob.glob(path + \"/Akita_*.csv\"))\n",
    "for file_Akita in allFiles_Akita:\n",
    "    df = pd.read_csv(file_Akita, sep=',', header=0, encoding='cp932', engine=\"python\", names=col_names, skiprows=[0,1,2,3,4,5]) # csvをデータフレームとして読み込む\n",
    "    list_Akita.append(df)\n",
    "frame = pd.concat(list_Akita, join='inner') # joinをinnerに指定\n",
    "frame.to_csv('/Users/kenotsu/Documents/Datasets/Master_thesis/Weather' + \"/Weather_Akita.csv\", encoding=\"cp932\", index=False)\n",
    "\n",
    "#Weather data in Morioka\n",
    "list_Morioka = []\n",
    "col_names = [\"Date\",\n",
    "             \"Temp_Mo\", \"Temp_Qual_Mo\", \"Temp_Num_Mo\", \n",
    "             \"SunLight(Time)_Mo\", \"SunLight(Time)_None_Mo\", \"SunLight(Time)_Qual_Mo\", \"SunLight(Time)_Num_Mo\", \n",
    "             \"WindSpeed(m/s)_Mo\", \"WindSpeed(m/s)_Qual_Mo\", \"WindDirection_Mo\", \"WindDirection_Qual_Mo\", \"WindSpeed(m/s)_Num_Mo\", \n",
    "             \"SunLight(MJ/㎡)_Mo\", \"SunLight(MJ/㎡)_Qual_Mo\", \"SunLight(MJ/㎡)_Num_Mo\", \n",
    "             ]\n",
    "allFiles_Morioka = sorted(glob.glob(path + \"/Morioka_*.csv\"))\n",
    "for file_Morioka in allFiles_Morioka:\n",
    "    df = pd.read_csv(file_Morioka, sep=',', header=0, encoding='cp932', engine=\"python\", names=col_names, skiprows=[0,1,2,3,4,5]) # csvをデータフレームとして読み込む\n",
    "    list_Morioka.append(df)\n",
    "frame = pd.concat(list_Morioka, join='inner') # joinをinnerに指定\n",
    "frame.to_csv('/Users/kenotsu/Documents/Datasets/Master_thesis/Weather' + \"/Weather_Morioka.csv\", encoding=\"cp932\", index=False)\n",
    "\n",
    "#Weather data in Yamagata\n",
    "list_Yamagata = []\n",
    "col_names = [\"Date\",\n",
    "             \"Temp_Ya\", \"Temp_Qual_Ya\", \"Temp_Num_Ya\", \n",
    "             \"SunLight(Time)_Ya\", \"SunLight(Time)_None_Ya\", \"SunLight(Time)_Qual_Ya\", \"SunLight(Time)_Num_Ya\", \n",
    "             \"WindSpeed(m/s)_Ya\", \"WindSpeed(m/s)_Qual_Ya\", \"WindDirection_Ya\", \"WindDirection_Qual_Ya\", \"WindSpeed(m/s)_Num_Ya\", \n",
    "             \"SunLight(MJ/㎡)_Ya\", \"SunLight(MJ/㎡)_Qual_Ya\", \"SunLight(MJ/㎡)_Num_Ya\", \n",
    "             ]\n",
    "allFiles_Yamagata = sorted(glob.glob(path + \"/Yamagata_*.csv\"))\n",
    "for file_Yamagata in allFiles_Yamagata:\n",
    "    df = pd.read_csv(file_Yamagata, sep=',', header=0, encoding='cp932', engine=\"python\", names=col_names, skiprows=[0,1,2,3,4,5]) # csvをデータフレームとして読み込む\n",
    "    list_Yamagata.append(df)\n",
    "frame = pd.concat(list_Yamagata, join='inner') # joinをinnerに指定\n",
    "frame.to_csv('/Users/kenotsu/Documents/Datasets/Master_thesis/Weather' + \"/Weather_Yamagata.csv\", encoding=\"cp932\", index=False)\n",
    "\n",
    "#Weather data in Sendai\n",
    "list_Sendai = []\n",
    "col_names = [\"Date\",\n",
    "             \"Temp_Se\", \"Temp_Qual_Se\", \"Temp_Num_Se\", \n",
    "             \"SunLight(Time)_Se\", \"SunLight(Time)_None_Se\", \"SunLight(Time)_Qual_Se\", \"SunLight(Time)_Num_Se\", \n",
    "             \"WindSpeed(m/s)_Se\", \"WindSpeed(m/s)_Qual_Se\", \"WindDirection_Se\", \"WindDirection_Qual_Se\", \"WindSpeed(m/s)_Num_Se\", \n",
    "             \"SunLight(MJ/㎡)_Se\", \"SunLight(MJ/㎡)_Qual_Se\", \"SunLight(MJ/㎡)_Num_Se\", \n",
    "             ]\n",
    "allFiles_Sendai = sorted(glob.glob(path + \"/Sendai_*.csv\"))\n",
    "for file_Sendai in allFiles_Sendai:\n",
    "    df = pd.read_csv(file_Sendai, sep=',', header=0, encoding='cp932', engine=\"python\", names=col_names, skiprows=[0,1,2,3,4,5]) # csvをデータフレームとして読み込む\n",
    "    list_Sendai.append(df)\n",
    "frame = pd.concat(list_Sendai, join='inner') # joinをinnerに指定\n",
    "frame.to_csv('/Users/kenotsu/Documents/Datasets/Master_thesis/Weather' + \"/Weather_Sendai.csv\", encoding=\"cp932\", index=False)\n",
    "\n",
    "#Weather data in Fukushima\n",
    "list_Fukushima = []\n",
    "col_names = [\"Date\",\n",
    "             \"Temp_Fu\", \"Temp_Qual_Fu\", \"Temp_Num_Fu\", \n",
    "             \"SunLight(Time)_Fu\", \"SunLight(Time)_None_Fu\", \"SunLight(Time)_Qual_Fu\", \"SunLight(Time)_Num_Fu\", \n",
    "             \"WindSpeed(m/s)_Fu\", \"WindSpeed(m/s)_Qual_Fu\", \"WindDirection_Fu\", \"WindDirection_Qual_Fu\", \"WindSpeed(m/s)_Num_Fu\", \n",
    "             \"SunLight(MJ/㎡)_Fu\", \"SunLight(MJ/㎡)_Qual_Fu\", \"SunLight(MJ/㎡)_Num_Fu\", \n",
    "             ]\n",
    "allFiles_Fukushima = sorted(glob.glob(path + \"/Fukushima_*.csv\"))\n",
    "for file_Fukushima in allFiles_Fukushima:\n",
    "    df = pd.read_csv(file_Fukushima, sep=',', header=0, encoding='cp932', engine=\"python\", names=col_names, skiprows=[0,1,2,3,4,5]) # csvをデータフレームとして読み込む\n",
    "    list_Fukushima.append(df)\n",
    "frame = pd.concat(list_Fukushima, join='inner') # joinをinnerに指定\n",
    "frame.to_csv('/Users/kenotsu/Documents/Datasets/Master_thesis/Weather' + \"/Weather_Fukushima.csv\", encoding=\"cp932\", index=False)\n",
    "\n",
    "#Weather data in Niigata\n",
    "list_Niigata = []\n",
    "col_names = [\"Date\",\n",
    "             \"Temp_Ni\", \"Temp_Qual_Ni\", \"Temp_Num_Ni\", \n",
    "             \"SunLight(Time)_Ni\", \"SunLight(Time)_None_Ni\", \"SunLight(Time)_Qual_Ni\", \"SunLight(Time)_Num_Ni\", \n",
    "             \"WindSpeed(m/s)_Ni\", \"WindSpeed(m/s)_Qual_Ni\", \"WindDirection_Ni\", \"WindDirection_Qual_Ni\", \"WindSpeed(m/s)_Num_Ni\", \n",
    "             \"SunLight(MJ/㎡)_Ni\", \"SunLight(MJ/㎡)_Qual_Ni\", \"SunLight(MJ/㎡)_Num_Ni\", \n",
    "             ]\n",
    "allFiles_Niigata = sorted(glob.glob(path + \"/Niigata_*.csv\"))\n",
    "for file_Niigata in allFiles_Niigata:\n",
    "    df = pd.read_csv(file_Niigata, sep=',', header=0, encoding='cp932', engine=\"python\", names=col_names, skiprows=[0,1,2,3,4,5]) # csvをデータフレームとして読み込む\n",
    "    list_Niigata.append(df)\n",
    "frame = pd.concat(list_Niigata, join='inner') # joinをinnerに指定\n",
    "frame.to_csv('/Users/kenotsu/Documents/Datasets/Master_thesis/Weather' + \"/Weather_Niigata.csv\", encoding=\"cp932\", index=False)"
   ]
  },
  {
   "cell_type": "markdown",
   "metadata": {},
   "source": [
    "上記ループはもう少し短縮化できるはず(とくに列名の部分)\n",
    "\n",
    "for col in col_names:\n",
    "       if col  + \"_a\"\n",
    "       col\n",
    "col"
   ]
  },
  {
   "cell_type": "code",
   "execution_count": null,
   "metadata": {},
   "outputs": [],
   "source": []
  }
 ],
 "metadata": {
  "kernelspec": {
   "display_name": "Python 3",
   "language": "python",
   "name": "python3"
  },
  "language_info": {
   "codemirror_mode": {
    "name": "ipython",
    "version": 3
   },
   "file_extension": ".py",
   "mimetype": "text/x-python",
   "name": "python",
   "nbconvert_exporter": "python",
   "pygments_lexer": "ipython3",
   "version": "3.7.4"
  },
  "toc": {
   "base_numbering": 1,
   "nav_menu": {
    "height": "201px",
    "width": "439px"
   },
   "number_sections": true,
   "sideBar": true,
   "skip_h1_title": false,
   "title_cell": "Table of Contents",
   "title_sidebar": "Contents",
   "toc_cell": false,
   "toc_position": {
    "height": "calc(100% - 180px)",
    "left": "10px",
    "top": "150px",
    "width": "288px"
   },
   "toc_section_display": true,
   "toc_window_display": true
  }
 },
 "nbformat": 4,
 "nbformat_minor": 2
}
