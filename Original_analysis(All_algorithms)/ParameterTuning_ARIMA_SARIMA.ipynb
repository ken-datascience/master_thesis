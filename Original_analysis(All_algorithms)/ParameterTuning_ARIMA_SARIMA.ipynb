{
 "cells": [
  {
   "cell_type": "code",
   "execution_count": 2,
   "metadata": {},
   "outputs": [],
   "source": [
    "import statsmodels.api as sm\n",
    "import warnings\n",
    "import pandas as pd\n",
    "import numpy as np\n",
    "import time\n",
    "import matplotlib.pyplot as plt\n",
    "warnings.filterwarnings('ignore') "
   ]
  },
  {
   "cell_type": "code",
   "execution_count": 3,
   "metadata": {},
   "outputs": [],
   "source": [
    "y_stats_original = pd.read_csv(\"y_stats_original.csv\")\n",
    "y_stats_original[\"DateTime\"] = pd.to_datetime(y_stats_original[\"DateTime\"])"
   ]
  },
  {
   "cell_type": "code",
   "execution_count": 4,
   "metadata": {},
   "outputs": [],
   "source": [
    "#### CONSTANTS\n",
    "N_SAMPLES = 5\n",
    "MAX_SAMPLE_SIZE = 15000"
   ]
  },
  {
   "cell_type": "markdown",
   "metadata": {},
   "source": [
    "# Check parameter fit_kw={\"method\":'css'}"
   ]
  },
  {
   "cell_type": "code",
   "execution_count": 6,
   "metadata": {},
   "outputs": [
    {
     "name": "stdout",
     "output_type": "stream",
     "text": [
      "Sample Size = 100\n",
      "Sample Size = 3825\n",
      "Sample Size = 7550\n",
      "Sample Size = 11275\n",
      "Sample Size = 15000\n"
     ]
    },
    {
     "data": {
      "image/png": "[encoded data removed]",
      "text/plain": [
       "<Figure size 432x288 with 1 Axes>"
      ]
     },
     "metadata": {
      "needs_background": "light"
     },
     "output_type": "display_data"
    }
   ],
   "source": [
    "# Searching the optimal parameters for ARIMA\n",
    "sample_sizes = np.linspace(100, MAX_SAMPLE_SIZE, num=N_SAMPLES).astype(int)\n",
    "execution_time = []\n",
    "for ss in sample_sizes:\n",
    "    print(f\"Sample Size = {ss}\")\n",
    "    start_time = time.time()                                       # with parameter fit_kw={\"method\":'css'}\n",
    "    param = sm.tsa.arma_order_select_ic(y_stats_original[\"Close\"][:ss], ic='aic', trend='nc', fit_kw={\"method\":'css'})\n",
    "    exec_time = time.time() - start_time\n",
    "    execution_time.append(exec_time)\n",
    "    \n",
    "plt.plot(sample_sizes, execution_time)\n",
    "plt.xlabel(\"Sample Size\")\n",
    "plt.ylabel(\"Execution Time (sec)\")\n",
    "plt.grid()\n",
    "    \n"
   ]
  },
  {
   "cell_type": "code",
   "execution_count": 7,
   "metadata": {},
   "outputs": [
    {
     "data": {
      "text/plain": [
       "{'aic':               0             1             2\n",
       " 0           NaN  93274.592947  84474.380714\n",
       " 1  65553.415960  63903.903512  63713.880565\n",
       " 2  64367.898914  63643.305046  63110.855140\n",
       " 3  64004.700352  63211.643125  63077.880072\n",
       " 4  63820.922019  63108.643350  63208.765899, 'aic_min_order': (3, 2)}"
      ]
     },
     "execution_count": 7,
     "metadata": {},
     "output_type": "execute_result"
    }
   ],
   "source": [
    "param"
   ]
  },
  {
   "cell_type": "code",
   "execution_count": 8,
   "metadata": {},
   "outputs": [
    {
     "name": "stdout",
     "output_type": "stream",
     "text": [
      "Sample Size = 100\n",
      "Sample Size = 3825\n",
      "Sample Size = 7550\n",
      "Sample Size = 11275\n",
      "Sample Size = 15000\n"
     ]
    },
    {
     "data": {
      "image/png": "[encoded data removed]",
      "text/plain": [
       "<Figure size 432x288 with 1 Axes>"
      ]
     },
     "metadata": {
      "needs_background": "light"
     },
     "output_type": "display_data"
    }
   ],
   "source": [
    "# Searching the optimal parameters for ARIMA\n",
    "execution_time = []\n",
    "for ss in sample_sizes:\n",
    "    print(f\"Sample Size = {ss}\")\n",
    "    start_time = time.time()                                  # WITHOUT parameter fit_kw={\"method\":'css'}\n",
    "    param = sm.tsa.arma_order_select_ic(y_stats_original[\"Close\"][:ss], ic='aic', trend='nc')\n",
    "    exec_time = time.time() - start_time\n",
    "    execution_time.append(exec_time)\n",
    "    \n",
    "plt.plot(sample_sizes, execution_time)\n",
    "plt.xlabel(\"Sample Size\")\n",
    "plt.ylabel(\"Execution Time (sec)\")\n",
    "plt.grid()\n"
   ]
  },
  {
   "cell_type": "code",
   "execution_count": 9,
   "metadata": {},
   "outputs": [
    {
     "data": {
      "text/plain": [
       "{'aic':               0             1             2\n",
       " 0           NaN  93274.613780  84473.134365\n",
       " 1  65560.376302  63911.014109  63721.030099\n",
       " 2  64378.229763  63653.753668  63125.557655\n",
       " 3  64018.327902  63229.717503  63093.185166\n",
       " 4  63837.821497  63128.382392  63236.202822, 'aic_min_order': (3, 2)}"
      ]
     },
     "execution_count": 9,
     "metadata": {},
     "output_type": "execute_result"
    }
   ],
   "source": [
    "param"
   ]
  },
  {
   "cell_type": "markdown",
   "metadata": {},
   "source": [
    "# Check Log and Original Data\n",
    "\n",
    "Not much difference by runnign with original data or log data"
   ]
  },
  {
   "cell_type": "code",
   "execution_count": 5,
   "metadata": {},
   "outputs": [],
   "source": [
    "y_stats_log = pd.read_csv(\"y_stats_log.csv\")\n",
    "y_stats_log[\"DateTime\"] = pd.to_datetime(y_stats_log[\"DateTime\"])"
   ]
  },
  {
   "cell_type": "code",
   "execution_count": 11,
   "metadata": {},
   "outputs": [
    {
     "name": "stdout",
     "output_type": "stream",
     "text": [
      "Sample Size = 100\n",
      "Sample Size = 3825\n",
      "Sample Size = 7550\n",
      "Sample Size = 11275\n",
      "Sample Size = 15000\n"
     ]
    },
    {
     "data": {
      "image/png": "[encoded data removed]",
      "text/plain": [
       "<Figure size 432x288 with 1 Axes>"
      ]
     },
     "metadata": {
      "needs_background": "light"
     },
     "output_type": "display_data"
    }
   ],
   "source": [
    "# Searching the optimal parameters for ARIMA\n",
    "sample_sizes = np.linspace(100, MAX_SAMPLE_SIZE, num=N_SAMPLES).astype(int)\n",
    "execution_time = []\n",
    "for ss in sample_sizes:\n",
    "    print(f\"Sample Size = {ss}\")\n",
    "    start_time = time.time()                                       # with parameter fit_kw={\"method\":'css'}\n",
    "    param = sm.tsa.arma_order_select_ic(y_stats_log[\"Close\"][:ss], ic='aic', trend='nc', fit_kw={\"method\":'css'})\n",
    "    exec_time = time.time() - start_time\n",
    "    execution_time.append(exec_time)\n",
    "    \n",
    "plt.plot(sample_sizes, execution_time)\n",
    "plt.xlabel(\"Sample Size\")\n",
    "plt.ylabel(\"Execution Time (sec)\")\n",
    "plt.grid()"
   ]
  },
  {
   "cell_type": "code",
   "execution_count": 11,
   "metadata": {
    "scrolled": true
   },
   "outputs": [
    {
     "data": {
      "text/plain": [
       "{'aic':               0             1             2\n",
       " 0           NaN  93274.613780  84473.134365\n",
       " 1  65560.376302  63911.014109  63721.030099\n",
       " 2  64378.229763  63653.753668  63125.557655\n",
       " 3  64018.327902  63229.717503  63093.185166\n",
       " 4  63837.821497  63128.382392  63236.202822, 'aic_min_order': (3, 2)}"
      ]
     },
     "execution_count": 11,
     "metadata": {},
     "output_type": "execute_result"
    }
   ],
   "source": [
    "param"
   ]
  },
  {
   "cell_type": "markdown",
   "metadata": {},
   "source": [
    "# Check the optimal parameter for SARIMA"
   ]
  },
  {
   "cell_type": "code",
   "execution_count": 11,
   "metadata": {},
   "outputs": [
    {
     "name": "stdout",
     "output_type": "stream",
     "text": [
      "pattern: 192\n",
      "0 / 191 ('order=(1,0,0)', 'seasonal_order=(0,0,0)') 39730.2118161777\n",
      "1 / 191 ('order=(1,0,0)', 'seasonal_order=(0,0,1)') 39467.29393742798\n",
      "2 / 191 ('order=(1,0,0)', 'seasonal_order=(0,1,0)') 47567.815526162754\n",
      "3 / 191 ('order=(1,0,0)', 'seasonal_order=(0,1,1)') 37930.08653275033\n",
      "4 / 191 ('order=(1,0,0)', 'seasonal_order=(1,0,0)') 39435.80186920583\n",
      "5 / 191 ('order=(1,0,0)', 'seasonal_order=(1,0,1)') 38017.66795255078\n",
      "6 / 191 ('order=(1,0,0)', 'seasonal_order=(1,1,0)') 43200.30439261093\n",
      "7 / 191 ('order=(1,0,0)', 'seasonal_order=(1,1,1)') 37990.74697806246\n",
      "8 / 191 ('order=(1,0,1)', 'seasonal_order=(0,0,0)') 38002.624187967325\n",
      "9 / 191 ('order=(1,0,1)', 'seasonal_order=(0,0,1)') 37686.71514433191\n",
      "10 / 191 ('order=(1,0,1)', 'seasonal_order=(0,1,0)') 46734.33509418482\n",
      "11 / 191 ('order=(1,0,1)', 'seasonal_order=(0,1,1)') 36494.84331230611\n",
      "12 / 191 ('order=(1,0,1)', 'seasonal_order=(1,0,0)') 37646.670771463774\n",
      "13 / 191 ('order=(1,0,1)', 'seasonal_order=(1,0,1)') 36583.182952811454\n",
      "14 / 191 ('order=(1,0,1)', 'seasonal_order=(1,1,0)') 42193.71115138344\n",
      "15 / 191 ('order=(1,0,1)', 'seasonal_order=(1,1,1)') 36560.1634324815\n",
      "16 / 191 ('order=(1,0,2)', 'seasonal_order=(0,0,0)') 37941.33942240352\n",
      "17 / 191 ('order=(1,0,2)', 'seasonal_order=(0,0,1)') 37611.302162997774\n",
      "18 / 191 ('order=(1,0,2)', 'seasonal_order=(0,1,0)') 46612.87210747485\n",
      "19 / 191 ('order=(1,0,2)', 'seasonal_order=(0,1,1)') 36329.68740994804\n",
      "20 / 191 ('order=(1,0,2)', 'seasonal_order=(1,0,0)') 37567.24508416996\n",
      "21 / 191 ('order=(1,0,2)', 'seasonal_order=(1,0,1)') 36425.62095575765\n",
      "22 / 191 ('order=(1,0,2)', 'seasonal_order=(1,1,0)') 42059.1513055462\n",
      "23 / 191 ('order=(1,0,2)', 'seasonal_order=(1,1,1)') 36398.526965948564\n",
      "24 / 191 ('order=(1,0,3)', 'seasonal_order=(0,0,0)') 37940.80157811529\n",
      "25 / 191 ('order=(1,0,3)', 'seasonal_order=(0,0,1)') 37611.84619655041\n",
      "26 / 191 ('order=(1,0,3)', 'seasonal_order=(0,1,0)') 46606.228921793685\n",
      "27 / 191 ('order=(1,0,3)', 'seasonal_order=(0,1,1)') 36323.267573053636\n",
      "28 / 191 ('order=(1,0,3)', 'seasonal_order=(1,0,0)') 37569.24390361987\n",
      "29 / 191 ('order=(1,0,3)', 'seasonal_order=(1,0,1)') 36419.562749319404\n",
      "30 / 191 ('order=(1,0,3)', 'seasonal_order=(1,1,0)') 42058.00220899099\n",
      "31 / 191 ('order=(1,0,3)', 'seasonal_order=(1,1,1)') 36391.05938189624\n",
      "32 / 191 ('order=(1,1,0)', 'seasonal_order=(0,0,0)') 39229.76401944206\n",
      "33 / 191 ('order=(1,1,0)', 'seasonal_order=(0,0,1)') 39046.28951764484\n",
      "34 / 191 ('order=(1,1,0)', 'seasonal_order=(0,1,0)') 49744.458531760596\n",
      "35 / 191 ('order=(1,1,0)', 'seasonal_order=(0,1,1)') 38615.186651550124\n",
      "36 / 191 ('order=(1,1,0)', 'seasonal_order=(1,0,0)') 39038.43178404562\n",
      "37 / 191 ('order=(1,1,0)', 'seasonal_order=(1,0,1)') 38716.75028717763\n",
      "38 / 191 ('order=(1,1,0)', 'seasonal_order=(1,1,0)') 44983.28591602528\n",
      "39 / 191 ('order=(1,1,0)', 'seasonal_order=(1,1,1)') 38681.098965195684\n",
      "40 / 191 ('order=(1,1,1)', 'seasonal_order=(0,0,0)') 38298.27385349937\n",
      "41 / 191 ('order=(1,1,1)', 'seasonal_order=(0,0,1)') 37972.0586073498\n",
      "42 / 191 ('order=(1,1,1)', 'seasonal_order=(0,1,0)') 47153.891983114256\n",
      "43 / 191 ('order=(1,1,1)', 'seasonal_order=(0,1,1)') 36685.133346375\n",
      "44 / 191 ('order=(1,1,1)', 'seasonal_order=(1,0,0)') 37928.49753293476\n",
      "45 / 191 ('order=(1,1,1)', 'seasonal_order=(1,0,1)') 36790.29038028563\n",
      "46 / 191 ('order=(1,1,1)', 'seasonal_order=(1,1,0)') 42553.22359225586\n",
      "47 / 191 ('order=(1,1,1)', 'seasonal_order=(1,1,1)') 36756.95474797052\n",
      "48 / 191 ('order=(1,1,2)', 'seasonal_order=(0,0,0)') 37486.79285832991\n",
      "49 / 191 ('order=(1,1,2)', 'seasonal_order=(0,0,1)') 37184.919884456285\n",
      "50 / 191 ('order=(1,1,2)', 'seasonal_order=(0,1,0)') 46740.37224748886\n",
      "51 / 191 ('order=(1,1,2)', 'seasonal_order=(0,1,1)') 36245.15945987847\n",
      "52 / 191 ('order=(1,1,2)', 'seasonal_order=(1,0,0)') 37154.4934276686\n",
      "53 / 191 ('order=(1,1,2)', 'seasonal_order=(1,0,1)') 36341.53638452536\n",
      "54 / 191 ('order=(1,1,2)', 'seasonal_order=(1,1,0)') 42201.64703034826\n",
      "55 / 191 ('order=(1,1,2)', 'seasonal_order=(1,1,1)') 36247.16036460178\n",
      "56 / 191 ('order=(1,1,3)', 'seasonal_order=(0,0,0)') 37473.13611817808\n",
      "57 / 191 ('order=(1,1,3)', 'seasonal_order=(0,0,1)') 37164.973202714675\n",
      "58 / 191 ('order=(1,1,3)', 'seasonal_order=(0,1,0)') 46620.36221718359\n",
      "59 / 191 ('order=(1,1,3)', 'seasonal_order=(0,1,1)') 36165.92874816873\n",
      "60 / 191 ('order=(1,1,3)', 'seasonal_order=(1,0,0)') 37133.18961299613\n",
      "61 / 191 ('order=(1,1,3)', 'seasonal_order=(1,0,1)') 36267.305836365864\n",
      "62 / 191 ('order=(1,1,3)', 'seasonal_order=(1,1,0)') 42070.45887380352\n",
      "63 / 191 ('order=(1,1,3)', 'seasonal_order=(1,1,1)') 36757.21492343531\n",
      "64 / 191 ('order=(2,0,0)', 'seasonal_order=(0,0,0)') 38466.25298198689\n",
      "65 / 191 ('order=(2,0,0)', 'seasonal_order=(0,0,1)') 38200.81145073996\n",
      "66 / 191 ('order=(2,0,0)', 'seasonal_order=(0,1,0)') 47045.97919121303\n",
      "67 / 191 ('order=(2,0,0)', 'seasonal_order=(0,1,1)') 37060.32550440194\n",
      "68 / 191 ('order=(2,0,0)', 'seasonal_order=(1,0,0)') 38172.0517544178\n",
      "69 / 191 ('order=(2,0,0)', 'seasonal_order=(1,0,1)') 37138.30094176539\n",
      "70 / 191 ('order=(2,0,0)', 'seasonal_order=(1,1,0)') 42588.71575923303\n",
      "71 / 191 ('order=(2,0,0)', 'seasonal_order=(1,1,1)') 37118.27942258002\n",
      "72 / 191 ('order=(2,0,1)', 'seasonal_order=(0,0,0)') 37947.224777321135\n",
      "73 / 191 ('order=(2,0,1)', 'seasonal_order=(0,0,1)') 37615.607276576615\n",
      "74 / 191 ('order=(2,0,1)', 'seasonal_order=(0,1,0)') 46608.190363461894\n",
      "75 / 191 ('order=(2,0,1)', 'seasonal_order=(0,1,1)') 36323.169101909814\n",
      "76 / 191 ('order=(2,0,1)', 'seasonal_order=(1,0,0)') 37568.714104862\n",
      "77 / 191 ('order=(2,0,1)', 'seasonal_order=(1,0,1)') 36419.78538756066\n",
      "78 / 191 ('order=(2,0,1)', 'seasonal_order=(1,1,0)') 42055.040675636315\n",
      "79 / 191 ('order=(2,0,1)', 'seasonal_order=(1,1,1)') 36392.18272877591\n",
      "80 / 191 ('order=(2,0,2)', 'seasonal_order=(0,0,0)') 37942.48995562239\n",
      "81 / 191 ('order=(2,0,2)', 'seasonal_order=(0,0,1)') 37613.26173363609\n",
      "82 / 191 ('order=(2,0,2)', 'seasonal_order=(0,1,0)') 46608.24971057557\n",
      "83 / 191 ('order=(2,0,2)', 'seasonal_order=(0,1,1)') 36324.02889340399\n",
      "84 / 191 ('order=(2,0,2)', 'seasonal_order=(1,0,0)') 37568.08152134853\n",
      "85 / 191 ('order=(2,0,2)', 'seasonal_order=(1,0,1)') 36420.66977677873\n",
      "86 / 191 ('order=(2,0,2)', 'seasonal_order=(1,1,0)') 42056.485363019834\n",
      "87 / 191 ('order=(2,0,2)', 'seasonal_order=(1,1,1)') 36392.38130888022\n",
      "88 / 191 ('order=(2,0,3)', 'seasonal_order=(0,0,0)') 37941.11551619408\n",
      "89 / 191 ('order=(2,0,3)', 'seasonal_order=(0,0,1)') 37613.75789969789\n",
      "90 / 191 ('order=(2,0,3)', 'seasonal_order=(0,1,0)') 46608.17902867921\n",
      "91 / 191 ('order=(2,0,3)', 'seasonal_order=(0,1,1)') 36325.26602167366\n",
      "92 / 191 ('order=(2,0,3)', 'seasonal_order=(1,0,0)') 37570.4068416054\n",
      "93 / 191 ('order=(2,0,3)', 'seasonal_order=(1,0,1)') 36257.04281156498\n",
      "94 / 191 ('order=(2,0,3)', 'seasonal_order=(1,1,0)') 42058.40239396467\n",
      "95 / 191 ('order=(2,0,3)', 'seasonal_order=(1,1,1)') 36222.4299440732\n",
      "96 / 191 ('order=(2,1,0)', 'seasonal_order=(0,0,0)') 38605.35163285948\n",
      "97 / 191 ('order=(2,1,0)', 'seasonal_order=(0,0,1)') 38378.27389816943\n",
      "98 / 191 ('order=(2,1,0)', 'seasonal_order=(0,1,0)') 48713.71042120031\n",
      "99 / 191 ('order=(2,1,0)', 'seasonal_order=(0,1,1)') 37722.96566491841\n",
      "100 / 191 ('order=(2,1,0)', 'seasonal_order=(1,0,0)') 38359.63356358304\n",
      "101 / 191 ('order=(2,1,0)', 'seasonal_order=(1,0,1)') 37824.124646735174\n",
      "102 / 191 ('order=(2,1,0)', 'seasonal_order=(1,1,0)') 43936.573711199766\n",
      "103 / 191 ('order=(2,1,0)', 'seasonal_order=(1,1,1)') 37723.11590555597\n",
      "104 / 191 ('order=(2,1,1)', 'seasonal_order=(0,0,0)') 37672.16614510603\n",
      "105 / 191 ('order=(2,1,1)', 'seasonal_order=(0,0,1)') 37392.98495714129\n",
      "106 / 191 ('order=(2,1,1)', 'seasonal_order=(0,1,0)') 47078.75125356847\n",
      "107 / 191 ('order=(2,1,1)', 'seasonal_order=(0,1,1)') 36458.199902283304\n",
      "108 / 191 ('order=(2,1,1)', 'seasonal_order=(1,0,0)') 37366.611043604324\n",
      "109 / 191 ('order=(2,1,1)', 'seasonal_order=(1,0,1)') 36552.28788656984\n",
      "110 / 191 ('order=(2,1,1)', 'seasonal_order=(1,1,0)') 42450.177974056\n",
      "111 / 191 ('order=(2,1,1)', 'seasonal_order=(1,1,1)') 36527.53319657525\n",
      "112 / 191 ('order=(2,1,2)', 'seasonal_order=(0,0,0)') 37477.44367453908\n",
      "113 / 191 ('order=(2,1,2)', 'seasonal_order=(0,0,1)') 37169.7492129847\n",
      "114 / 191 ('order=(2,1,2)', 'seasonal_order=(0,1,0)') 46616.5760498267\n"
     ]
    },
    {
     "name": "stdout",
     "output_type": "stream",
     "text": [
      "115 / 191 ('order=(2,1,2)', 'seasonal_order=(0,1,1)') 36171.140620718805\n",
      "116 / 191 ('order=(2,1,2)', 'seasonal_order=(1,0,0)') 37136.03078216529\n",
      "117 / 191 ('order=(2,1,2)', 'seasonal_order=(1,0,1)') 36272.96745753262\n",
      "118 / 191 ('order=(2,1,2)', 'seasonal_order=(1,1,0)') 42065.82774972057\n",
      "119 / 191 ('order=(2,1,2)', 'seasonal_order=(1,1,1)') 36178.85101180659\n",
      "120 / 191 ('order=(2,1,3)', 'seasonal_order=(0,0,0)') 37469.03587979183\n",
      "121 / 191 ('order=(2,1,3)', 'seasonal_order=(0,0,1)') 37162.027092157674\n",
      "122 / 191 ('order=(2,1,3)', 'seasonal_order=(0,1,0)') 47008.32417695604\n",
      "123 / 191 ('order=(2,1,3)', 'seasonal_order=(0,1,1)') 36245.19994968367\n",
      "124 / 191 ('order=(2,1,3)', 'seasonal_order=(1,0,0)') 37129.12451732829\n",
      "125 / 191 ('order=(2,1,3)', 'seasonal_order=(1,0,1)') 36285.54783538365\n",
      "126 / 191 ('order=(2,1,3)', 'seasonal_order=(1,1,0)') 42088.382619636235\n",
      "127 / 191 ('order=(2,1,3)', 'seasonal_order=(1,1,1)') 36252.12743867197\n",
      "128 / 191 ('order=(3,0,0)', 'seasonal_order=(0,0,0)') 38064.143593565714\n",
      "129 / 191 ('order=(3,0,0)', 'seasonal_order=(0,0,1)') 37779.53515714748\n",
      "130 / 191 ('order=(3,0,0)', 'seasonal_order=(0,1,0)') 46824.57686687904\n",
      "131 / 191 ('order=(3,0,0)', 'seasonal_order=(0,1,1)') 36662.064605282554\n",
      "132 / 191 ('order=(3,0,0)', 'seasonal_order=(1,0,0)') 37743.565791068024\n",
      "133 / 191 ('order=(3,0,0)', 'seasonal_order=(1,0,1)') 36742.44584813676\n",
      "134 / 191 ('order=(3,0,0)', 'seasonal_order=(1,1,0)') 42295.08968502705\n",
      "135 / 191 ('order=(3,0,0)', 'seasonal_order=(1,1,1)') 36723.28027786849\n",
      "136 / 191 ('order=(3,0,1)', 'seasonal_order=(0,0,0)') 37939.88020630688\n",
      "137 / 191 ('order=(3,0,1)', 'seasonal_order=(0,0,1)') 37613.61522721092\n",
      "138 / 191 ('order=(3,0,1)', 'seasonal_order=(0,1,0)') 46608.248922775885\n",
      "139 / 191 ('order=(3,0,1)', 'seasonal_order=(0,1,1)') 36325.16900024924\n",
      "140 / 191 ('order=(3,0,1)', 'seasonal_order=(1,0,0)') 37566.303750532126\n",
      "141 / 191 ('order=(3,0,1)', 'seasonal_order=(1,0,1)') 36420.66718947683\n",
      "142 / 191 ('order=(3,0,1)', 'seasonal_order=(1,1,0)') 42054.95868213305\n",
      "143 / 191 ('order=(3,0,1)', 'seasonal_order=(1,1,1)') 36326.019981498845\n",
      "144 / 191 ('order=(3,0,2)', 'seasonal_order=(0,0,0)') 37938.1511759503\n",
      "145 / 191 ('order=(3,0,2)', 'seasonal_order=(0,0,1)') 37613.39447571927\n",
      "146 / 191 ('order=(3,0,2)', 'seasonal_order=(0,1,0)') 46610.24693130573\n",
      "147 / 191 ('order=(3,0,2)', 'seasonal_order=(0,1,1)') 36326.009707413876\n",
      "148 / 191 ('order=(3,0,2)', 'seasonal_order=(1,0,0)') 37567.78738133154\n",
      "149 / 191 ('order=(3,0,2)', 'seasonal_order=(1,0,1)') 36422.8775542121\n",
      "150 / 191 ('order=(3,0,2)', 'seasonal_order=(1,1,0)') 42057.10872029331\n",
      "151 / 191 ('order=(3,0,2)', 'seasonal_order=(1,1,1)') 36394.40712191068\n",
      "152 / 191 ('order=(3,0,3)', 'seasonal_order=(0,0,0)') 37924.61503524009\n",
      "153 / 191 ('order=(3,0,3)', 'seasonal_order=(0,0,1)') 37604.1035707623\n",
      "154 / 191 ('order=(3,0,3)', 'seasonal_order=(0,1,0)') 46609.952632874265\n",
      "155 / 191 ('order=(3,0,3)', 'seasonal_order=(0,1,1)') 36326.995086248426\n",
      "156 / 191 ('order=(3,0,3)', 'seasonal_order=(1,0,0)') 37561.5667675969\n",
      "157 / 191 ('order=(3,0,3)', 'seasonal_order=(1,0,1)') 36282.46810210079\n",
      "158 / 191 ('order=(3,0,3)', 'seasonal_order=(1,1,0)') 42058.97327721337\n",
      "159 / 191 ('order=(3,0,3)', 'seasonal_order=(1,1,1)') 36394.64123316159\n",
      "160 / 191 ('order=(3,1,0)', 'seasonal_order=(0,0,0)') 38386.29370175773\n",
      "161 / 191 ('order=(3,1,0)', 'seasonal_order=(0,0,1)') 38125.358641283034\n",
      "162 / 191 ('order=(3,1,0)', 'seasonal_order=(0,1,0)') 48181.1980401008\n",
      "163 / 191 ('order=(3,1,0)', 'seasonal_order=(0,1,1)') 37272.70653866185\n",
      "164 / 191 ('order=(3,1,0)', 'seasonal_order=(1,0,0)') 38097.44157898116\n",
      "165 / 191 ('order=(3,1,0)', 'seasonal_order=(1,0,1)') 37376.044120703686\n",
      "166 / 191 ('order=(3,1,0)', 'seasonal_order=(1,1,0)') 43418.55512927158\n",
      "167 / 191 ('order=(3,1,0)', 'seasonal_order=(1,1,1)') 37271.08684616076\n",
      "168 / 191 ('order=(3,1,1)', 'seasonal_order=(0,0,0)') 37482.38977280208\n",
      "169 / 191 ('order=(3,1,1)', 'seasonal_order=(0,0,1)') 37191.702327708954\n",
      "170 / 191 ('order=(3,1,1)', 'seasonal_order=(0,1,0)') 46832.60348588958\n",
      "171 / 191 ('order=(3,1,1)', 'seasonal_order=(0,1,1)') 36279.97759557127\n",
      "172 / 191 ('order=(3,1,1)', 'seasonal_order=(1,0,0)') 37159.91522812461\n",
      "173 / 191 ('order=(3,1,1)', 'seasonal_order=(1,0,1)') 36374.328635525155\n",
      "174 / 191 ('order=(3,1,1)', 'seasonal_order=(1,1,0)') 42319.00625995525\n",
      "175 / 191 ('order=(3,1,1)', 'seasonal_order=(1,1,1)') 36345.69914390943\n",
      "176 / 191 ('order=(3,1,2)', 'seasonal_order=(0,0,0)') 37459.70873588031\n",
      "177 / 191 ('order=(3,1,2)', 'seasonal_order=(0,0,1)') 37154.598704377146\n",
      "178 / 191 ('order=(3,1,2)', 'seasonal_order=(0,1,0)') 46618.57256143935\n",
      "179 / 191 ('order=(3,1,2)', 'seasonal_order=(0,1,1)') 36167.86347098916\n",
      "180 / 191 ('order=(3,1,2)', 'seasonal_order=(1,0,0)') 37120.21949632076\n",
      "181 / 191 ('order=(3,1,2)', 'seasonal_order=(1,0,1)') 36273.2572111431\n",
      "182 / 191 ('order=(3,1,2)', 'seasonal_order=(1,1,0)') 42065.150493063236\n",
      "183 / 191 ('order=(3,1,2)', 'seasonal_order=(1,1,1)') 36232.22998976725\n",
      "184 / 191 ('order=(3,1,3)', 'seasonal_order=(0,0,0)') 38295.14300505695\n",
      "185 / 191 ('order=(3,1,3)', 'seasonal_order=(0,0,1)') 37955.31210491792\n",
      "186 / 191 ('order=(3,1,3)', 'seasonal_order=(0,1,0)') 47078.670172147555\n",
      "187 / 191 ('order=(3,1,3)', 'seasonal_order=(0,1,1)') 36173.57977688298\n",
      "188 / 191 ('order=(3,1,3)', 'seasonal_order=(1,0,0)') 37178.53625788543\n",
      "189 / 191 ('order=(3,1,3)', 'seasonal_order=(1,0,1)') 36795.18871783986\n",
      "190 / 191 ('order=(3,1,3)', 'seasonal_order=(1,1,0)') 42412.3616178538\n",
      "191 / 191 ('order=(3,1,3)', 'seasonal_order=(1,1,1)') 36238.62265394721\n",
      "best[aic] parameter ********\n",
      "                           model_parameters           aic\n",
      "59  (order=(1,1,3), seasonal_order=(0,1,1))  36165.928748\n"
     ]
    }
   ],
   "source": [
    "import warnings\n",
    "warnings.filterwarnings('ignore')\n",
    "\n",
    "# Parameter: order(p, d, q)\n",
    "min_p = 1; max_p = 3 # min_p must be more than 1\n",
    "min_d = 0; max_d = 1\n",
    "min_q = 0; max_q = 3 \n",
    "\n",
    "# seasonal_order(sp, sd, sq)\n",
    "min_sp = 0; max_sp = 1\n",
    "min_sd = 0; max_sd = 1\n",
    "min_sq = 0; max_sq = 1\n",
    "\n",
    "test_pattern = (max_p - min_p +1)*(max_q - min_q + 1)*(max_d - min_d + 1) * (max_sp - min_sp + 1)*(max_sq - min_sq + 1)*(max_sd - min_sd + 1) #avoid: \n",
    "    \n",
    "print(\"pattern:\", test_pattern)\n",
    "\n",
    "sfq = 48 # seasonal_order\n",
    "data = y_stats_log[\"Close\"][83328-17520:] # train data(only for a year)\n",
    "\n",
    "test_results = pd.DataFrame(index=range(test_pattern), columns=[\"model_parameters\", \"aic\"])\n",
    "num = 0\n",
    "for p in range(min_p, max_p + 1):\n",
    "    for d in range(min_d, max_d + 1):\n",
    "        for q in range(min_q, max_q + 1):\n",
    "            for sp in range(min_sp, max_sp + 1):\n",
    "                for sd in range(min_sd, max_sd + 1):\n",
    "                    for sq in range(min_sq, max_sq + 1):\n",
    "                        sarima = sm.tsa.SARIMAX(\n",
    "                            data, order=(p, d, q), \n",
    "                            seasonal_order=(sp, sd, sq, sfq), \n",
    "                            enforce_stationarity = False, \n",
    "                            enforce_invertibility = False\n",
    "                        ).fit()\n",
    "                        test_results.iloc[num][\"model_parameters\"] = \"order=(\" + str(p) + \",\"+ str(d) + \",\"+ str(q) + \")\", \"seasonal_order=(\"+ str(sp) + \",\"+ str(sd) + \",\" + str(sq) + \")\" #avoid: \n",
    "                        test_results.iloc[num][\"aic\"] = sarima.aic\n",
    "                        print(num,'/', test_pattern-1, test_results.iloc[num][\"model_parameters\"],  test_results.iloc[num][\"aic\"] )\n",
    "                        num = num + 1\n",
    "\n",
    "# Results (Minimum AIC)\n",
    "print(\"best[aic] parameter ********\")\n",
    "print(test_results[test_results.aic == min(test_results.aic)])"
   ]
  },
  {
   "cell_type": "code",
   "execution_count": 13,
   "metadata": {},
   "outputs": [
    {
     "data": {
      "text/html": [
       "<div>\n",
       "<style scoped>\n",
       "    .dataframe tbody tr th:only-of-type {\n",
       "        vertical-align: middle;\n",
       "    }\n",
       "\n",
       "    .dataframe tbody tr th {\n",
       "        vertical-align: top;\n",
       "    }\n",
       "\n",
       "    .dataframe thead th {\n",
       "        text-align: right;\n",
       "    }\n",
       "</style>\n",
       "<table border=\"1\" class=\"dataframe\">\n",
       "  <thead>\n",
       "    <tr style=\"text-align: right;\">\n",
       "      <th></th>\n",
       "      <th>model_parameters</th>\n",
       "      <th>aic</th>\n",
       "    </tr>\n",
       "  </thead>\n",
       "  <tbody>\n",
       "    <tr>\n",
       "      <th>59</th>\n",
       "      <td>(order=(1,1,3), seasonal_order=(0,1,1))</td>\n",
       "      <td>36165.928748</td>\n",
       "    </tr>\n",
       "    <tr>\n",
       "      <th>179</th>\n",
       "      <td>(order=(3,1,2), seasonal_order=(0,1,1))</td>\n",
       "      <td>36167.863471</td>\n",
       "    </tr>\n",
       "    <tr>\n",
       "      <th>115</th>\n",
       "      <td>(order=(2,1,2), seasonal_order=(0,1,1))</td>\n",
       "      <td>36171.140621</td>\n",
       "    </tr>\n",
       "    <tr>\n",
       "      <th>187</th>\n",
       "      <td>(order=(3,1,3), seasonal_order=(0,1,1))</td>\n",
       "      <td>36173.579777</td>\n",
       "    </tr>\n",
       "    <tr>\n",
       "      <th>119</th>\n",
       "      <td>(order=(2,1,2), seasonal_order=(1,1,1))</td>\n",
       "      <td>36178.851012</td>\n",
       "    </tr>\n",
       "    <tr>\n",
       "      <th>95</th>\n",
       "      <td>(order=(2,0,3), seasonal_order=(1,1,1))</td>\n",
       "      <td>36222.429944</td>\n",
       "    </tr>\n",
       "    <tr>\n",
       "      <th>183</th>\n",
       "      <td>(order=(3,1,2), seasonal_order=(1,1,1))</td>\n",
       "      <td>36232.22999</td>\n",
       "    </tr>\n",
       "    <tr>\n",
       "      <th>191</th>\n",
       "      <td>(order=(3,1,3), seasonal_order=(1,1,1))</td>\n",
       "      <td>36238.622654</td>\n",
       "    </tr>\n",
       "    <tr>\n",
       "      <th>51</th>\n",
       "      <td>(order=(1,1,2), seasonal_order=(0,1,1))</td>\n",
       "      <td>36245.15946</td>\n",
       "    </tr>\n",
       "    <tr>\n",
       "      <th>123</th>\n",
       "      <td>(order=(2,1,3), seasonal_order=(0,1,1))</td>\n",
       "      <td>36245.19995</td>\n",
       "    </tr>\n",
       "  </tbody>\n",
       "</table>\n",
       "</div>"
      ],
      "text/plain": [
       "                            model_parameters           aic\n",
       "59   (order=(1,1,3), seasonal_order=(0,1,1))  36165.928748\n",
       "179  (order=(3,1,2), seasonal_order=(0,1,1))  36167.863471\n",
       "115  (order=(2,1,2), seasonal_order=(0,1,1))  36171.140621\n",
       "187  (order=(3,1,3), seasonal_order=(0,1,1))  36173.579777\n",
       "119  (order=(2,1,2), seasonal_order=(1,1,1))  36178.851012\n",
       "95   (order=(2,0,3), seasonal_order=(1,1,1))  36222.429944\n",
       "183  (order=(3,1,2), seasonal_order=(1,1,1))   36232.22999\n",
       "191  (order=(3,1,3), seasonal_order=(1,1,1))  36238.622654\n",
       "51   (order=(1,1,2), seasonal_order=(0,1,1))   36245.15946\n",
       "123  (order=(2,1,3), seasonal_order=(0,1,1))   36245.19995"
      ]
     },
     "execution_count": 13,
     "metadata": {},
     "output_type": "execute_result"
    }
   ],
   "source": [
    "test_results.sort_values(by='aic').head(10) # aic top10"
   ]
  },
  {
   "cell_type": "code",
   "execution_count": null,
   "metadata": {},
   "outputs": [],
   "source": []
  }
 ],
 "metadata": {
  "kernelspec": {
   "display_name": "Python 3",
   "language": "python",
   "name": "python3"
  },
  "language_info": {
   "codemirror_mode": {
    "name": "ipython",
    "version": 3
   },
   "file_extension": ".py",
   "mimetype": "text/x-python",
   "name": "python",
   "nbconvert_exporter": "python",
   "pygments_lexer": "ipython3",
   "version": "3.7.4"
  },
  "toc": {
   "base_numbering": 1,
   "nav_menu": {},
   "number_sections": true,
   "sideBar": true,
   "skip_h1_title": false,
   "title_cell": "Table of Contents",
   "title_sidebar": "Contents",
   "toc_cell": false,
   "toc_position": {},
   "toc_section_display": true,
   "toc_window_display": false
  }
 },
 "nbformat": 4,
 "nbformat_minor": 5
}
