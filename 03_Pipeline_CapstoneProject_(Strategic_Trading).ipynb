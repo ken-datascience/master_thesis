{
 "cells": [
  {
   "cell_type": "markdown",
   "metadata": {},
   "source": [
    "# Read the dataset"
   ]
  },
  {
   "cell_type": "code",
   "execution_count": 1,
   "metadata": {},
   "outputs": [],
   "source": [
    "# Import modules\n",
    "import pandas as pd\n",
    "import matplotlib.pyplot as plt #描画ライブラリ\n",
    "import seaborn as sns\n",
    "import numpy as np\n",
    "import warnings\n",
    "warnings.filterwarnings('ignore')\n",
    "%matplotlib inline\n",
    "# import pathlib\n",
    "# import glob\n",
    "# import math\n",
    "\n",
    "# Show all the rows and columns up to 200\n",
    "pd.set_option('display.max_columns', 200)\n",
    "pd.set_option('display.max_rows', 200)"
   ]
  },
  {
   "cell_type": "code",
   "execution_count": 2,
   "metadata": {
    "scrolled": true
   },
   "outputs": [
    {
     "ename": "FileNotFoundError",
     "evalue": "[Errno 2] No such file or directory: 'df_prediction.csv'",
     "output_type": "error",
     "traceback": [
      "\u001b[0;31m---------------------------------------------------------------------------\u001b[0m",
      "\u001b[0;31mFileNotFoundError\u001b[0m                         Traceback (most recent call last)",
      "\u001b[0;32m<ipython-input-2-586471a9ebb5>\u001b[0m in \u001b[0;36m<module>\u001b[0;34m\u001b[0m\n\u001b[1;32m      1\u001b[0m \u001b[0;31m# Data set for seller/buyer\u001b[0m\u001b[0;34m\u001b[0m\u001b[0;34m\u001b[0m\u001b[0;34m\u001b[0m\u001b[0m\n\u001b[0;32m----> 2\u001b[0;31m \u001b[0mdf_prediction_afterDA\u001b[0m \u001b[0;34m=\u001b[0m \u001b[0mpd\u001b[0m\u001b[0;34m.\u001b[0m\u001b[0mread_csv\u001b[0m\u001b[0;34m(\u001b[0m\u001b[0;34m'df_prediction.csv'\u001b[0m\u001b[0;34m,\u001b[0m \u001b[0msep\u001b[0m\u001b[0;34m=\u001b[0m\u001b[0;34m','\u001b[0m\u001b[0;34m,\u001b[0m \u001b[0mheader\u001b[0m\u001b[0;34m=\u001b[0m\u001b[0;36m0\u001b[0m\u001b[0;34m)\u001b[0m\u001b[0;34m\u001b[0m\u001b[0;34m\u001b[0m\u001b[0m\n\u001b[0m\u001b[1;32m      3\u001b[0m \u001b[0mdf_prediction_afterDA\u001b[0m \u001b[0;34m=\u001b[0m \u001b[0mdf_prediction_afterDA\u001b[0m\u001b[0;34m[\u001b[0m\u001b[0;34m[\u001b[0m\u001b[0;34m\"DateTime\"\u001b[0m\u001b[0;34m,\u001b[0m \u001b[0;34m\"Spot\"\u001b[0m\u001b[0;34m,\u001b[0m \u001b[0;34m\"High\"\u001b[0m\u001b[0;34m,\u001b[0m \u001b[0;34m\"Low\"\u001b[0m\u001b[0;34m,\u001b[0m \u001b[0;34m\"Close\"\u001b[0m\u001b[0;34m,\u001b[0m \u001b[0;34m\"Close_pred\"\u001b[0m\u001b[0;34m]\u001b[0m\u001b[0;34m]\u001b[0m\u001b[0;34m\u001b[0m\u001b[0;34m\u001b[0m\u001b[0m\n\u001b[1;32m      4\u001b[0m \u001b[0mdf_prediction_afterDA\u001b[0m\u001b[0;34m.\u001b[0m\u001b[0mhead\u001b[0m\u001b[0;34m(\u001b[0m\u001b[0;34m)\u001b[0m\u001b[0;34m\u001b[0m\u001b[0;34m\u001b[0m\u001b[0m\n",
      "\u001b[0;32m/usr/local/lib/python3.7/site-packages/pandas/io/parsers.py\u001b[0m in \u001b[0;36mread_csv\u001b[0;34m(filepath_or_buffer, sep, delimiter, header, names, index_col, usecols, squeeze, prefix, mangle_dupe_cols, dtype, engine, converters, true_values, false_values, skipinitialspace, skiprows, skipfooter, nrows, na_values, keep_default_na, na_filter, verbose, skip_blank_lines, parse_dates, infer_datetime_format, keep_date_col, date_parser, dayfirst, cache_dates, iterator, chunksize, compression, thousands, decimal, lineterminator, quotechar, quoting, doublequote, escapechar, comment, encoding, dialect, error_bad_lines, warn_bad_lines, delim_whitespace, low_memory, memory_map, float_precision, storage_options)\u001b[0m\n\u001b[1;32m    603\u001b[0m     \u001b[0mkwds\u001b[0m\u001b[0;34m.\u001b[0m\u001b[0mupdate\u001b[0m\u001b[0;34m(\u001b[0m\u001b[0mkwds_defaults\u001b[0m\u001b[0;34m)\u001b[0m\u001b[0;34m\u001b[0m\u001b[0;34m\u001b[0m\u001b[0m\n\u001b[1;32m    604\u001b[0m \u001b[0;34m\u001b[0m\u001b[0m\n\u001b[0;32m--> 605\u001b[0;31m     \u001b[0;32mreturn\u001b[0m \u001b[0m_read\u001b[0m\u001b[0;34m(\u001b[0m\u001b[0mfilepath_or_buffer\u001b[0m\u001b[0;34m,\u001b[0m \u001b[0mkwds\u001b[0m\u001b[0;34m)\u001b[0m\u001b[0;34m\u001b[0m\u001b[0;34m\u001b[0m\u001b[0m\n\u001b[0m\u001b[1;32m    606\u001b[0m \u001b[0;34m\u001b[0m\u001b[0m\n\u001b[1;32m    607\u001b[0m \u001b[0;34m\u001b[0m\u001b[0m\n",
      "\u001b[0;32m/usr/local/lib/python3.7/site-packages/pandas/io/parsers.py\u001b[0m in \u001b[0;36m_read\u001b[0;34m(filepath_or_buffer, kwds)\u001b[0m\n\u001b[1;32m    455\u001b[0m \u001b[0;34m\u001b[0m\u001b[0m\n\u001b[1;32m    456\u001b[0m     \u001b[0;31m# Create the parser.\u001b[0m\u001b[0;34m\u001b[0m\u001b[0;34m\u001b[0m\u001b[0;34m\u001b[0m\u001b[0m\n\u001b[0;32m--> 457\u001b[0;31m     \u001b[0mparser\u001b[0m \u001b[0;34m=\u001b[0m \u001b[0mTextFileReader\u001b[0m\u001b[0;34m(\u001b[0m\u001b[0mfilepath_or_buffer\u001b[0m\u001b[0;34m,\u001b[0m \u001b[0;34m**\u001b[0m\u001b[0mkwds\u001b[0m\u001b[0;34m)\u001b[0m\u001b[0;34m\u001b[0m\u001b[0;34m\u001b[0m\u001b[0m\n\u001b[0m\u001b[1;32m    458\u001b[0m \u001b[0;34m\u001b[0m\u001b[0m\n\u001b[1;32m    459\u001b[0m     \u001b[0;32mif\u001b[0m \u001b[0mchunksize\u001b[0m \u001b[0;32mor\u001b[0m \u001b[0miterator\u001b[0m\u001b[0;34m:\u001b[0m\u001b[0;34m\u001b[0m\u001b[0;34m\u001b[0m\u001b[0m\n",
      "\u001b[0;32m/usr/local/lib/python3.7/site-packages/pandas/io/parsers.py\u001b[0m in \u001b[0;36m__init__\u001b[0;34m(self, f, engine, **kwds)\u001b[0m\n\u001b[1;32m    812\u001b[0m             \u001b[0mself\u001b[0m\u001b[0;34m.\u001b[0m\u001b[0moptions\u001b[0m\u001b[0;34m[\u001b[0m\u001b[0;34m\"has_index_names\"\u001b[0m\u001b[0;34m]\u001b[0m \u001b[0;34m=\u001b[0m \u001b[0mkwds\u001b[0m\u001b[0;34m[\u001b[0m\u001b[0;34m\"has_index_names\"\u001b[0m\u001b[0;34m]\u001b[0m\u001b[0;34m\u001b[0m\u001b[0;34m\u001b[0m\u001b[0m\n\u001b[1;32m    813\u001b[0m \u001b[0;34m\u001b[0m\u001b[0m\n\u001b[0;32m--> 814\u001b[0;31m         \u001b[0mself\u001b[0m\u001b[0;34m.\u001b[0m\u001b[0m_engine\u001b[0m \u001b[0;34m=\u001b[0m \u001b[0mself\u001b[0m\u001b[0;34m.\u001b[0m\u001b[0m_make_engine\u001b[0m\u001b[0;34m(\u001b[0m\u001b[0mself\u001b[0m\u001b[0;34m.\u001b[0m\u001b[0mengine\u001b[0m\u001b[0;34m)\u001b[0m\u001b[0;34m\u001b[0m\u001b[0;34m\u001b[0m\u001b[0m\n\u001b[0m\u001b[1;32m    815\u001b[0m \u001b[0;34m\u001b[0m\u001b[0m\n\u001b[1;32m    816\u001b[0m     \u001b[0;32mdef\u001b[0m \u001b[0mclose\u001b[0m\u001b[0;34m(\u001b[0m\u001b[0mself\u001b[0m\u001b[0;34m)\u001b[0m\u001b[0;34m:\u001b[0m\u001b[0;34m\u001b[0m\u001b[0;34m\u001b[0m\u001b[0m\n",
      "\u001b[0;32m/usr/local/lib/python3.7/site-packages/pandas/io/parsers.py\u001b[0m in \u001b[0;36m_make_engine\u001b[0;34m(self, engine)\u001b[0m\n\u001b[1;32m   1043\u001b[0m             )\n\u001b[1;32m   1044\u001b[0m         \u001b[0;31m# error: Too many arguments for \"ParserBase\"\u001b[0m\u001b[0;34m\u001b[0m\u001b[0;34m\u001b[0m\u001b[0;34m\u001b[0m\u001b[0m\n\u001b[0;32m-> 1045\u001b[0;31m         \u001b[0;32mreturn\u001b[0m \u001b[0mmapping\u001b[0m\u001b[0;34m[\u001b[0m\u001b[0mengine\u001b[0m\u001b[0;34m]\u001b[0m\u001b[0;34m(\u001b[0m\u001b[0mself\u001b[0m\u001b[0;34m.\u001b[0m\u001b[0mf\u001b[0m\u001b[0;34m,\u001b[0m \u001b[0;34m**\u001b[0m\u001b[0mself\u001b[0m\u001b[0;34m.\u001b[0m\u001b[0moptions\u001b[0m\u001b[0;34m)\u001b[0m  \u001b[0;31m# type: ignore[call-arg]\u001b[0m\u001b[0;34m\u001b[0m\u001b[0;34m\u001b[0m\u001b[0m\n\u001b[0m\u001b[1;32m   1046\u001b[0m \u001b[0;34m\u001b[0m\u001b[0m\n\u001b[1;32m   1047\u001b[0m     \u001b[0;32mdef\u001b[0m \u001b[0m_failover_to_python\u001b[0m\u001b[0;34m(\u001b[0m\u001b[0mself\u001b[0m\u001b[0;34m)\u001b[0m\u001b[0;34m:\u001b[0m\u001b[0;34m\u001b[0m\u001b[0;34m\u001b[0m\u001b[0m\n",
      "\u001b[0;32m/usr/local/lib/python3.7/site-packages/pandas/io/parsers.py\u001b[0m in \u001b[0;36m__init__\u001b[0;34m(self, src, **kwds)\u001b[0m\n\u001b[1;32m   1860\u001b[0m \u001b[0;34m\u001b[0m\u001b[0m\n\u001b[1;32m   1861\u001b[0m         \u001b[0;31m# open handles\u001b[0m\u001b[0;34m\u001b[0m\u001b[0;34m\u001b[0m\u001b[0;34m\u001b[0m\u001b[0m\n\u001b[0;32m-> 1862\u001b[0;31m         \u001b[0mself\u001b[0m\u001b[0;34m.\u001b[0m\u001b[0m_open_handles\u001b[0m\u001b[0;34m(\u001b[0m\u001b[0msrc\u001b[0m\u001b[0;34m,\u001b[0m \u001b[0mkwds\u001b[0m\u001b[0;34m)\u001b[0m\u001b[0;34m\u001b[0m\u001b[0;34m\u001b[0m\u001b[0m\n\u001b[0m\u001b[1;32m   1863\u001b[0m         \u001b[0;32massert\u001b[0m \u001b[0mself\u001b[0m\u001b[0;34m.\u001b[0m\u001b[0mhandles\u001b[0m \u001b[0;32mis\u001b[0m \u001b[0;32mnot\u001b[0m \u001b[0;32mNone\u001b[0m\u001b[0;34m\u001b[0m\u001b[0;34m\u001b[0m\u001b[0m\n\u001b[1;32m   1864\u001b[0m         \u001b[0;32mfor\u001b[0m \u001b[0mkey\u001b[0m \u001b[0;32min\u001b[0m \u001b[0;34m(\u001b[0m\u001b[0;34m\"storage_options\"\u001b[0m\u001b[0;34m,\u001b[0m \u001b[0;34m\"encoding\"\u001b[0m\u001b[0;34m,\u001b[0m \u001b[0;34m\"memory_map\"\u001b[0m\u001b[0;34m,\u001b[0m \u001b[0;34m\"compression\"\u001b[0m\u001b[0;34m)\u001b[0m\u001b[0;34m:\u001b[0m\u001b[0;34m\u001b[0m\u001b[0;34m\u001b[0m\u001b[0m\n",
      "\u001b[0;32m/usr/local/lib/python3.7/site-packages/pandas/io/parsers.py\u001b[0m in \u001b[0;36m_open_handles\u001b[0;34m(self, src, kwds)\u001b[0m\n\u001b[1;32m   1361\u001b[0m             \u001b[0mcompression\u001b[0m\u001b[0;34m=\u001b[0m\u001b[0mkwds\u001b[0m\u001b[0;34m.\u001b[0m\u001b[0mget\u001b[0m\u001b[0;34m(\u001b[0m\u001b[0;34m\"compression\"\u001b[0m\u001b[0;34m,\u001b[0m \u001b[0;32mNone\u001b[0m\u001b[0;34m)\u001b[0m\u001b[0;34m,\u001b[0m\u001b[0;34m\u001b[0m\u001b[0;34m\u001b[0m\u001b[0m\n\u001b[1;32m   1362\u001b[0m             \u001b[0mmemory_map\u001b[0m\u001b[0;34m=\u001b[0m\u001b[0mkwds\u001b[0m\u001b[0;34m.\u001b[0m\u001b[0mget\u001b[0m\u001b[0;34m(\u001b[0m\u001b[0;34m\"memory_map\"\u001b[0m\u001b[0;34m,\u001b[0m \u001b[0;32mFalse\u001b[0m\u001b[0;34m)\u001b[0m\u001b[0;34m,\u001b[0m\u001b[0;34m\u001b[0m\u001b[0;34m\u001b[0m\u001b[0m\n\u001b[0;32m-> 1363\u001b[0;31m             \u001b[0mstorage_options\u001b[0m\u001b[0;34m=\u001b[0m\u001b[0mkwds\u001b[0m\u001b[0;34m.\u001b[0m\u001b[0mget\u001b[0m\u001b[0;34m(\u001b[0m\u001b[0;34m\"storage_options\"\u001b[0m\u001b[0;34m,\u001b[0m \u001b[0;32mNone\u001b[0m\u001b[0;34m)\u001b[0m\u001b[0;34m,\u001b[0m\u001b[0;34m\u001b[0m\u001b[0;34m\u001b[0m\u001b[0m\n\u001b[0m\u001b[1;32m   1364\u001b[0m         )\n\u001b[1;32m   1365\u001b[0m \u001b[0;34m\u001b[0m\u001b[0m\n",
      "\u001b[0;32m/usr/local/lib/python3.7/site-packages/pandas/io/common.py\u001b[0m in \u001b[0;36mget_handle\u001b[0;34m(path_or_buf, mode, encoding, compression, memory_map, is_text, errors, storage_options)\u001b[0m\n\u001b[1;32m    645\u001b[0m                 \u001b[0mencoding\u001b[0m\u001b[0;34m=\u001b[0m\u001b[0mioargs\u001b[0m\u001b[0;34m.\u001b[0m\u001b[0mencoding\u001b[0m\u001b[0;34m,\u001b[0m\u001b[0;34m\u001b[0m\u001b[0;34m\u001b[0m\u001b[0m\n\u001b[1;32m    646\u001b[0m                 \u001b[0merrors\u001b[0m\u001b[0;34m=\u001b[0m\u001b[0merrors\u001b[0m\u001b[0;34m,\u001b[0m\u001b[0;34m\u001b[0m\u001b[0;34m\u001b[0m\u001b[0m\n\u001b[0;32m--> 647\u001b[0;31m                 \u001b[0mnewline\u001b[0m\u001b[0;34m=\u001b[0m\u001b[0;34m\"\"\u001b[0m\u001b[0;34m,\u001b[0m\u001b[0;34m\u001b[0m\u001b[0;34m\u001b[0m\u001b[0m\n\u001b[0m\u001b[1;32m    648\u001b[0m             )\n\u001b[1;32m    649\u001b[0m         \u001b[0;32melse\u001b[0m\u001b[0;34m:\u001b[0m\u001b[0;34m\u001b[0m\u001b[0;34m\u001b[0m\u001b[0m\n",
      "\u001b[0;31mFileNotFoundError\u001b[0m: [Errno 2] No such file or directory: 'df_prediction.csv'"
     ]
    }
   ],
   "source": [
    "# Data set for seller/buyer\n",
    "df_prediction_afterDA = pd.read_csv('df_prediction.csv', sep=',', header=0)\n",
    "df_prediction_afterDA = df_prediction_afterDA[[\"DateTime\", \"Spot\", \"High\", \"Low\", \"Close\", \"Close_pred\"]]\n",
    "df_prediction_afterDA.head()"
   ]
  },
  {
   "cell_type": "code",
   "execution_count": null,
   "metadata": {},
   "outputs": [],
   "source": [
    "# Data set for trader\n",
    "df_prediction_beforeDA = pd.read_csv('df_prediction_trader.csv', sep=',', header=0)\n",
    "df_prediction_beforeDA.head()"
   ]
  },
  {
   "cell_type": "markdown",
   "metadata": {},
   "source": [
    "# Benchmark"
   ]
  },
  {
   "cell_type": "markdown",
   "metadata": {},
   "source": [
    "## Benchmark 1 (Trade only on DA market)\n",
    "- No strategy: Players trade on DA market as much as possible to avoid imbalance risks (100% position only on DA market)<p>\n",
    "- Calculate return and risk with \"Spot price\""
   ]
  },
  {
   "cell_type": "markdown",
   "metadata": {},
   "source": [
    "### Requierd dataset"
   ]
  },
  {
   "cell_type": "code",
   "execution_count": null,
   "metadata": {},
   "outputs": [],
   "source": [
    "# Need actual spot, high, close price\n",
    "df_benchmark1 = df_prediction_afterDA.copy()\n",
    "\n",
    "# Drop Close_pred and others for intraday market since players who trade without strategy need only spot price.\n",
    "df_benchmark1 = df_benchmark1.drop([\"Close_pred\", \"High\", \"Low\", \"Close\"], axis=1)\n",
    "\n",
    "df_benchmark1.head()"
   ]
  },
  {
   "cell_type": "markdown",
   "metadata": {},
   "source": [
    "### Evaluation"
   ]
  },
  {
   "cell_type": "code",
   "execution_count": null,
   "metadata": {
    "scrolled": false
   },
   "outputs": [],
   "source": [
    "# fig, ax = plt.subplots(1, figsize=plt.figaspect(.25))\n",
    "plt.scatter(x=df_benchmark1[\"Spot\"].std(), y=df_benchmark1[\"Spot\"].mean(), color=\"r\", label=\"100% Spot price\")\n",
    "print(\"Expected return: {}\".format(df_benchmark1[\"Spot\"].mean().round(2)))\n",
    "print(\"Standard deviation: {}\".format(df_benchmark1[\"Spot\"].std().round(2)))\n",
    "print(\"Sharp ratio: {}\".format(round(df_benchmark1[\"Spot\"].mean()/df_benchmark1[\"Spot\"].std(), 2)))\n",
    "\n",
    "plt.xlabel('Expected Volatility')\n",
    "plt.ylabel('Expected Return')\n",
    "plt.legend();"
   ]
  },
  {
   "cell_type": "code",
   "execution_count": null,
   "metadata": {},
   "outputs": [],
   "source": [
    "df_benchmark1[\"Spot\"].hist(bins=100);"
   ]
  },
  {
   "cell_type": "markdown",
   "metadata": {},
   "source": [
    "## Benchmark2 (Trade only on Intraday market)\n",
    "- No strategy: Players trade on Intra market (100% position only on Intra market)<p>\n",
    "    --> ※ This strategy would be not realistic due to imbalence risk, but just try to look at the performance <p>\n",
    "- Calculate return and risk with \"Close price\""
   ]
  },
  {
   "cell_type": "markdown",
   "metadata": {},
   "source": [
    "### Required dataset"
   ]
  },
  {
   "cell_type": "code",
   "execution_count": null,
   "metadata": {
    "scrolled": true
   },
   "outputs": [],
   "source": [
    "# Need actual spot, high, close price\n",
    "df_benchmark2 = df_prediction_afterDA.copy()\n",
    "\n",
    "# Drop Close_pred and others for intraday market since players who trade without strategy need only spot price.\n",
    "df_benchmark2 = df_benchmark2.drop([\"Close_pred\", \"High\", \"Low\", \"Spot\"], axis=1)\n",
    "\n",
    "df_benchmark2.head()"
   ]
  },
  {
   "cell_type": "markdown",
   "metadata": {},
   "source": [
    "### Evaluation"
   ]
  },
  {
   "cell_type": "code",
   "execution_count": null,
   "metadata": {},
   "outputs": [],
   "source": [
    "# fig, ax = plt.subplots(1, figsize=plt.figaspect(.25))\n",
    "plt.scatter(x=df_benchmark2[\"Close\"].std(), y=df_benchmark2[\"Close\"].mean(), color=\"r\", label=\"100% Close price\")\n",
    "print(\"Expected return: {}\".format(df_benchmark2[\"Close\"].mean().round(2)))\n",
    "print(\"Standard deviation: {}\".format(df_benchmark2[\"Close\"].std().round(2)))\n",
    "print(\"Sharp ratio: {}\".format(round(df_benchmark2[\"Close\"].mean()/df_benchmark2[\"Close\"].std(), 2)))\n",
    "\n",
    "plt.xlabel('Expected Volatility')\n",
    "plt.ylabel('Expected Return')\n",
    "plt.legend();"
   ]
  },
  {
   "cell_type": "code",
   "execution_count": null,
   "metadata": {},
   "outputs": [],
   "source": [
    "df_benchmark2[\"Close\"].hist(bins=100);"
   ]
  },
  {
   "cell_type": "markdown",
   "metadata": {},
   "source": [
    "As a result, both expected return and standard deviation on Intraday market are higher than that on DA market <p>\n",
    "--> Sharp ratio on Intraday market in lower than that of DA market <p>\n",
    "--> Return is high, but TOO RISKY"
   ]
  },
  {
   "cell_type": "markdown",
   "metadata": {},
   "source": [
    "※ The benchmark1 will be compared with the following strategies. \n",
    "- Strategies for seller aim to sell their posision for higher price than the benchmark\n",
    "- Strategies for buyer aim to buy their posision for lower price than the benchmark"
   ]
  },
  {
   "cell_type": "markdown",
   "metadata": {},
   "source": [
    "# Trading strategies for sellers (e.g. power producers)"
   ]
  },
  {
   "attachments": {},
   "cell_type": "markdown",
   "metadata": {},
   "source": [
    "[Assumption]<p>\n",
    "1)\tAll of the market participants are price-takers and their trading decisions do not affect the price on any market. <p>\n",
    "2)\tAuction strategy at the DA market is ignored. Realised spot price is used for evaluating the portfolios since spot price is determined based on a single price auction system.<p>\n",
    "3)\tStrategic decisions are made based only on the price before each prediction point, and trading performance is evaluated based on realised price after the market.<p>\n",
    "4)\tTrading volume is ignored. Therefore, transaction fees are also ignored. Return and risk will be defined in the next section.<p>\n",
    "5)\tThe iceberg order  is ignored since the information of the ask/bid order book is not available. <p>\n",
    "6)\tAll the orders can be executed as far as the price of the order is within the range of the high and low price of that day. It also means there are no penalties due to imbalance.<p>\n",
    "7)\tFor electricity producers, the influence of curtailment on their operating and trading decision making is ignored. Curtailment is restriction of generating electricity especially for renewable energy power plants.<p>\n",
    "8)\tFor retailers, the influence of supply contracts with customers on trading decision making is ignored.<p>"
   ]
  },
  {
   "cell_type": "markdown",
   "metadata": {},
   "source": [
    "## Strategy 1 (Trading with prediction before DA) without execution strategy\n",
    "- Choose the higher price of　1day-lagged spot price or the predicted close price(before DA)<p>\n",
    "    --> Determinint trading position depends on the prices"
   ]
  },
  {
   "cell_type": "code",
   "execution_count": null,
   "metadata": {},
   "outputs": [],
   "source": [
    "Benchmark_seller = df_benchmark1[\"Spot\"].round(2)\n",
    "Benchmark_seller"
   ]
  },
  {
   "cell_type": "markdown",
   "metadata": {},
   "source": [
    "### Required dataset"
   ]
  },
  {
   "cell_type": "code",
   "execution_count": null,
   "metadata": {},
   "outputs": [],
   "source": [
    "# Need predicted price before DA market and 1 dayahead spot price\n",
    "df_seller_strategy1 = df_prediction_beforeDA.copy()\n",
    "df_seller_strategy1[\"Spot_1dayahead\"] = df_seller_strategy1[\"Spot\"].shift(48)\n",
    "# Drop rows that include NaN\n",
    "df_seller_strategy1 = df_seller_strategy1.dropna(how='any', axis=0).reset_index(drop=True)\n",
    "\n",
    "# Make lists for price information\n",
    "SpotLag_list = list(df_seller_strategy1[\"Spot_1dayahead\"])\n",
    "Spot_list = list(df_seller_strategy1[\"Spot\"])\n",
    "High_list = list(df_seller_strategy1[\"High\"])\n",
    "Close_list = list(df_seller_strategy1[\"Close\"])\n",
    "Pred_list = list(df_seller_strategy1[\"Close_pred\"])\n",
    "# Judge_success = []\n",
    "\n",
    "# list for executed orders\n",
    "Executed = []\n",
    "Judge = []\n",
    "Position = []\n",
    "for sl, s, h, c, p  in zip(SpotLag_list, Spot_list, High_list, Close_list, Pred_list):\n",
    "    # Trade on DA market\n",
    "    if sl >= p:\n",
    "        Executed.append(s)\n",
    "        Judge.append(\"True\")\n",
    "        Position.append(\"DA\")\n",
    "    # Trade on Intra markets\n",
    "    else:\n",
    "        if p <= h:\n",
    "            Executed.append(p)\n",
    "            Judge.append(\"True\")\n",
    "            Position.append(\"Intra\")\n",
    "        else:\n",
    "            Executed.append(c)\n",
    "            Judge.append(\"False\")        \n",
    "            Position.append(\"Intra\")\n",
    "df_seller_strategy1[\"ExecutedOrder\"] = pd.Series(Executed)\n",
    "df_seller_strategy1[\"Judge\"] = pd.Series(Judge)\n",
    "df_seller_strategy1[\"Position\"] = pd.Series(Position)\n",
    "\n",
    "#     Judge_success.append((df_seller_bench[\"Judge_\" + str(i) + \"%\"] == 'True').sum())\n",
    "# #For graph\n",
    "# Judge_success = pd.Series(Judge_success)"
   ]
  },
  {
   "cell_type": "code",
   "execution_count": null,
   "metadata": {
    "scrolled": false
   },
   "outputs": [],
   "source": [
    "df_seller_strategy1.tail()"
   ]
  },
  {
   "cell_type": "markdown",
   "metadata": {},
   "source": [
    "### Evaluation"
   ]
  },
  {
   "cell_type": "code",
   "execution_count": null,
   "metadata": {},
   "outputs": [],
   "source": [
    "# The percentage of DA position \n",
    "DA_position = df_seller_strategy1[\"Position\"].value_counts()[0] \n",
    "Intra_position = df_seller_strategy1[\"Position\"].value_counts()[1]\n",
    "DA_ratio = round(DA_position / (DA_position+Intra_position)*100, 2)\n",
    "DA_ratio"
   ]
  },
  {
   "cell_type": "code",
   "execution_count": null,
   "metadata": {
    "scrolled": true
   },
   "outputs": [],
   "source": [
    "# fig, ax = plt.subplots(1, figsize=plt.figaspect(.25))\n",
    "plt.scatter(x=df_seller_strategy1[\"ExecutedOrder\"].std(), y=df_seller_strategy1[\"ExecutedOrder\"].mean(), color=\"r\", label=\"Combination of DA and Intraday\")\n",
    "print(\"Position: DA {}\".format(round(DA_position / (DA_position+Intra_position)*100, 2)) + \"%\")\n",
    "print(\"Expected return: {}\".format(df_seller_strategy1[\"ExecutedOrder\"].mean().round(2)))\n",
    "print(\"Standard deviation: {}\".format(df_seller_strategy1[\"ExecutedOrder\"].std().round(2)))\n",
    "print(\"Sharp ratio: {}\".format(round(df_seller_strategy1[\"ExecutedOrder\"].mean()/df_seller_strategy1[\"ExecutedOrder\"].std(), 2)))\n",
    "print(\"Information ratio: {}\".format(round((df_seller_strategy1[\"ExecutedOrder\"] - Benchmark_seller).mean()/(df_seller_strategy1[\"ExecutedOrder\"] - Benchmark_seller).std(), 2)))\n",
    "\n",
    "plt.xlabel('Expected Volatility')\n",
    "plt.ylabel('Expected Return')\n",
    "plt.legend();"
   ]
  },
  {
   "cell_type": "code",
   "execution_count": null,
   "metadata": {
    "scrolled": true
   },
   "outputs": [],
   "source": [
    "df_seller_strategy1[\"ExecutedOrder\"].hist(bins=100);"
   ]
  },
  {
   "cell_type": "markdown",
   "metadata": {},
   "source": [
    "Much higher than benchmarks"
   ]
  },
  {
   "cell_type": "markdown",
   "metadata": {},
   "source": [
    "## Strategy 1 with execusion strategy\n",
    "- Derive strategy1 with execution strategy <p>\n",
    "※ 10-fold evaluation is necessary"
   ]
  },
  {
   "cell_type": "markdown",
   "metadata": {},
   "source": [
    "### Required dataset"
   ]
  },
  {
   "cell_type": "code",
   "execution_count": null,
   "metadata": {},
   "outputs": [],
   "source": [
    "# Need predicted price before DA market and 1 dayahead spot price\n",
    "df_seller_strategy1_ex = df_prediction_beforeDA.copy()\n",
    "df_seller_strategy1_ex[\"Spot_1dayahead\"] = df_seller_strategy1_ex[\"Spot\"].shift(48)\n",
    "# Drop rows that include NaN\n",
    "df_seller_strategy1_ex = df_seller_strategy1_ex.dropna(how='any', axis=0).reset_index(drop=True)\n",
    "\n",
    "# Make lists for price information\n",
    "SpotLag_list = list(df_seller_strategy1_ex[\"Spot_1dayahead\"])\n",
    "Spot_list = list(df_seller_strategy1[\"Spot\"])\n",
    "High_list = list(df_seller_strategy1_ex[\"High\"])\n",
    "Close_list = list(df_seller_strategy1_ex[\"Close\"])\n",
    "# Judge_success = []\n",
    "\n",
    "# Order and execution with execusion range\n",
    "for i in list(range(0, 51, 1)):\n",
    "    # list for executed orders\n",
    "    Executed_i = []\n",
    "    # list for checking the execution results\n",
    "    Judge_i = []    \n",
    "    Position_i = []    \n",
    "    # Derive the predicted price with the range from +0% ~ +20%\n",
    "    Pred_list_i = list((df_seller_strategy1_ex[\"Close_pred\"]* (1 + i/100)).round(2))\n",
    "    for sl, s, h, c, p in zip(SpotLag_list, Spot_list, High_list, Close_list, Pred_list_i):\n",
    "        # Trade on DA market\n",
    "        if sl >= p:\n",
    "            Executed_i.append(s)\n",
    "            Judge.append(\"True\")\n",
    "            Position_i.append(\"DA\")\n",
    "        # Trade on Intra markets\n",
    "        else:\n",
    "            if p <= h:\n",
    "                Executed_i.append(p)\n",
    "                Judge_i.append(\"True\")\n",
    "                Position_i.append(\"Intra\")\n",
    "            else:\n",
    "                Executed_i.append(c)\n",
    "                Judge_i.append(\"False\")\n",
    "                Position_i.append(\"Intra\")\n",
    "    df_seller_strategy1_ex[\"Exec_\" + str(i) + \"%\"] = pd.Series(Executed_i)\n",
    "    df_seller_strategy1_ex[\"Judge_\" + str(i) + \"%\"] = pd.Series(Judge_i)\n",
    "    df_seller_strategy1_ex[\"Position_\" + str(i) + \"%\"] = pd.Series(Position_i)\n",
    "\n",
    "#     Judge_success.append((df_seller_bench[\"Judge_\" + str(i) + \"%\"] == 'True').sum())\n",
    "# #For graph\n",
    "# Judge_success = pd.Series(Judge_success)"
   ]
  },
  {
   "cell_type": "code",
   "execution_count": null,
   "metadata": {
    "scrolled": false
   },
   "outputs": [],
   "source": [
    "df_seller_strategy1_ex.head()"
   ]
  },
  {
   "cell_type": "markdown",
   "metadata": {},
   "source": [
    "### Evaluation"
   ]
  },
  {
   "cell_type": "markdown",
   "metadata": {},
   "source": [
    "- Seek the best execution point"
   ]
  },
  {
   "cell_type": "code",
   "execution_count": null,
   "metadata": {
    "scrolled": true
   },
   "outputs": [],
   "source": [
    "n_splits=100\n",
    "\n",
    "train_size = df_seller_strategy1_ex.index[-1]\n",
    "sample_size = int(train_size/n_splits)\n",
    "train_index_list = list(np.linspace(sample_size, train_size, n_splits, endpoint = True, dtype='int'))\n",
    "train_index_list\n",
    "\n",
    "# # Confirming the split logic\n",
    "# for train_index in train_index_list:\n",
    "#     # Divide the train/valid set  into 10 folds and pick up it.\n",
    "#     X_train = df_seller_strategy1_ex.iloc[:train_index]\n",
    "#     print(\"start:\", train_index - sample_size)\n",
    "#     print(\"end:\", train_index)"
   ]
  },
  {
   "cell_type": "code",
   "execution_count": null,
   "metadata": {},
   "outputs": [],
   "source": [
    "BestExec = []\n",
    "\n",
    "for train_index in train_index_list:\n",
    "    X_train = df_seller_strategy1_ex[:train_index]\n",
    "\n",
    "    cols = []\n",
    "\n",
    "    # List for the results for evaluation\n",
    "    PortfolioReturn = []\n",
    "    StandardDeviation = []\n",
    "    Max = []\n",
    "    Min = []\n",
    "    SharpRatio = []\n",
    "    InformationRatio = []\n",
    "    \n",
    "    for i in list(range(0, 51, 1)):\n",
    "        Return_i = []\n",
    "        Exec_list_i = list(X_train[\"Exec_\" + str(i) + \"%\"]) \n",
    "        for e in Exec_list_i:\n",
    "            Return_i.append(e)\n",
    "\n",
    "        Return_i = pd.Series(Return_i)\n",
    "        PortfolioReturn.append(Return_i.mean().round(2))\n",
    "        StandardDeviation.append(Return_i.std().round(2))\n",
    "        Max.append(Return_i.max().round(2))\n",
    "        Min.append(Return_i.min().round(2))\n",
    "        SharpRatio.append((Return_i.mean()/Return_i.std()).round(2))\n",
    "        InformationRatio.append(round((Return_i - Benchmark_seller).mean()/(Return_i - Benchmark_seller).std(), 3))\n",
    "\n",
    "        # Make columns names\n",
    "        cols.append(i)\n",
    "\n",
    "    # Make dataframe for evaluation and  switch columns and row.\n",
    "    df_seller_strategy1_ex_eval = pd.DataFrame()\n",
    "    # df_seller_strategy1_ex_eval = df_seller_strategy1_ex_eval.T\n",
    "\n",
    "    # Add columns for evaluation metrics\n",
    "    df_seller_strategy1_ex_eval[\"PortfolioReturn\"] = pd.Series(PortfolioReturn)\n",
    "    df_seller_strategy1_ex_eval[\"StandardDeviation\"] = pd.Series(StandardDeviation)\n",
    "    df_seller_strategy1_ex_eval[\"Max\"] = pd.Series(Max)\n",
    "    df_seller_strategy1_ex_eval[\"Min\"] = pd.Series(Min)\n",
    "    df_seller_strategy1_ex_eval[\"SharpRatio\"] = pd.Series(SharpRatio)\n",
    "    df_seller_strategy1_ex_eval[\"InformationRatio\"] = pd.Series(InformationRatio)\n",
    "\n",
    "    df_seller_strategy1_ex_eval.index = cols\n",
    "    df_seller_strategy1_ex_eval =  df_seller_strategy1_ex_eval.reset_index()\n",
    "    df_seller_strategy1_ex_eval = df_seller_strategy1_ex_eval.rename(columns={\"index\": \"ExecBuffer(%)\"})\n",
    "\n",
    "    Exec = df_seller_strategy1_ex_eval[df_seller_strategy1_ex_eval[\"InformationRatio\"] == df_seller_strategy1_ex_eval[\"InformationRatio\"].max()]\n",
    "    Exec = Exec[\"ExecBuffer(%)\"][Exec[\"StandardDeviation\"] == Exec[\"StandardDeviation\"].min()].iloc[0]\n",
    "    BestExec.append(Exec)"
   ]
  },
  {
   "cell_type": "code",
   "execution_count": null,
   "metadata": {
    "scrolled": true
   },
   "outputs": [],
   "source": [
    "# The best execution of 100 different periods\n",
    "BestExec = pd.Series(BestExec)\n",
    "plt.xlabel('Number of backtest')\n",
    "plt.ylabel('Execution adjustment (%)')\n",
    "BestExec.plot();"
   ]
  },
  {
   "cell_type": "code",
   "execution_count": null,
   "metadata": {
    "scrolled": true
   },
   "outputs": [],
   "source": [
    "Best_i = BestExec.iloc[-1]\n",
    "Best_i"
   ]
  },
  {
   "cell_type": "markdown",
   "metadata": {},
   "source": [
    "- Plot all the possible portfolios"
   ]
  },
  {
   "cell_type": "code",
   "execution_count": null,
   "metadata": {},
   "outputs": [],
   "source": [
    "cols = []\n",
    "\n",
    "# List for the results for evaluation\n",
    "PortfolioReturn = []\n",
    "StandardDeviation = []\n",
    "Max = []\n",
    "Min = []\n",
    "SharpRatio = []\n",
    "InformationRatio = []\n",
    "\n",
    "for i in list(range(0, 51, 1)):\n",
    "    Return_i = []\n",
    "    Exec_list_i = list(df_seller_strategy1_ex[\"Exec_\" + str(i) + \"%\"]) \n",
    "    for e in Exec_list_i:\n",
    "        Return_i.append(e)\n",
    "\n",
    "    Return_i = pd.Series(Return_i)\n",
    "    PortfolioReturn.append(Return_i.mean().round(2))\n",
    "    StandardDeviation.append(Return_i.std().round(2))\n",
    "    Max.append(Return_i.max().round(2))\n",
    "    Min.append(Return_i.min().round(2))\n",
    "    SharpRatio.append((Return_i.mean()/Return_i.std()).round(2))\n",
    "    InformationRatio.append(round((Return_i - Benchmark_seller).mean()/(Return_i - Benchmark_seller).std(), 3))\n",
    "\n",
    "    # Make columns names\n",
    "    cols.append(\"Exec+\" + str(i) + \"%\")\n",
    "\n",
    "# Make dataframe for evaluation and  switch columns and row.\n",
    "df_seller_strategy1_ex_eval = pd.DataFrame()\n",
    "\n",
    "#各算出結果をdf_portfolio_benchの列へ追加する\n",
    "df_seller_strategy1_ex_eval[\"PortfolioReturn\"] = pd.Series(PortfolioReturn)\n",
    "df_seller_strategy1_ex_eval[\"StandardDeviation\"] = pd.Series(StandardDeviation)\n",
    "df_seller_strategy1_ex_eval[\"Max\"] = pd.Series(Max)\n",
    "df_seller_strategy1_ex_eval[\"Min\"] = pd.Series(Min)\n",
    "df_seller_strategy1_ex_eval[\"SharpRatio\"] = pd.Series(SharpRatio)\n",
    "df_seller_strategy1_ex_eval[\"InformationRatio\"] = pd.Series(InformationRatio)\n",
    "\n",
    "df_seller_strategy1_ex_eval.index = cols"
   ]
  },
  {
   "cell_type": "code",
   "execution_count": null,
   "metadata": {
    "scrolled": true
   },
   "outputs": [],
   "source": [
    "df_seller_strategy1_ex_eval.head()"
   ]
  },
  {
   "cell_type": "code",
   "execution_count": null,
   "metadata": {},
   "outputs": [],
   "source": [
    "# Pick up the portfolios on the global minimum variance portfolio\n",
    "std_min = df_seller_strategy1_ex_eval[df_seller_strategy1_ex_eval[\"StandardDeviation\"] == df_seller_strategy1_ex_eval[\"StandardDeviation\"].min()]\n",
    "GMVP = std_min[std_min[\"PortfolioReturn\"] == std_min[\"PortfolioReturn\"].max()].reset_index()\n",
    "GMVP"
   ]
  },
  {
   "cell_type": "code",
   "execution_count": null,
   "metadata": {},
   "outputs": [],
   "source": [
    "Best = df_seller_strategy1_ex_eval[df_seller_strategy1_ex_eval[\"InformationRatio\"] == df_seller_strategy1_ex_eval[\"InformationRatio\"].max()]\n",
    "Best = Best[Best[\"StandardDeviation\"] == Best[\"StandardDeviation\"].min()]\n",
    "Best"
   ]
  },
  {
   "cell_type": "code",
   "execution_count": null,
   "metadata": {
    "scrolled": false
   },
   "outputs": [],
   "source": [
    "plt.figure(figsize=(10,6))\n",
    "\n",
    "# Scatter plot all the possible portfolios\n",
    "plt.scatter(df_seller_strategy1_ex_eval[\"StandardDeviation\"], df_seller_strategy1_ex_eval[\"PortfolioReturn\"], c=df_seller_strategy1_ex_eval[\"InformationRatio\"], marker='.', alpha=0.8, cmap='coolwarm')\n",
    "\n",
    "# Global minimum variance portfolio\n",
    "i = 17\n",
    "DA_position_i = df_seller_strategy1_ex[\"Position_\" + str(i) + \"%\"].value_counts()[0] \n",
    "Intra_position_i = df_seller_strategy1_ex[\"Position_\" + str(i) + \"%\"].value_counts()[1]\n",
    "\n",
    "plt.plot(GMVP[\"StandardDeviation\"], GMVP[\"PortfolioReturn\"], 'r*', markersize=15.0, label=\"GMVP\")\n",
    "print(\"[Global Minimum Variance Portfolio]\")\n",
    "print(\"Position: DA {}\".format(round(DA_position_i / (DA_position_i+Intra_position_i)*100, 2)) + \"%\")\n",
    "print(\"Expected return: {}\".format(GMVP[\"PortfolioReturn\"][0]))\n",
    "print(\"Standard deviation: {}\".format(GMVP[\"StandardDeviation\"][0]))\n",
    "print(\"Sharp ratio: {}\".format(GMVP[\"SharpRatio\"][0]))\n",
    "print(\"Information ratio: {}\".format(GMVP[\"InformationRatio\"][0]))\n",
    "\n",
    "# The Best Execusion\n",
    "i = Best_i\n",
    "DA_position_i = df_seller_strategy1_ex[\"Position_\" + str(i) + \"%\"].value_counts()[0] \n",
    "Intra_position_i = df_seller_strategy1_ex[\"Position_\" + str(i) + \"%\"].value_counts()[1]\n",
    "\n",
    "plt.plot(df_seller_strategy1_ex[\"Exec_\" + str(i) + \"%\"].std(), df_seller_strategy1_ex[\"Exec_\" + str(i) + \"%\"].mean(), \"b*\", markersize=15.0, label=\"Best Execution\")\n",
    "print(\"[Best Execution Portfolio]\")\n",
    "print(\"Position: DA {}\".format(round(DA_position_i / (DA_position_i+Intra_position_i)*100, 2)) + \"%\")\n",
    "print(\"Expected return: {}\".format(df_seller_strategy1_ex[\"Exec_\" + str(i) + \"%\"].mean().round(2)))\n",
    "print(\"Standard deviation: {}\".format(df_seller_strategy1_ex[\"Exec_\" + str(i) + \"%\"].std().round(2)))\n",
    "print(\"Sharp ratio: {}\".format(round(df_seller_strategy1_ex[\"Exec_\" + str(i) + \"%\"].mean() / df_seller_strategy1_ex[\"Exec_\" + str(i) + \"%\"].std(),2)))\n",
    "print(\"Information ratio: {}\".format(round((df_seller_strategy1_ex[\"Exec_\" + str(i) + \"%\"] - Benchmark_seller).mean() / (df_seller_strategy1_ex[\"Exec_\" + str(i) + \"%\"] - Benchmark_seller).std(),2)))\n",
    "\n",
    "plt.xlabel('Expected Volatility')\n",
    "plt.ylabel('Expected Return')\n",
    "plt.colorbar(label='Information Ratio')\n",
    "plt.legend(loc=\"upper left\");"
   ]
  },
  {
   "cell_type": "markdown",
   "metadata": {},
   "source": [
    "## Strategy 2 (Trading with prediction after DA)\n",
    "--> Players have the information of spot price and predicted price after DA market <p>\n",
    "1) Players trade with pre-determined portfolio proportion that ranges from 0% to 100%. <p>\n",
    "2) Positions are derived with execution range if players have the possition of intraday market <p>"
   ]
  },
  {
   "cell_type": "markdown",
   "metadata": {},
   "source": [
    "### Required dataset"
   ]
  },
  {
   "cell_type": "code",
   "execution_count": null,
   "metadata": {},
   "outputs": [],
   "source": [
    "# Need predicted price after DA market and spot price\n",
    "df_seller_strategy2 = df_prediction_afterDA.copy()\n",
    "\n",
    "# Make lists for price information\n",
    "Spot_list = list(df_seller_strategy2[\"Spot\"])\n",
    "High_list = list(df_seller_strategy2[\"High\"])\n",
    "Close_list = list(df_seller_strategy2[\"Close\"])\n",
    "Pred_list_i = list(df_seller_strategy2[\"Close_pred\"])\n",
    "# Judge_success = []\n",
    "                   \n",
    "# list for executed orders\n",
    "Executed_i = []\n",
    "# list for checking the execution results\n",
    "Judge_i = []    \n",
    "                   \n",
    "# Calculate executed price\n",
    "for h, c, p in zip(High_list, Close_list, Pred_list_i):     \n",
    "    # Trade on Intra markets\n",
    "    if p <= h:\n",
    "        Executed_i.append(p)\n",
    "        Judge_i.append(\"True\")\n",
    "    else:\n",
    "        Executed_i.append(c)\n",
    "        Judge_i.append(\"False\")                 \n",
    "\n",
    "df_seller_strategy2[\"ExecutedOrder\"] = pd.Series(Executed_i)\n",
    "df_seller_strategy2[\"Judge\"] = pd.Series(Judge_i)\n",
    "\n",
    "df_seller_strategy2.tail()"
   ]
  },
  {
   "cell_type": "markdown",
   "metadata": {},
   "source": [
    "### Evaluation"
   ]
  },
  {
   "cell_type": "code",
   "execution_count": null,
   "metadata": {},
   "outputs": [],
   "source": [
    "portfolio_weights= [0, 0.1, 0.2, 0.3, 0.4, 0.5, 0.6, 0.7, 0.8, 0.9, 1.0]\n",
    "\n",
    "cols = []\n",
    "\n",
    "Return = [] \n",
    "PortfolioReturn = []\n",
    "StandardDeviation = []\n",
    "SharpRatio = []\n",
    "InformationRatio = []\n",
    "\n",
    "Spot_list = list(df_seller_strategy2[\"Spot\"])\n",
    "Exec_list = list(df_seller_strategy2[\"ExecutedOrder\"])\n",
    "\n",
    "for weight in portfolio_weights:\n",
    "    Return = []\n",
    "    for spot, intra in zip(Spot_list, Exec_list):\n",
    "        # DA market 100%\n",
    "        if weight == 1.0:\n",
    "            Return.append(spot*weight)\n",
    "        # Trade both on DA and Intra day\n",
    "        else:\n",
    "            Return.append(spot*weight + intra*(1-weight))\n",
    "    # Set colmun name\n",
    "    cols.append(\"DA\" + str(weight*100) + \"%\")\n",
    "\n",
    "    # Results\n",
    "    Return = pd.Series(Return)\n",
    "    PortfolioReturn.append(Return.mean().round(2))\n",
    "    StandardDeviation.append(Return.std().round(2))\n",
    "    SharpRatio.append((Return.mean()/Return.std()).round(2))\n",
    "    InformationRatio.append(round((Return - Benchmark_seller).mean() / (Return - Benchmark_seller).std(), 3))\n",
    "    \n",
    "# Transpose columns and rows\n",
    "df_seller_strategy2_eval = pd.DataFrame()\n",
    "df_seller_strategy2_eval = df_seller_strategy2_eval.T\n",
    "\n",
    "# Add columns for evaluation metrics\n",
    "df_seller_strategy2_eval[\"PortfolioReturn\"] = pd.Series(PortfolioReturn)\n",
    "df_seller_strategy2_eval[\"StandardDeviation\"] = pd.Series(StandardDeviation)\n",
    "df_seller_strategy2_eval[\"Max\"] = pd.Series(Max)\n",
    "df_seller_strategy2_eval[\"Min\"] = pd.Series(Min)\n",
    "df_seller_strategy2_eval[\"SharpRatio\"] = pd.Series(SharpRatio)\n",
    "df_seller_strategy2_eval[\"InformationRatio\"] = pd.Series(InformationRatio)\n",
    "df_seller_strategy2_eval.index = cols"
   ]
  },
  {
   "cell_type": "code",
   "execution_count": null,
   "metadata": {
    "scrolled": false
   },
   "outputs": [],
   "source": [
    "df_seller_strategy2_eval"
   ]
  },
  {
   "cell_type": "code",
   "execution_count": null,
   "metadata": {},
   "outputs": [],
   "source": [
    "# Pick up the portfolios on the global minimum variance portfolio\n",
    "std_min = df_seller_strategy2_eval[df_seller_strategy2_eval[\"StandardDeviation\"] == df_seller_strategy2_eval[\"StandardDeviation\"].min()]\n",
    "GMVP = std_min[std_min[\"PortfolioReturn\"] == std_min[\"PortfolioReturn\"].max()].reset_index()\n",
    "GMVP"
   ]
  },
  {
   "cell_type": "code",
   "execution_count": null,
   "metadata": {},
   "outputs": [],
   "source": [
    "# Pick up the best portrolio\n",
    "Best = df_seller_strategy2_eval[df_seller_strategy2_eval[\"InformationRatio\"] == df_seller_strategy2_eval[\"InformationRatio\"].max()]\n",
    "Best = Best[Best[\"StandardDeviation\"] == Best[\"StandardDeviation\"].min()]\n",
    "Best"
   ]
  },
  {
   "cell_type": "code",
   "execution_count": null,
   "metadata": {
    "scrolled": false
   },
   "outputs": [],
   "source": [
    "plt.figure(figsize=(10,6))\n",
    "\n",
    "# Scatter plot all the possible portfolios\n",
    "plt.scatter(df_seller_strategy2_eval[\"StandardDeviation\"], df_seller_strategy2_eval[\"PortfolioReturn\"], c=df_seller_strategy2_eval[\"InformationRatio\"], marker='.', alpha=0.8, cmap='coolwarm')\n",
    "\n",
    "# Global minimum variance portfolio\n",
    "plt.plot(GMVP[\"StandardDeviation\"], GMVP[\"PortfolioReturn\"], 'r*', markersize=15.0, label=\"GMVP\")\n",
    "print(\"[Global Minimum Variance Portfolio]\")\n",
    "print(\"Expected return: {}\".format(GMVP[\"PortfolioReturn\"][0]))\n",
    "print(\"Standard deviation: {}\".format(GMVP[\"StandardDeviation\"][0]))\n",
    "print(\"Sharp ratio: {}\".format(GMVP[\"SharpRatio\"][0]))\n",
    "print(\"Information ratio: {}\".format(GMVP[\"InformationRatio\"][0]))\n",
    "\n",
    "# The Best Execusion\n",
    "plt.plot(Best[\"StandardDeviation\"], Best[\"PortfolioReturn\"], \"b*\", markersize=15.0, label=\"Best Execution\")\n",
    "print(\"[Best Execution Portfolio]\")\n",
    "print(\"Expected return: {}\".format(Best[\"PortfolioReturn\"][0]))\n",
    "print(\"Standard deviation: {}\".format(Best[\"StandardDeviation\"][0]))\n",
    "print(\"Sharp ratio: {}\".format(Best[\"SharpRatio\"][0]))\n",
    "print(\"Information ratio: {}\".format(Best[\"InformationRatio\"][0]))\n",
    "\n",
    "plt.xlabel('Expected Volatility')\n",
    "plt.ylabel('Expected Return')\n",
    "plt.colorbar(label='Information Ratio')\n",
    "plt.legend(loc=\"upper left\");"
   ]
  },
  {
   "cell_type": "markdown",
   "metadata": {},
   "source": [
    "## Strategy 2 with execusion strategy\n",
    "--> Players have the information of spot price and predicted price after DA market <p>\n",
    "1) Players trade with pre-determined portfolio proportion that ranges from 0% to 100%. <p>\n",
    "2) Positions is derived with execution range if players have the possition of intraday market <p>"
   ]
  },
  {
   "cell_type": "markdown",
   "metadata": {},
   "source": [
    "### Required dataset"
   ]
  },
  {
   "cell_type": "code",
   "execution_count": null,
   "metadata": {},
   "outputs": [],
   "source": [
    "# Need predicted price after DA market and spot price\n",
    "df_seller_strategy2_ex = df_prediction_beforeDA.copy()\n",
    "\n",
    "# Make lists for price information\n",
    "Spot_list = list(df_seller_strategy2_ex[\"Spot\"])\n",
    "High_list = list(df_seller_strategy2_ex[\"High\"])\n",
    "Close_list = list(df_seller_strategy2_ex[\"Close\"])\n",
    "\n",
    "# Order and execution with execusion range\n",
    "for i in list(range(0, 51, 1)):\n",
    "    # list for executed orders\n",
    "    Executed_i = []\n",
    "    # list for checking the execution results\n",
    "    Judge_i = []    \n",
    "    # Derive the predicted price with the range\n",
    "    Pred_list_i = list((df_seller_strategy2_ex[\"Close_pred\"]* (1 + i/100)).round(2))\n",
    "    for h, c, p in zip(High_list, Close_list, Pred_list_i):     \n",
    "        # Trade on Intra markets\n",
    "        if p <= h:\n",
    "            Executed_i.append(p)\n",
    "            Judge_i.append(\"True\")\n",
    "        else:\n",
    "            Executed_i.append(c)\n",
    "            Judge_i.append(\"False\")                 \n",
    "                \n",
    "    df_seller_strategy2_ex[\"Exec_\" + str(i) + \"%\"] = pd.Series(Executed_i)\n",
    "    df_seller_strategy2_ex[\"Judge_\" + str(i) + \"%\"] = pd.Series(Judge_i)"
   ]
  },
  {
   "cell_type": "code",
   "execution_count": null,
   "metadata": {},
   "outputs": [],
   "source": [
    "df_seller_strategy2_ex.tail()"
   ]
  },
  {
   "cell_type": "markdown",
   "metadata": {},
   "source": [
    "### Evaluation"
   ]
  },
  {
   "cell_type": "markdown",
   "metadata": {},
   "source": [
    "- Look for the best execution"
   ]
  },
  {
   "cell_type": "code",
   "execution_count": null,
   "metadata": {
    "scrolled": true
   },
   "outputs": [],
   "source": [
    "n_splits=100\n",
    "\n",
    "train_size = df_seller_strategy2_ex.index[-1]\n",
    "sample_size = int(train_size/n_splits)\n",
    "train_index_list = list(np.linspace(sample_size, train_size, n_splits, endpoint = True, dtype='int'))\n",
    "train_index_list\n",
    "\n",
    "# # Confirming the split logic\n",
    "# for train_index in train_index_list:\n",
    "#     # Divide the train/valid set  into 10 folds and pick up it.\n",
    "#     X_train = df_seller_strategy2_ex.iloc[:train_index]\n",
    "#     print(\"start:\", train_index - sample_size)\n",
    "#     print(\"end:\", train_index)"
   ]
  },
  {
   "cell_type": "code",
   "execution_count": null,
   "metadata": {
    "scrolled": true
   },
   "outputs": [],
   "source": [
    "# This code is used only for confirming the best execution point\n",
    "BestExec = []\n",
    "\n",
    "for train_index in train_index_list:\n",
    "    X_train = df_seller_strategy2_ex[:train_index]\n",
    "    Spot_list = list(X_train[\"Spot\"])\n",
    "   \n",
    "    cols = []\n",
    "    PortfolioReturn = []\n",
    "    StandardDeviation = []\n",
    "    SharpRatio = []\n",
    "    InformationRatio = []\n",
    "    \n",
    "    portfolio_weights= [0, 0.1, 0.2, 0.3, 0.4, 0.5, 0.6, 0.7, 0.8, 0.9, 1.0]\n",
    "    \n",
    "    for i in list(range(0, 51, 1)):\n",
    "        for weight in portfolio_weights:\n",
    "            Return_iw = []\n",
    "            Exec_list = list(X_train[\"Exec_\" + str(i) + \"%\"])\n",
    "            for spot, intra in zip(Spot_list, Exec_list):\n",
    "                # DA market 100%\n",
    "                if weight == 1.0:\n",
    "                    Return_iw.append(spot*weight)\n",
    "                # Trade both on DA and Intra day\n",
    "                else:\n",
    "                    Return_iw.append(spot*weight + intra*(1-weight))\n",
    "            # Set colmun name\n",
    "            if weight == 1.0:\n",
    "                cols.append(str(0))\n",
    "            else:\n",
    "                cols.append(str(i))\n",
    "\n",
    "            # Results\n",
    "            Return_iw = pd.Series(Return_iw)\n",
    "            PortfolioReturn.append(Return_iw.mean().round(2))\n",
    "            StandardDeviation.append(Return_iw.std().round(2))\n",
    "            SharpRatio.append((Return_iw.mean()/Return_iw.std()).round(2))\n",
    "            InformationRatio.append(round((Return_iw - Benchmark_seller).mean() / (Return_iw - Benchmark_seller).std(), 3))\n",
    "\n",
    "    # Results of every portfolios derived by execution strateties\n",
    "    df_seller_strategy2_ex_eval = pd.DataFrame()\n",
    "    df_seller_strategy2_ex_eval = df_seller_strategy2_ex_eval.T\n",
    "\n",
    "    # Add columns for evaluation metrics\n",
    "    df_seller_strategy2_ex_eval[\"PortfolioReturn\"] = pd.Series(PortfolioReturn)\n",
    "    df_seller_strategy2_ex_eval[\"StandardDeviation\"] = pd.Series(StandardDeviation)\n",
    "    df_seller_strategy2_ex_eval[\"SharpRatio\"] = pd.Series(SharpRatio)\n",
    "    df_seller_strategy2_ex_eval[\"InformationRatio\"] = pd.Series(InformationRatio)\n",
    "\n",
    "    df_seller_strategy2_ex_eval.index = cols\n",
    "    df_seller_strategy2_ex_eval = df_seller_strategy2_ex_eval.reset_index()\n",
    "    df_seller_strategy2_ex_eval = df_seller_strategy2_ex_eval.rename(columns={\"index\": \"ExecBuffer(%)\"})\n",
    "\n",
    "    Exec = df_seller_strategy2_ex_eval[df_seller_strategy2_ex_eval[\"InformationRatio\"] == df_seller_strategy2_ex_eval[\"InformationRatio\"].max()]\n",
    "    Exec = Exec[\"ExecBuffer(%)\"][Exec[\"StandardDeviation\"] == Exec[\"StandardDeviation\"].min()].iloc[0]\n",
    "    BestExec.append(Exec)"
   ]
  },
  {
   "cell_type": "code",
   "execution_count": null,
   "metadata": {},
   "outputs": [],
   "source": [
    "BestExec = pd.Series(BestExec).astype(int)\n",
    "plt.xlabel('Number of backtest')\n",
    "plt.ylabel('Execution adjustment (%)')\n",
    "BestExec.plot();"
   ]
  },
  {
   "cell_type": "code",
   "execution_count": null,
   "metadata": {},
   "outputs": [],
   "source": [
    "Best_i = BestExec.iloc[-1]\n",
    "Best_i"
   ]
  },
  {
   "cell_type": "markdown",
   "metadata": {},
   "source": [
    "- Plot all the possible portfolios"
   ]
  },
  {
   "cell_type": "code",
   "execution_count": null,
   "metadata": {},
   "outputs": [],
   "source": [
    "Spot_list = list(df_seller_strategy2_ex[\"Spot\"])\n",
    "\n",
    "portfolio_weights= [0, 0.1, 0.2, 0.3, 0.4, 0.5, 0.6, 0.7, 0.8, 0.9, 1.0]\n",
    "execution_buffers = list(range(0, 51, 1))\n",
    "\n",
    "cols = []\n",
    "\n",
    "Return = [] \n",
    "PortfolioReturn = []\n",
    "StandardDeviation = []\n",
    "SharpRatio = []\n",
    "InformationRatio = []\n",
    "\n",
    "for i in execution_buffers:\n",
    "    Exec_list = list(df_seller_strategy2_ex[\"Exec_\" + str(i) + \"%\"])\n",
    "    for weight in portfolio_weights:\n",
    "        Return_iw = []\n",
    "        for spot, intra in zip(Spot_list, Exec_list):\n",
    "            # DA market 100%\n",
    "            if weight == 1.0:\n",
    "                Return_iw.append(spot*weight)\n",
    "            # Trade both on DA and Intra day\n",
    "            else:\n",
    "                Return_iw.append(spot*weight + intra*(1-weight))\n",
    "        # Set colmun name for execution buffer\n",
    "        if weight == 1.0:\n",
    "            cols.append(\"DA100%\")\n",
    "        else:\n",
    "            cols.append(\"DA\" + str(weight*100) + \"%_Exec+\" + str(i) + \"%\")\n",
    "\n",
    "        # Results\n",
    "        Return_iw = pd.Series(Return_iw)\n",
    "        PortfolioReturn.append(Return_iw.mean().round(2))\n",
    "        StandardDeviation.append(Return_iw.std().round(2))\n",
    "        SharpRatio.append((Return_iw.mean()/Return_iw.std()).round(2))\n",
    "        InformationRatio.append(round((Return_iw - Benchmark_seller).mean() / (Return_iw - Benchmark_seller).std(), 3))\n",
    "\n",
    "# Transpose columns and rows\n",
    "df_seller_strategy2_ex_eval = pd.DataFrame()\n",
    "df_seller_strategy2_ex_eval = df_seller_strategy2_ex_eval.T\n",
    "\n",
    "# Add columns for evaluation metrics\n",
    "df_seller_strategy2_ex_eval[\"PortfolioReturn\"] = pd.Series(PortfolioReturn)\n",
    "df_seller_strategy2_ex_eval[\"StandardDeviation\"] = pd.Series(StandardDeviation)\n",
    "df_seller_strategy2_ex_eval[\"SharpRatio\"] = pd.Series(SharpRatio)\n",
    "df_seller_strategy2_ex_eval[\"InformationRatio\"] = pd.Series(InformationRatio)\n",
    "\n",
    "df_seller_strategy2_ex_eval.index = cols"
   ]
  },
  {
   "cell_type": "code",
   "execution_count": null,
   "metadata": {},
   "outputs": [],
   "source": [
    "# Pick up the portfolios on the global minimum variance portfolio\n",
    "std_min = df_seller_strategy2_ex_eval[df_seller_strategy2_ex_eval[\"StandardDeviation\"] == df_seller_strategy2_ex_eval[\"StandardDeviation\"].min()]\n",
    "GMVP = std_min[std_min[\"PortfolioReturn\"] == std_min[\"PortfolioReturn\"].max()].reset_index()\n",
    "GMVP"
   ]
  },
  {
   "cell_type": "code",
   "execution_count": null,
   "metadata": {
    "scrolled": true
   },
   "outputs": [],
   "source": [
    "# Pick up the best portfolio\n",
    "Best = df_seller_strategy2_ex_eval[df_seller_strategy2_ex_eval[\"InformationRatio\"] == df_seller_strategy2_ex_eval[\"InformationRatio\"].max()]\n",
    "Best = Best[Best[\"StandardDeviation\"] == Best[\"StandardDeviation\"].min()]\n",
    "Best"
   ]
  },
  {
   "cell_type": "code",
   "execution_count": null,
   "metadata": {
    "scrolled": true
   },
   "outputs": [],
   "source": [
    "plt.figure(figsize=(10,6))\n",
    "\n",
    "# Scatter plot all the possible portfolios\n",
    "plt.scatter(df_seller_strategy2_ex_eval[\"StandardDeviation\"], df_seller_strategy2_ex_eval[\"PortfolioReturn\"], c=df_seller_strategy2_ex_eval[\"InformationRatio\"], marker='.', alpha=0.8, cmap='coolwarm')\n",
    "\n",
    "# Global minimum variance portfolio\n",
    "plt.plot(GMVP[\"StandardDeviation\"], GMVP[\"PortfolioReturn\"], 'r*', markersize=15.0, label=\"GMVP\")\n",
    "print(\"[Global Minimum Variance Portfolio: \" + str(GMVP.index[0]) + \"]\")\n",
    "print(\"Expected return: {}\".format(GMVP[\"PortfolioReturn\"][0]))\n",
    "print(\"Standard deviation: {}\".format(GMVP[\"StandardDeviation\"][0]))\n",
    "print(\"Sharp ratio: {}\".format(GMVP[\"SharpRatio\"][0]))\n",
    "print(\"Information ratio: {}\".format(GMVP[\"InformationRatio\"][0]))\n",
    "\n",
    "# The Best Execusion\n",
    "DA_weight = 0.5\n",
    "i = Best_i\n",
    "Best_Portfolio = (DA_weight * df_seller_strategy2_ex[\"Spot\"]) + ((1 - DA_weight) * df_seller_strategy2_ex[\"Exec_\" + str(i) + \"%\"])\n",
    "plt.plot(Best_Portfolio.std(), Best_Portfolio.mean(), \"b*\", markersize=15.0, label=\"Best Execution\")\n",
    "print(\"[Best Execution Portfolio: \" + str(DA_weight) + \"%_Exec+\" + str(i) + \"%]\")\n",
    "print(\"Expected return: {}\".format(Best_Portfolio.mean().round(2)))\n",
    "print(\"Standard deviation: {}\".format(Best_Portfolio.std().round(2)))\n",
    "print(\"Sharp ratio: {}\".format(round(Best_Portfolio.mean() / Best_Portfolio.std(), 2)))\n",
    "print(\"Information ratio: {}\".format(round((Best_Portfolio - Benchmark_seller).mean() / (Best_Portfolio - Benchmark_seller).std(), 3)))\n",
    "\n",
    "plt.title('Strategic portfolios with excution adjustment for sellers')\n",
    "plt.xlabel('expected volatility')\n",
    "plt.ylabel('expected return')\n",
    "plt.colorbar(label='Information ratio')\n",
    "plt.legend(loc=\"upper right\");"
   ]
  },
  {
   "cell_type": "markdown",
   "metadata": {},
   "source": [
    "# Trading strategy for buyers (e.g. retailers)\n",
    "- Basically the same as the strategies for seller\n",
    "- Buyer aims to buy for cheaper price"
   ]
  },
  {
   "cell_type": "code",
   "execution_count": null,
   "metadata": {},
   "outputs": [],
   "source": [
    "# Benchmark for buyer's strategy\n",
    "Benchmark_buyer = -df_benchmark1[\"Spot\"].round(2)\n",
    "Benchmark_buyer"
   ]
  },
  {
   "cell_type": "markdown",
   "metadata": {},
   "source": [
    "## Strategy 1 (Trading with prediction before DA) without execution strategy"
   ]
  },
  {
   "cell_type": "markdown",
   "metadata": {},
   "source": [
    "### Required dataset"
   ]
  },
  {
   "cell_type": "code",
   "execution_count": null,
   "metadata": {
    "scrolled": true
   },
   "outputs": [],
   "source": [
    "# Need predicted price before DA market and 1 dayahead spot price\n",
    "df_buyer_strategy1 = df_prediction_beforeDA.copy()\n",
    "df_buyer_strategy1[\"Spot_1dayahead\"] = df_buyer_strategy1[\"Spot\"].shift(48)\n",
    "# Drop rows that include NaN\n",
    "df_buyer_strategy1 = df_buyer_strategy1.dropna(how='any', axis=0).reset_index(drop=True)\n",
    "\n",
    "# Make lists for price information\n",
    "SpotLag_list= list(df_buyer_strategy1[\"Spot_1dayahead\"])\n",
    "Spot_list = list(df_buyer_strategy1[\"Spot\"])\n",
    "Low_list = list(df_buyer_strategy1[\"Low\"])\n",
    "Close_list = list(df_buyer_strategy1[\"Close\"])\n",
    "Pred_list = list(df_buyer_strategy1[\"Close_pred\"])\n",
    "# Judge_success = []\n",
    "\n",
    "# list for executed orders\n",
    "Executed = []\n",
    "Judge = []\n",
    "Position = []\n",
    "for sl, s, l, c, p  in zip(SpotLag_list, Spot_list, Low_list, Close_list, Pred_list):\n",
    "    # Trade on DA market\n",
    "    if sl <= p:\n",
    "        Executed.append(-s)\n",
    "        Judge.append(\"True\")\n",
    "        Position.append(\"DA\") \n",
    "    # Trade on Intra markets\n",
    "    else:\n",
    "        if p <= l:\n",
    "            Executed.append(-p)\n",
    "            Judge.append(\"True\")\n",
    "            Position.append(\"Intra\") \n",
    "        else:\n",
    "            Executed.append(-c)\n",
    "            Judge.append(\"False\")  \n",
    "            Position.append(\"Intra\") \n",
    "\n",
    "df_buyer_strategy1[\"ExecutedOrder\"] = pd.Series(Executed)\n",
    "df_buyer_strategy1[\"Judge\"] = pd.Series(Judge)\n",
    "df_buyer_strategy1[\"Position\"] = pd.Series(Position)\n",
    "\n",
    "df_buyer_strategy1.tail()"
   ]
  },
  {
   "cell_type": "markdown",
   "metadata": {},
   "source": [
    "### Evaluation"
   ]
  },
  {
   "cell_type": "code",
   "execution_count": null,
   "metadata": {},
   "outputs": [],
   "source": [
    "# The percentage of DA position\n",
    "DA_position = df_buyer_strategy1[\"Position\"].value_counts()[0] \n",
    "Intra_position = df_buyer_strategy1[\"Position\"].value_counts()[1]\n",
    "DA_ratio = round(DA_position / (DA_position+Intra_position)*100, 2)\n",
    "DA_ratio"
   ]
  },
  {
   "cell_type": "code",
   "execution_count": null,
   "metadata": {},
   "outputs": [],
   "source": [
    "# fig, ax = plt.subplots(1, figsize=plt.figaspect(.25))\n",
    "plt.scatter(x=df_buyer_strategy1[\"ExecutedOrder\"].std(), y=df_buyer_strategy1[\"ExecutedOrder\"].mean(), color=\"r\", label=\"Combination of DA and Intraday\")\n",
    "print(\"Position: DA {}\".format(round(DA_position / (DA_position+Intra_position)*100, 2)) + \"%\")\n",
    "print(\"Expected return: {}\".format(df_buyer_strategy1[\"ExecutedOrder\"].mean().round(2)))\n",
    "print(\"Standard deviation: {}\".format(df_buyer_strategy1[\"ExecutedOrder\"].std().round(2)))\n",
    "print(\"Sharp ratio: {}\".format(round(df_buyer_strategy1[\"ExecutedOrder\"].mean()/df_buyer_strategy1[\"ExecutedOrder\"].std(),2)))\n",
    "print(\"Information ratio: {}\".format(round((df_buyer_strategy1[\"ExecutedOrder\"] - Benchmark_buyer).mean() / (df_buyer_strategy1[\"ExecutedOrder\"] - Benchmark_buyer).std(),3)))\n",
    "\n",
    "plt.xlabel('Expected Volatility')\n",
    "plt.ylabel('Expected Return')\n",
    "plt.legend();"
   ]
  },
  {
   "cell_type": "code",
   "execution_count": null,
   "metadata": {},
   "outputs": [],
   "source": [
    "df_buyer_strategy1[\"ExecutedOrder\"].hist(bins=100);"
   ]
  },
  {
   "cell_type": "markdown",
   "metadata": {},
   "source": [
    "## Strategy 1 with execusion strategy"
   ]
  },
  {
   "cell_type": "markdown",
   "metadata": {},
   "source": [
    "### Required dataset"
   ]
  },
  {
   "cell_type": "code",
   "execution_count": null,
   "metadata": {},
   "outputs": [],
   "source": [
    "# Need predicted price before DA market and 1 dayahead spot price\n",
    "df_buyer_strategy1_ex = df_prediction_beforeDA.copy()\n",
    "df_buyer_strategy1_ex[\"Spot_1dayahead\"] = df_buyer_strategy1_ex[\"Spot\"].shift(48)\n",
    "# Drop rows that include NaN\n",
    "df_buyer_strategy1_ex = df_buyer_strategy1_ex.dropna(how='any', axis=0).reset_index(drop=True)\n",
    "\n",
    "# Make lists for price information\n",
    "SpotLag_list= list(df_buyer_strategy1_ex[\"Spot_1dayahead\"])\n",
    "Spot_list = list(df_buyer_strategy1_ex[\"Spot\"])\n",
    "Low_list = list(df_buyer_strategy1_ex[\"Low\"])\n",
    "Close_list = list(df_buyer_strategy1_ex[\"Close\"])\n",
    "# Judge_success = []\n",
    "\n",
    "# Order and execution with execusion range\n",
    "for i in list(range(0, 51, 1)):\n",
    "    # list for executed orders\n",
    "    Executed_i = []\n",
    "    # list for checking the execution results\n",
    "    Judge_i = []    \n",
    "    Position_i = []\n",
    "    # Derive the predicted price with the range from +0% ~ +20%\n",
    "    Pred_list_i = list((df_buyer_strategy1_ex[\"Close_pred\"]* (1 - i/100)).round(2))\n",
    "    for sl, s, l, c, p in zip(SpotLag_list, Spot_list, Low_list, Close_list, Pred_list_i):\n",
    "        # Trade on DA market\n",
    "        if sl <= p:\n",
    "            Executed_i.append(-s)\n",
    "            Judge_i.append(\"True\")\n",
    "            Position_i.append(\"DA\")\n",
    "        # Trade on Intra markets\n",
    "        else:\n",
    "            if p >= l:\n",
    "                Executed_i.append(-p)\n",
    "                Judge_i.append(\"True\")\n",
    "                Position_i.append(\"Intra\")\n",
    "            else:\n",
    "                Executed_i.append(-c)\n",
    "                Judge_i.append(\"False\")           \n",
    "                Position_i.append(\"Intra\")\n",
    "\n",
    "    df_buyer_strategy1_ex[\"Exec_\" + str(i) + \"%\"] = pd.Series(Executed_i)\n",
    "    df_buyer_strategy1_ex[\"Judge_\" + str(i) + \"%\"] = pd.Series(Judge_i)\n",
    "    df_buyer_strategy1_ex[\"Position_\" + str(i) + \"%\"] = pd.Series(Position_i)\n",
    "    \n",
    "df_buyer_strategy1_ex.head()"
   ]
  },
  {
   "cell_type": "markdown",
   "metadata": {},
   "source": [
    "### Evaluation"
   ]
  },
  {
   "cell_type": "code",
   "execution_count": null,
   "metadata": {
    "scrolled": true
   },
   "outputs": [],
   "source": [
    "n_splits=100\n",
    "\n",
    "train_size = df_buyer_strategy1_ex.index[-1]\n",
    "train_index_list = list(np.linspace(train_size/n_splits, train_size, n_splits, endpoint = True, dtype='int'))\n",
    "train_index_list"
   ]
  },
  {
   "cell_type": "code",
   "execution_count": null,
   "metadata": {
    "scrolled": false
   },
   "outputs": [],
   "source": [
    "# This code is used only for confirming the best execution point\n",
    "BestExec = []\n",
    "\n",
    "for train_index in train_index_list:\n",
    "    X_train = df_buyer_strategy1_ex[:train_index]\n",
    "\n",
    "    cols = []\n",
    "\n",
    "    # List for the results for evaluation\n",
    "    PortfolioReturn = []\n",
    "    StandardDeviation = []\n",
    "    Max = []\n",
    "    Min = []\n",
    "    SharpRatio = []\n",
    "    InformationRatio=[]\n",
    "\n",
    "    for i in list(range(0, 51, 1)):\n",
    "        Return_i = []\n",
    "        Exec_list_i = list(X_train[\"Exec_\" + str(i) + \"%\"]) \n",
    "        for e in Exec_list_i:\n",
    "            Return_i.append(e)\n",
    "\n",
    "        Return_i = pd.Series(Return_i)\n",
    "        PortfolioReturn.append(Return_i.mean().round(2))\n",
    "        StandardDeviation.append(Return_i.std().round(2))\n",
    "        Max.append(Return_i.max().round(2))\n",
    "        Min.append(Return_i.min().round(2))\n",
    "        SharpRatio.append((Return_i.mean()/Return_i.std()).round(2))\n",
    "        InformationRatio.append(round((Return_i - Benchmark_buyer).mean() / (Return_i - Benchmark_buyer).std(), 3))\n",
    "\n",
    "        # Make columns names\n",
    "        cols.append(i)\n",
    "\n",
    "    # Make dataframe for evaluation and  switch columns and row.\n",
    "    df_buyer_strategy1_ex_eval = pd.DataFrame()\n",
    "\n",
    "    # Add columns for evaluation metrics\n",
    "    df_buyer_strategy1_ex_eval[\"PortfolioReturn\"] = pd.Series(PortfolioReturn)\n",
    "    df_buyer_strategy1_ex_eval[\"StandardDeviation\"] = pd.Series(StandardDeviation)\n",
    "    df_buyer_strategy1_ex_eval[\"Max\"] = pd.Series(Max)\n",
    "    df_buyer_strategy1_ex_eval[\"Min\"] = pd.Series(Min)\n",
    "    df_buyer_strategy1_ex_eval[\"SharpRatio\"] = pd.Series(SharpRatio)\n",
    "    df_buyer_strategy1_ex_eval[\"InformationRatio\"] = pd.Series(InformationRatio)\n",
    "\n",
    "    df_buyer_strategy1_ex_eval.index = cols\n",
    "    df_buyer_strategy1_ex_eval = df_buyer_strategy1_ex_eval.reset_index()\n",
    "    df_buyer_strategy1_ex_eval = df_buyer_strategy1_ex_eval.rename(columns={\"index\": \"ExecBuffer(%)\"})\n",
    "\n",
    "    Exec = df_buyer_strategy1_ex_eval[df_buyer_strategy1_ex_eval[\"InformationRatio\"] == df_buyer_strategy1_ex_eval[\"InformationRatio\"].max()]\n",
    "    Exec = -Exec[\"ExecBuffer(%)\"][Exec[\"StandardDeviation\"] == Exec[\"StandardDeviation\"].min()].iloc[0]\n",
    "    BestExec.append(Exec)"
   ]
  },
  {
   "cell_type": "code",
   "execution_count": null,
   "metadata": {},
   "outputs": [],
   "source": [
    "# The best execution of 100 different periods\n",
    "BestExec = pd.Series(BestExec)\n",
    "plt.xlabel('Number of backtest')\n",
    "plt.ylabel('Execution adjustment (%)')\n",
    "BestExec.plot();"
   ]
  },
  {
   "cell_type": "code",
   "execution_count": null,
   "metadata": {},
   "outputs": [],
   "source": [
    "Best_i = BestExec.iloc[-1]\n",
    "Best_i"
   ]
  },
  {
   "cell_type": "code",
   "execution_count": null,
   "metadata": {},
   "outputs": [],
   "source": [
    "cols = []\n",
    "\n",
    "# List for the results for evaluation\n",
    "PortfolioReturn = []\n",
    "StandardDeviation = []\n",
    "Max = []\n",
    "Min = []\n",
    "SharpRatio = []\n",
    "InformationRatio = []\n",
    "\n",
    "for i in list(range(0, 51, 1)):\n",
    "    Return_i = []\n",
    "    Exec_list_i = list(df_buyer_strategy1_ex[\"Exec_\" + str(i) + \"%\"]) \n",
    "    for e in Exec_list_i:\n",
    "        Return_i.append(e)\n",
    "\n",
    "    Return_i = pd.Series(Return_i)\n",
    "    PortfolioReturn.append(Return_i.mean().round(2))\n",
    "    StandardDeviation.append(Return_i.std().round(2))\n",
    "    Max.append(Return_i.max().round(2))\n",
    "    Min.append(Return_i.min().round(2))\n",
    "    SharpRatio.append((Return_i.mean()/Return_i.std()).round(2))\n",
    "    InformationRatio.append(round((Return_i - Benchmark_buyer).mean() / (Return_i - Benchmark_buyer).std(), 3))\n",
    "\n",
    "    # Make columns names\n",
    "    cols.append(\"Exec+\" + str(i) + \"%\")\n",
    "\n",
    "# Make dataframe for evaluation and  switch columns and row.\n",
    "df_buyer_strategy1_ex_eval = pd.DataFrame()\n",
    "\n",
    "# Add columns for evaluation metrics\n",
    "df_buyer_strategy1_ex_eval[\"PortfolioReturn\"] = pd.Series(PortfolioReturn)\n",
    "df_buyer_strategy1_ex_eval[\"StandardDeviation\"] = pd.Series(StandardDeviation)\n",
    "df_buyer_strategy1_ex_eval[\"Max\"] = pd.Series(Max)\n",
    "df_buyer_strategy1_ex_eval[\"Min\"] = pd.Series(Min)\n",
    "df_buyer_strategy1_ex_eval[\"SharpRatio\"] = pd.Series(SharpRatio)\n",
    "df_buyer_strategy1_ex_eval[\"InformationRatio\"] = pd.Series(InformationRatio)\n",
    "\n",
    "df_buyer_strategy1_ex_eval.index = cols"
   ]
  },
  {
   "cell_type": "code",
   "execution_count": null,
   "metadata": {},
   "outputs": [],
   "source": [
    "# Pick up the portfolios on the global minimum variance portfolio\n",
    "std_min = df_buyer_strategy1_ex_eval[df_buyer_strategy1_ex_eval[\"StandardDeviation\"] == df_buyer_strategy1_ex_eval[\"StandardDeviation\"].min()]\n",
    "GMVP = std_min[std_min[\"PortfolioReturn\"] == std_min[\"PortfolioReturn\"].max()]\n",
    "GMVP"
   ]
  },
  {
   "cell_type": "code",
   "execution_count": null,
   "metadata": {},
   "outputs": [],
   "source": [
    "# The best portfolio\n",
    "Best = df_buyer_strategy1_ex_eval[df_buyer_strategy1_ex_eval[\"InformationRatio\"] == df_buyer_strategy1_ex_eval[\"InformationRatio\"].max()]\n",
    "Best = Best[Best[\"StandardDeviation\"] == Best[\"StandardDeviation\"].min()]\n",
    "Best"
   ]
  },
  {
   "cell_type": "code",
   "execution_count": null,
   "metadata": {
    "scrolled": false
   },
   "outputs": [],
   "source": [
    "plt.figure(figsize=(10,6))\n",
    "\n",
    "# Scatter plot all the possible portfolios\n",
    "plt.scatter(df_buyer_strategy1_ex_eval[\"StandardDeviation\"], df_buyer_strategy1_ex_eval[\"PortfolioReturn\"], c=df_buyer_strategy1_ex_eval[\"InformationRatio\"], marker='.', alpha=0.8, cmap='coolwarm')\n",
    "\n",
    "# Global minimum variance portfolio\n",
    "plt.plot(GMVP[\"StandardDeviation\"], GMVP[\"PortfolioReturn\"], 'r*', markersize=15.0, label=\"GMVP\")\n",
    "print(\"[Global Minimum Variance Portfolio]\")\n",
    "i = 6\n",
    "DA_position_i = df_buyer_strategy1_ex[\"Position_\" + str(i) + \"%\"].value_counts()[0] \n",
    "Intra_position_i = df_buyer_strategy1_ex[\"Position_\" + str(i) + \"%\"].value_counts()[1]\n",
    "print(\"Position: DA {}\".format(round(DA_position_i / (DA_position_i+Intra_position_i)*100, 2)) + \"%\")\n",
    "print(\"Expected return: {}\".format(GMVP[\"PortfolioReturn\"][0]))\n",
    "print(\"Standard deviation: {}\".format(GMVP[\"StandardDeviation\"][0]))\n",
    "print(\"Sharp ratio: {}\".format(GMVP[\"SharpRatio\"][0]))\n",
    "print(\"Information ratio: {}\".format(GMVP[\"InformationRatio\"][0]))\n",
    "\n",
    "print(\"[Best Execution Portfolio]\")\n",
    "i = -Best_i\n",
    "DA_position_i = df_buyer_strategy1_ex[\"Position_\" + str(i) + \"%\"].value_counts()[0] \n",
    "Intra_position_i = df_buyer_strategy1_ex[\"Position_\" + str(i) + \"%\"].value_counts()[1]\n",
    "plt.plot(df_buyer_strategy1_ex[\"Exec_\" + str(i) + \"%\"].std(), df_buyer_strategy1_ex[\"Exec_\" + str(i) + \"%\"].mean(), \"b*\", markersize=15.0, label=\"Best Execution\")\n",
    "print(\"Position: DA {}\".format(round(DA_position_i / (DA_position_i+Intra_position_i)*100, 2)) + \"%\")\n",
    "print(\"Expected return: {}\".format(df_buyer_strategy1_ex[\"Exec_\" + str(i) + \"%\"].mean().round(2)))\n",
    "print(\"Standard deviation: {}\".format(df_buyer_strategy1_ex[\"Exec_\" + str(i) + \"%\"].std().round(2)))\n",
    "print(\"Sharp ratio: {}\".format(round(df_buyer_strategy1_ex[\"Exec_\" + str(i) + \"%\"].mean() / df_buyer_strategy1_ex[\"Exec_\" + str(i) + \"%\"].std(),2)))\n",
    "print(\"Information ratio: {}\".format(round((df_buyer_strategy1_ex[\"Exec_\" + str(i) + \"%\"] - Benchmark_buyer).mean() / (df_buyer_strategy1_ex[\"Exec_\" + str(i) + \"%\"] - Benchmark_buyer).std(),2)))\n",
    "\n",
    "plt.xlabel('Expected Volatility')\n",
    "plt.ylabel('Expected Return')\n",
    "plt.colorbar(label='Information Ratio')\n",
    "plt.legend(loc=\"upper left\");"
   ]
  },
  {
   "cell_type": "markdown",
   "metadata": {},
   "source": [
    "## Strategy 2 (Trading with prediction after DA)"
   ]
  },
  {
   "cell_type": "markdown",
   "metadata": {},
   "source": [
    "### Required dataset"
   ]
  },
  {
   "cell_type": "code",
   "execution_count": null,
   "metadata": {},
   "outputs": [],
   "source": [
    "# Need predicted price after DA market and spot price\n",
    "df_buyer_strategy2 = df_prediction_afterDA.copy()\n",
    "\n",
    "# Make lists for price information\n",
    "Spot_list = list(df_buyer_strategy2[\"Spot\"])\n",
    "Low_list = list(df_buyer_strategy2[\"Low\"])\n",
    "Close_list = list(df_buyer_strategy2[\"Close\"])\n",
    "Pred_list_i = list(df_buyer_strategy2[\"Close_pred\"])\n",
    "# Judge_success = []\n",
    "                   \n",
    "# list for executed orders\n",
    "Executed_i = []\n",
    "# list for checking the execution results\n",
    "Judge_i = []    \n",
    "                   \n",
    "# Calculate executed price\n",
    "for l, c, p in zip(Low_list, Close_list, Pred_list_i):     \n",
    "    # Trade on Intra markets\n",
    "    if p >= l:\n",
    "        Executed_i.append(p)\n",
    "        Judge_i.append(\"True\")\n",
    "    else:\n",
    "        Executed_i.append(c)\n",
    "        Judge_i.append(\"False\")                 \n",
    "\n",
    "df_buyer_strategy2[\"ExecutedOrder\"] = pd.Series(Executed_i)\n",
    "df_buyer_strategy2[\"Judge\"] = pd.Series(Judge_i)"
   ]
  },
  {
   "cell_type": "code",
   "execution_count": null,
   "metadata": {},
   "outputs": [],
   "source": [
    "df_buyer_strategy2.head()"
   ]
  },
  {
   "cell_type": "markdown",
   "metadata": {},
   "source": [
    "### Evaluation"
   ]
  },
  {
   "cell_type": "code",
   "execution_count": null,
   "metadata": {},
   "outputs": [],
   "source": [
    "portfolio_weights= [0, 0.1, 0.2, 0.3, 0.4, 0.5, 0.6, 0.7, 0.8, 0.9, 1.0]\n",
    "\n",
    "cols = []\n",
    "\n",
    "PortfolioReturn = []\n",
    "StandardDeviation = []\n",
    "Max = []\n",
    "Min = []\n",
    "SharpRatio = []\n",
    "InformationRatio = []\n",
    "\n",
    "Spot_list = list(df_buyer_strategy2[\"Spot\"])\n",
    "Exec_list = list(df_buyer_strategy2[\"ExecutedOrder\"])\n",
    "\n",
    "for weight in portfolio_weights:\n",
    "    Return = []\n",
    "    for spot, intra in zip(Spot_list, Exec_list):\n",
    "        # DA market 100%\n",
    "        if weight == 1.0:\n",
    "            Return.append(-spot*weight)\n",
    "        # Trade both on DA and Intra day\n",
    "        else:\n",
    "            Return.append(-spot*weight + -intra*(1-weight))\n",
    "    # Set colmun name\n",
    "    cols.append(\"DA\" + str(weight*100) + \"%\")\n",
    "\n",
    "    # Results\n",
    "    Return = pd.Series(Return)\n",
    "    PortfolioReturn.append(Return.mean().round(2))\n",
    "    StandardDeviation.append(Return.std().round(2))\n",
    "    Max.append(Return.max().round(2))\n",
    "    Min.append(Return.min().round(2))\n",
    "    SharpRatio.append((Return.mean()/Return.std()).round(2))\n",
    "    InformationRatio.append(round((Return - Benchmark_buyer).mean() / (Return - Benchmark_buyer).std(), 3))\n",
    "\n",
    "# Transpose columns and rows\n",
    "df_buyer_strategy2_eval = pd.DataFrame()\n",
    "df_buyer_strategy2_eval = df_buyer_strategy2_eval.T\n",
    "\n",
    "# Add columns for evaluation metrics\n",
    "df_buyer_strategy2_eval[\"PortfolioReturn\"] = pd.Series(PortfolioReturn)\n",
    "df_buyer_strategy2_eval[\"StandardDeviation\"] = pd.Series(StandardDeviation)\n",
    "df_buyer_strategy2_eval[\"Max\"] = pd.Series(Max)\n",
    "df_buyer_strategy2_eval[\"Min\"] = pd.Series(Min)\n",
    "df_buyer_strategy2_eval[\"SharpRatio\"] = pd.Series(SharpRatio)\n",
    "df_buyer_strategy2_eval[\"InformationRatio\"] = pd.Series(InformationRatio)\n",
    "\n",
    "df_buyer_strategy2_eval.index = cols"
   ]
  },
  {
   "cell_type": "code",
   "execution_count": null,
   "metadata": {
    "scrolled": false
   },
   "outputs": [],
   "source": [
    "df_buyer_strategy2_eval"
   ]
  },
  {
   "cell_type": "code",
   "execution_count": null,
   "metadata": {},
   "outputs": [],
   "source": [
    "# Pick up the portfolios on the global minimum variance portfolio\n",
    "std_min = df_buyer_strategy2_eval[df_buyer_strategy2_eval[\"StandardDeviation\"] == df_buyer_strategy2_eval[\"StandardDeviation\"].min()]\n",
    "GMVP = std_min[std_min[\"PortfolioReturn\"] == std_min[\"PortfolioReturn\"].min()]\n",
    "GMVP"
   ]
  },
  {
   "cell_type": "code",
   "execution_count": null,
   "metadata": {},
   "outputs": [],
   "source": [
    "# The Best Execusion\n",
    "Best = df_buyer_strategy2_eval[df_buyer_strategy2_eval[\"InformationRatio\"] == df_buyer_strategy2_eval[\"InformationRatio\"].max()]\n",
    "Best = Best[Best[\"StandardDeviation\"] == Best[\"StandardDeviation\"].min()]\n",
    "Best"
   ]
  },
  {
   "cell_type": "code",
   "execution_count": null,
   "metadata": {
    "scrolled": false
   },
   "outputs": [],
   "source": [
    "plt.figure(figsize=(10,6))\n",
    "\n",
    "# Scatter plot all the possible portfolios\n",
    "plt.scatter(df_buyer_strategy2_eval[\"StandardDeviation\"], df_buyer_strategy2_eval[\"PortfolioReturn\"], c=df_buyer_strategy2_eval[\"InformationRatio\"], marker='.', alpha=0.8, cmap='coolwarm')\n",
    "\n",
    "# Global minimum variance portfolio\n",
    "plt.plot(GMVP[\"StandardDeviation\"], GMVP[\"PortfolioReturn\"], 'r*', markersize=15.0, label=\"GMVP\")\n",
    "print(\"[Global Minimum Variance Portfolio]\")\n",
    "print(\"Expected return: {}\".format(GMVP[\"PortfolioReturn\"][0]))\n",
    "print(\"Standard deviation: {}\".format(GMVP[\"StandardDeviation\"][0]))\n",
    "print(\"Sharp ratio: {}\".format(GMVP[\"SharpRatio\"][0]))\n",
    "print(\"Information ratio: {}\".format(GMVP[\"InformationRatio\"][0]))\n",
    "\n",
    "# Best executed portfolio\n",
    "plt.plot(Best[\"StandardDeviation\"], Best[\"PortfolioReturn\"], \"b*\", markersize=15.0, label=\"Best Execution\")\n",
    "print(\"[Best Execution Portfolio]\")\n",
    "print(\"Expected return: {}\".format(Best[\"PortfolioReturn\"][0]))\n",
    "print(\"Standard deviation: {}\".format(Best[\"StandardDeviation\"][0]))\n",
    "print(\"Sharp ratio: {}\".format(Best[\"SharpRatio\"][0]))\n",
    "print(\"Information ratio: {}\".format(Best[\"InformationRatio\"][0]))\n",
    "\n",
    "plt.xlabel('Expected Volatility')\n",
    "plt.ylabel('Expected Return')\n",
    "plt.colorbar(label='Information Ratio')\n",
    "plt.legend(loc=\"upper right\");"
   ]
  },
  {
   "cell_type": "markdown",
   "metadata": {},
   "source": [
    "## Strategy 2 with execution strategy"
   ]
  },
  {
   "cell_type": "markdown",
   "metadata": {},
   "source": [
    "### Required dataset"
   ]
  },
  {
   "cell_type": "code",
   "execution_count": null,
   "metadata": {},
   "outputs": [],
   "source": [
    "# Need predicted price after DA market and spot price\n",
    "df_buyer_strategy2_ex = df_prediction_beforeDA.copy()\n",
    "\n",
    "# Make lists for price information\n",
    "Spot_list = list(df_buyer_strategy2_ex[\"Spot\"])\n",
    "Low_list = list(df_buyer_strategy2_ex[\"Low\"])\n",
    "Close_list = list(df_buyer_strategy2_ex[\"Close\"])\n",
    "# Judge_success = []\n",
    "\n",
    "# Order and execution with execusion range\n",
    "for i in list(range(0, 51, 1)):\n",
    "    # list for executed orders\n",
    "    Executed_i = []\n",
    "    # list for checking the execution results\n",
    "    Judge_i = []    \n",
    "    Position_i = []\n",
    "    # Derive the predicted price with the range\n",
    "    Pred_list_i = list((df_buyer_strategy2_ex[\"Close_pred\"]* (1 - i/100)).round(2))\n",
    "    for l, c, p in zip(Low_list, Close_list, Pred_list_i):     \n",
    "        # Trade on Intra markets\n",
    "        if p >= l:\n",
    "            Executed_i.append(p)\n",
    "            Judge_i.append(\"True\")\n",
    "            Position_i.append(\"DA\")\n",
    "        else:\n",
    "            Executed_i.append(c)\n",
    "            Judge_i.append(\"False\") \n",
    "            Position_i.append(\"Intra\")\n",
    "                \n",
    "    df_buyer_strategy2_ex[\"Exec_\" + str(i) + \"%\"] = pd.Series(Executed_i)\n",
    "    df_buyer_strategy2_ex[\"Judge_\" + str(i) + \"%\"] = pd.Series(Judge_i)\n",
    "    df_buyer_strategy2_ex[\"Position_\" + str(i) + \"%\"] = pd.Series(Position_i)\n",
    "    \n",
    "df_buyer_strategy2_ex.head()"
   ]
  },
  {
   "cell_type": "markdown",
   "metadata": {},
   "source": [
    "### Evaluation"
   ]
  },
  {
   "cell_type": "markdown",
   "metadata": {},
   "source": [
    "- Look for the best execution"
   ]
  },
  {
   "cell_type": "code",
   "execution_count": null,
   "metadata": {
    "scrolled": true
   },
   "outputs": [],
   "source": [
    "n_splits=100\n",
    "\n",
    "train_size = df_buyer_strategy2_ex.index[-1]\n",
    "train_index_list = list(np.linspace(train_size/n_splits, train_size, n_splits, endpoint = True, dtype='int'))\n",
    "train_index_list\n",
    "\n",
    "# # Confirming the split logic\n",
    "# for train_index in train_index_list:\n",
    "#     # Divide the train/valid set  into 10 folds and pick up it.\n",
    "#     X_train = df_buyer_strategy2_ex.iloc[:train_index]\n",
    "#     print(\"TRAIN:\", train_index)"
   ]
  },
  {
   "cell_type": "code",
   "execution_count": null,
   "metadata": {},
   "outputs": [],
   "source": [
    "BestExec = []\n",
    "\n",
    "for train_index in train_index_list:\n",
    "    X_train = df_buyer_strategy2_ex[:train_index]\n",
    "\n",
    "    Spot_list = list(X_train[\"Spot\"])\n",
    "\n",
    "    portfolio_weights= [0, 0.1, 0.2, 0.3, 0.4, 0.5, 0.6, 0.7, 0.8, 0.9, 1.0]\n",
    "    execution_buffers = list(range(0, 51, 1))\n",
    "\n",
    "    cols = []\n",
    "\n",
    "    PortfolioReturn = []\n",
    "    StandardDeviation = []\n",
    "    Max = []\n",
    "    Min = []\n",
    "    SharpRatio = []\n",
    "    InformationRatio = []\n",
    "    \n",
    "    for i in execution_buffers:\n",
    "        Exec_list = list(X_train[\"Exec_\" + str(i) + \"%\"])\n",
    "        for weight in portfolio_weights:\n",
    "            Return = []\n",
    "            for spot, intra in zip(Spot_list, Exec_list):\n",
    "                # DA market 100%\n",
    "                if weight == 1.0:\n",
    "                    Return.append(-spot*weight)\n",
    "                # Trade both on DA and Intra day\n",
    "                else:\n",
    "                    Return.append(-spot*weight + -intra*(1-weight))\n",
    "            # Set colmun name for execution buffer\n",
    "            if weight == 1.0:\n",
    "                cols.append(str(0))\n",
    "            else:\n",
    "                cols.append(str(i))\n",
    "\n",
    "            # Results\n",
    "            Return = pd.Series(Return)\n",
    "            PortfolioReturn.append(Return.mean().round(2))\n",
    "            StandardDeviation.append(Return.std().round(2))\n",
    "            Max.append(Return.max().round(2))\n",
    "            Min.append(Return.min().round(2))\n",
    "            SharpRatio.append((Return.mean()/Return.std()).round(2))\n",
    "            InformationRatio.append(round((Return - Benchmark_buyer).mean() / (Return - Benchmark_buyer).std(), 3))\n",
    "\n",
    "    #df_portfolio_benchの列を設定し、行列を入替えて調整する\n",
    "    df_buyer_strategy2_ex_eval = pd.DataFrame()\n",
    "    df_buyer_strategy2_ex_eval = df_buyer_strategy2_ex_eval.T\n",
    "\n",
    "    #各算出結果をdf_portfolio_benchの列へ追加する\n",
    "    df_buyer_strategy2_ex_eval[\"PortfolioReturn\"] = pd.Series(PortfolioReturn)\n",
    "    df_buyer_strategy2_ex_eval[\"StandardDeviation\"] = pd.Series(StandardDeviation)\n",
    "    df_buyer_strategy2_ex_eval[\"Max\"] = pd.Series(Max)\n",
    "    df_buyer_strategy2_ex_eval[\"Min\"] = pd.Series(Min)\n",
    "    df_buyer_strategy2_ex_eval[\"SharpRatio\"] = pd.Series(SharpRatio)\n",
    "    df_buyer_strategy2_ex_eval[\"InformationRatio\"] = pd.Series(InformationRatio)\n",
    "    \n",
    "    df_buyer_strategy2_ex_eval.index = cols\n",
    "    df_buyer_strategy2_ex_eval =  df_buyer_strategy2_ex_eval.reset_index()\n",
    "    df_buyer_strategy2_ex_eval = df_buyer_strategy2_ex_eval.rename(columns={\"index\": \"ExecBuffer(%)\"})\n",
    "    df_buyer_strategy2_ex_eval[\"ExecBuffer(%)\"] = df_buyer_strategy2_ex_eval[\"ExecBuffer(%)\"].astype(int)\n",
    "\n",
    "    Exec = df_buyer_strategy2_ex_eval[df_buyer_strategy2_ex_eval[\"InformationRatio\"] == df_buyer_strategy2_ex_eval[\"InformationRatio\"].max()]\n",
    "    Exec = -Exec[\"ExecBuffer(%)\"][Exec[\"StandardDeviation\"] == Exec[\"StandardDeviation\"].min()].iloc[0]\n",
    "    BestExec.append(Exec)"
   ]
  },
  {
   "cell_type": "code",
   "execution_count": null,
   "metadata": {},
   "outputs": [],
   "source": [
    "# BestExec = pd.Series(BestExec)\n",
    "BestExec = pd.Series(BestExec).astype(int)\n",
    "plt.xlabel('Number of backtest')\n",
    "plt.ylabel('Execution adjustment (%)')\n",
    "BestExec.plot();"
   ]
  },
  {
   "cell_type": "code",
   "execution_count": null,
   "metadata": {},
   "outputs": [],
   "source": [
    "Best_i = BestExec.iloc[-1]\n",
    "Best_i"
   ]
  },
  {
   "cell_type": "markdown",
   "metadata": {},
   "source": [
    "- Plot all the possible portfolios"
   ]
  },
  {
   "cell_type": "code",
   "execution_count": null,
   "metadata": {},
   "outputs": [],
   "source": [
    "Spot_list = list(df_buyer_strategy2_ex[\"Spot\"])\n",
    "\n",
    "portfolio_weights= [0, 0.1, 0.2, 0.3, 0.4, 0.5, 0.6, 0.7, 0.8, 0.9, 1.0]\n",
    "execution_buffers = list(range(0, 51, 1))\n",
    "\n",
    "cols = []\n",
    "\n",
    "PortfolioReturn = []\n",
    "StandardDeviation = []\n",
    "Max = []\n",
    "Min = []\n",
    "SharpRatio = []\n",
    "InformationRatio = []\n",
    "\n",
    "for i in execution_buffers:\n",
    "    Exec_list = list(df_buyer_strategy2_ex[\"Exec_\" + str(i) + \"%\"])\n",
    "    for weight in portfolio_weights:\n",
    "        Return = []\n",
    "        for spot, intra in zip(Spot_list, Exec_list):\n",
    "            # DA market 100%\n",
    "            if weight == 1.0:\n",
    "                Return.append(-spot*weight)\n",
    "            # Trade both on DA and Intra day\n",
    "            else:\n",
    "                Return.append(-spot*weight + -intra*(1-weight))\n",
    "        # Set colmun name for execution buffer\n",
    "        if weight == 1.0:\n",
    "            cols.append(\"DA100%\")\n",
    "        else:\n",
    "            cols.append(\"DA\" + str(weight*100) + \"%_Exec+\" + str(i) + \"%\")\n",
    "\n",
    "        # Results\n",
    "        Return = pd.Series(Return)\n",
    "        PortfolioReturn.append(Return.mean().round(2))\n",
    "        StandardDeviation.append(Return.std().round(2))\n",
    "        Max.append(Return.max().round(2))\n",
    "        Min.append(Return.min().round(2))\n",
    "        SharpRatio.append((Return.mean()/Return.std()).round(2))\n",
    "        InformationRatio.append(((Return - Benchmark_buyer).mean()/(Return - Benchmark_buyer).std()).round(3))\n",
    "\n",
    "#df_portfolio_benchの列を設定し、行列を入替えて調整する\n",
    "df_buyer_strategy2_ex_eval = pd.DataFrame()\n",
    "df_buyer_strategy2_ex_eval = df_buyer_strategy2_ex_eval.T\n",
    "\n",
    "#各算出結果をdf_portfolio_benchの列へ追加する\n",
    "df_buyer_strategy2_ex_eval[\"PortfolioReturn\"] = pd.Series(PortfolioReturn)\n",
    "df_buyer_strategy2_ex_eval[\"StandardDeviation\"] = pd.Series(StandardDeviation)\n",
    "df_buyer_strategy2_ex_eval[\"Max\"] = pd.Series(Max)\n",
    "df_buyer_strategy2_ex_eval[\"Min\"] = pd.Series(Min)\n",
    "df_buyer_strategy2_ex_eval[\"SharpRatio\"] = pd.Series(SharpRatio)\n",
    "df_buyer_strategy2_ex_eval[\"InformationRatio\"] = pd.Series(InformationRatio)\n",
    "\n",
    "df_buyer_strategy2_ex_eval.index = cols"
   ]
  },
  {
   "cell_type": "code",
   "execution_count": null,
   "metadata": {},
   "outputs": [],
   "source": [
    "df_buyer_strategy2_ex_eval"
   ]
  },
  {
   "cell_type": "code",
   "execution_count": null,
   "metadata": {},
   "outputs": [],
   "source": [
    "# Pick up the portfolios on the global minimum variance portfolio\n",
    "std_min = df_buyer_strategy2_ex_eval[df_buyer_strategy2_ex_eval[\"StandardDeviation\"] == df_buyer_strategy2_ex_eval[\"StandardDeviation\"].min()]\n",
    "GMVP = std_min[std_min[\"PortfolioReturn\"] == std_min[\"PortfolioReturn\"].min()]\n",
    "GMVP"
   ]
  },
  {
   "cell_type": "code",
   "execution_count": null,
   "metadata": {},
   "outputs": [],
   "source": [
    "Best = df_buyer_strategy2_ex_eval[df_buyer_strategy2_ex_eval[\"InformationRatio\"] == df_buyer_strategy2_ex_eval[\"InformationRatio\"].max()]\n",
    "Best = Best[Best[\"StandardDeviation\"] == Best[\"StandardDeviation\"].min()]\n",
    "Best"
   ]
  },
  {
   "cell_type": "code",
   "execution_count": null,
   "metadata": {
    "scrolled": true
   },
   "outputs": [],
   "source": [
    "plt.figure(figsize=(10,6))\n",
    "\n",
    "# Scatter plot all the possible portfolios\n",
    "plt.scatter(df_buyer_strategy2_ex_eval[\"StandardDeviation\"], df_buyer_strategy2_ex_eval[\"PortfolioReturn\"], c=df_buyer_strategy2_ex_eval[\"InformationRatio\"], marker='.', alpha=0.8, cmap='coolwarm')\n",
    "\n",
    "\n",
    "# Global minimum variance portfolio\n",
    "plt.plot(GMVP[\"StandardDeviation\"], GMVP[\"PortfolioReturn\"], 'r*', markersize=15.0, label=\"GMVP\")\n",
    "print(\"[Global Minimum Variance Portfolio: \" + str(GMVP.index[0]) + \"]\")\n",
    "\n",
    "print(\"Expected return: {}\".format(GMVP[\"PortfolioReturn\"][0]))\n",
    "print(\"Standard deviation: {}\".format(GMVP[\"StandardDeviation\"][0]))\n",
    "print(\"Information Ratio: {}\".format(GMVP[\"InformationRatio\"][0]))\n",
    "\n",
    "# The Best Execusion\n",
    "DA_weight = 0\n",
    "i = -Best_i\n",
    "Best_Portfolio = (DA_weight * -df_buyer_strategy2_ex[\"Spot\"]) + ((1 - DA_weight) * -df_buyer_strategy2_ex[\"Exec_\" + str(i) + \"%\"])\n",
    "plt.plot(Best_Portfolio.std(), Best_Portfolio.mean(), \"b*\", markersize=15.0, label=\"Best Execution\")\n",
    "print(\"[Best Execution Portfolio: \" + str(DA_weight) + \"%_Exec+\" + str(i) + \"%]\")\n",
    "print(\"Expected return: {}\".format(Best_Portfolio.mean().round(2)))\n",
    "print(\"Standard deviation: {}\".format(Best_Portfolio.std().round(2)))\n",
    "print(\"Sharp ratio: {}\".format(round(Best_Portfolio.mean() / Best_Portfolio.std(), 2)))\n",
    "print(\"Information ratio: {}\".format(round((Best_Portfolio - Benchmark_buyer).mean() / (Best_Portfolio - Benchmark_buyer).std(), 3)))\n",
    "\n",
    "plt.title('Strategic portfolios with excution adjustment for buyers')\n",
    "plt.xlabel('Expected Volatility')\n",
    "plt.ylabel('Expected Return')\n",
    "plt.colorbar(label='Information Ratio')\n",
    "plt.legend(loc=\"upper left\");"
   ]
  },
  {
   "cell_type": "code",
   "execution_count": null,
   "metadata": {},
   "outputs": [],
   "source": [
    "Best_Portfolio"
   ]
  },
  {
   "cell_type": "markdown",
   "metadata": {},
   "source": [
    "# For Trader (Virtual bidding strategy)"
   ]
  },
  {
   "attachments": {},
   "cell_type": "markdown",
   "metadata": {},
   "source": [
    "[Purpose]\n",
    "- To confirm the market efficiency of the JEPX \n",
    "- To examine virtual bidding as a potential solution for improving liquidity of the DA and the intraday market on the JEPX"
   ]
  },
  {
   "attachments": {},
   "cell_type": "markdown",
   "metadata": {},
   "source": [
    "[Basic logic for virtual bidding] <p>\n",
    "1) Make long or short positions on the DA market <p>\n",
    "2) Settle all the positions by counter trading on the intraday market on the day <p>\n",
    "    - Spot > Close: Entry with sell-in on the DA  and buy-out on the intraday <p>\n",
    "    - Spot < Close: Entry with buy-in on the DA and sell-out on the intraday"
   ]
  },
  {
   "cell_type": "markdown",
   "metadata": {},
   "source": [
    "## Trading without execution strategy"
   ]
  },
  {
   "cell_type": "code",
   "execution_count": null,
   "metadata": {
    "scrolled": true
   },
   "outputs": [],
   "source": [
    "df_trader = df_prediction_beforeDA.copy()\n",
    "df_trader[\"Date\"] = pd.to_datetime(df_trader[\"Date\"])\n",
    "df_trader[\"DateTime\"] = pd.to_datetime(df_trader[\"DateTime\"])\n",
    "df_trader.head()"
   ]
  },
  {
   "cell_type": "markdown",
   "metadata": {},
   "source": [
    "### Evaluation"
   ]
  },
  {
   "cell_type": "code",
   "execution_count": null,
   "metadata": {},
   "outputs": [],
   "source": [
    "# For execution\n",
    "LaggedSpot_list = list(df_trader[\"Spot_1daylag\"])\n",
    "Pred_list = list(df_trader[\"Close_pred\"])\n",
    "Close_list = list(df_trader[\"Close\"])\n",
    "High_list = list(df_trader[\"High\"])\n",
    "Low_list = list(df_trader[\"Low\"])\n",
    "\n",
    "# For evaluation\n",
    "Spot_list = list(df_trader[\"Spot\"])\n",
    "\n",
    "# Lists for results\n",
    "cols = []\n",
    "Return = [] \n",
    "PortfolioReturn = []\n",
    "StandardDeviation = []\n",
    "Max = []\n",
    "Min = []\n",
    "SharpRatio = []\n",
    "\n",
    "# Main logic\n",
    "for spot, lag_spot, pred, high, low, close in zip(Spot_list,LaggedSpot_list, Pred_list, High_list, Low_list, Close_list):\n",
    "    #　Buy-in, Sell-out　※ Decision based on lag_spot and pred\n",
    "    if lag_spot < pred:\n",
    "        #Return ※ Evaluation based on spot and pred/close\n",
    "        # Succeed\n",
    "        if pred < high:\n",
    "            Return.append(round(pred - spot, 4))\n",
    "        # Fail\n",
    "        else:\n",
    "            Return.append(round(close - spot, 4))\n",
    "            \n",
    "    # Sell-in, Buy-out ※ Decision based on lag_spot and pred\n",
    "    elif lag_spot > pred:\n",
    "        #Return ※ Evaluation based on spot and pred/close\n",
    "        # Succeed\n",
    "        if pred > low:\n",
    "            Return.append(round(spot - pred, 4))\n",
    "        # Fail\n",
    "        else:\n",
    "            Return.append(round(spot - close, 4))\n",
    "    # lag_spot is the same as pred --> No trade\n",
    "    else:\n",
    "        Return.append(0)\n",
    "\n",
    "df_trader_eval = pd.DataFrame()\n",
    "df_trader_eval[\"DateTime\"] = df_trader[\"DateTime\"]\n",
    "df_trader_eval[\"HH\"] = df_trader[\"HH\"]\n",
    "df_trader_eval[\"Date\"] = df_trader[\"Date\"]\n",
    "df_trader_eval[\"Return\"] = pd.Series(Return)"
   ]
  },
  {
   "cell_type": "code",
   "execution_count": null,
   "metadata": {},
   "outputs": [],
   "source": [
    "df_trader_eval.head()"
   ]
  },
  {
   "cell_type": "code",
   "execution_count": null,
   "metadata": {},
   "outputs": [],
   "source": [
    "# Make a pivot table for results\n",
    "df_trader_portfolio_table = pd.DataFrame(df_trader_eval.pivot(index='Date', columns='HH', values='Return'))\n",
    "df_trader_portfolio_table[\"Expected_Return\"] = df_trader_portfolio_table.loc[: , 0:48].mean(axis=1).round(2)\n",
    "df_trader_portfolio_table[\"SharpRatio\"] = (df_trader_portfolio_table.loc[: , 1:48].mean(axis=1)/df_trader_portfolio_table.loc[: , 1:48].std(axis=1)).round(2)\n",
    "\n",
    "# Make a new table for performance graph\n",
    "risk = pd.DataFrame()\n",
    "risk[\"Expected_Return\"] = df_trader_portfolio_table.loc[: , 1:48].mean(axis=1).round(2)\n",
    "risk[\"equity\"] = risk['Expected_Return'].cumsum()\n",
    "risk[\"cummax\"] = risk[\"equity\"].cummax()\n",
    "risk[\"drawdown\"] = -(risk[\"cummax\"] -risk[\"equity\"])\n",
    "\n",
    "risk.head()"
   ]
  },
  {
   "cell_type": "code",
   "execution_count": null,
   "metadata": {
    "scrolled": false
   },
   "outputs": [],
   "source": [
    "# Set max_drawdown\n",
    "max_drawdown = risk[\"drawdown\"].min()\n",
    "\n",
    "# Set timestamp of max_drawdown\n",
    "t_max = pd.to_datetime(risk[\"drawdown\"].idxmin())\n",
    "\n",
    "# Plot the performance\n",
    "fig, ax = plt.subplots(1, figsize=(15,8))\n",
    "# plt.title('Cumulative return through trading based on the difference of price on DA and Intraday')\n",
    "\n",
    "risk[\"equity\"].plot(figsize=(10, 6), label=\"Cum_Return\")\n",
    "\n",
    "plt.text(t_max, 0, 'Max_D', rotation=0, color=\"r\")\n",
    "\n",
    "print(\"Expected_Return: \" + str(risk[\"Expected_Return\"].mean().round(2)))\n",
    "print(\"StandardDeviation: \" + str(risk[\"Expected_Return\"].std().round(2)))\n",
    "print(\"SharpRatio: \" + str(round(risk[\"Expected_Return\"].mean() /  risk[\"Expected_Return\"].std(),2)))\n",
    "print(\"Cum_Return: \" + str(risk[\"equity\"][-1:][0].round(2)))\n",
    "print(\"Drawdown: \" + str(risk[\"drawdown\"].min().round(2)))\n",
    "\n",
    "ax.set(xlabel=\"Date\", ylabel=\"Cumulative return(Yen/kWh)\")\n",
    "plt.axvline(t_max, c=\"r\", alpha=0.5)\n",
    "plt.grid()\n",
    "plt.legend();"
   ]
  },
  {
   "cell_type": "code",
   "execution_count": null,
   "metadata": {},
   "outputs": [],
   "source": [
    "# Distribution of expected return\n",
    "plt.figure(figsize=(5, 3))\n",
    "\n",
    "plt.hist(risk['Expected_Return'], bins=100);"
   ]
  },
  {
   "cell_type": "code",
   "execution_count": null,
   "metadata": {
    "scrolled": true
   },
   "outputs": [],
   "source": [
    "# Calculate VaR\n",
    "import scipy.stats as scs\n",
    "\n",
    "equity = 10000000\n",
    "\n",
    "percs = np.array([1., 5.0, 10.0])\n",
    "risk[\"returns\"] = np.log(risk[\"equity\"] / risk[\"equity\"].shift(1))\n",
    "VaR = scs.scoreatpercentile(equity * risk[\"returns\"], percs)\n",
    "def print_var():\n",
    "    print('%16s %16s' % ('Confidence Level', 'Value-at-Risk'))\n",
    "    print(43 * '-')\n",
    "    for pair in zip(percs, VaR):\n",
    "        print('%16.0f %16.0f' % (100 - pair[0], -pair[1]))\n",
    "        \n",
    "print_var()"
   ]
  },
  {
   "cell_type": "code",
   "execution_count": null,
   "metadata": {
    "scrolled": true
   },
   "outputs": [],
   "source": [
    "# Plot each 48 item separately\n",
    "fig, ax = plt.subplots(1, figsize=(15,8))\n",
    "# plt.title('Cumulative return through trading based on the difference of price on DA and Intraday')\n",
    "\n",
    "# Lists for results\n",
    "Equity = []\n",
    "ExpectedReturn = []\n",
    "Max = []\n",
    "Min = []\n",
    "StandardDeviation = []\n",
    "SharpRatio= []\n",
    "CumMax = []\n",
    "MaxDrawdown = []\n",
    "\n",
    "for HH in list(range(1, 49, 1)):\n",
    "    #　makng a pivot table\n",
    "    df_trader_portfolio_table = pd.DataFrame(df_trader_eval.pivot(index='Date', columns='HH', values='Return'))\n",
    "    \n",
    "    # For plot and for calculating drawdown\n",
    "    equity = df_trader_portfolio_table[HH].cumsum().round(2)\n",
    "    # Plot the performance of each HH spot\n",
    "    equity.plot(label=\"HH\" + str(HH))\n",
    "    \n",
    "    # Keep in a list for calculating drawdown\n",
    "    Equity.append(equity)\n",
    "    cummax = equity.cummax()\n",
    "    drawdown = -(cummax - equity)\n",
    "\n",
    "    # Calculation for each evaluation on each HH slot\n",
    "    HH_Return = df_trader_portfolio_table[HH].mean().round(2)\n",
    "    HH_Std = df_trader_portfolio_table[HH].std().round(2)\n",
    "    ExpectedReturn.append(HH_Return)\n",
    "    StandardDeviation.append(HH_Std)\n",
    "    Max.append(df_trader_portfolio_table[HH].max().round(2))\n",
    "    Min.append(df_trader_portfolio_table[HH].min().round(2))\n",
    "    SharpRatio.append((HH_Return / HH_Std).round(2))\n",
    "    CumMax.append(cummax.max().round(2))\n",
    "    MaxDrawdown.append(drawdown.min().round(2))\n",
    "\n",
    "ax.set(xlabel=\"Date\", ylabel=\"Cumulative return(Yen/kWh)\")\n",
    "plt.grid()\n",
    "plt.legend(loc=\"upper left\", ncol=6);"
   ]
  },
  {
   "cell_type": "code",
   "execution_count": null,
   "metadata": {},
   "outputs": [],
   "source": [
    "# Make a table for evaluation metrics for all items\n",
    "df_trader_HH_Eval = pd.DataFrame()\n",
    "df_trader_HH_Eval[\"HH\"] =  pd.Series(list(range(1,49,1)))\n",
    "df_trader_HH_Eval[\"ExpectedReturn\"]  = pd.Series(ExpectedReturn)\n",
    "df_trader_HH_Eval[\"Max\"]  = pd.Series(Max)\n",
    "df_trader_HH_Eval[\"Min\"]  = pd.Series(Min)\n",
    "df_trader_HH_Eval[\"StandardDeviation\"]  = pd.Series(StandardDeviation)\n",
    "df_trader_HH_Eval[\"SharpRatio\"]  = pd.Series(SharpRatio)\n",
    "df_trader_HH_Eval[\"CumMax\"] = pd.Series(CumMax)\n",
    "df_trader_HH_Eval[\"MaxDrawdown\"]  = pd.Series(MaxDrawdown)"
   ]
  },
  {
   "cell_type": "code",
   "execution_count": null,
   "metadata": {},
   "outputs": [],
   "source": [
    "df_trader_HH_Eval[df_trader_HH_Eval[\"CumMax\"] == df_trader_HH_Eval[\"CumMax\"].max()]"
   ]
  },
  {
   "cell_type": "markdown",
   "metadata": {},
   "source": [
    "HH46 --> 22:30"
   ]
  },
  {
   "cell_type": "code",
   "execution_count": null,
   "metadata": {
    "scrolled": true
   },
   "outputs": [],
   "source": [
    "df_trader_HH_Eval[df_trader_HH_Eval[\"SharpRatio\"] == df_trader_HH_Eval[\"SharpRatio\"].max()]"
   ]
  },
  {
   "cell_type": "markdown",
   "metadata": {},
   "source": [
    "HH3 --> 1:00"
   ]
  },
  {
   "cell_type": "code",
   "execution_count": null,
   "metadata": {},
   "outputs": [],
   "source": [
    "df_trader_HH_Eval[df_trader_HH_Eval[\"CumMax\"] == df_trader_HH_Eval[\"CumMax\"].min()]"
   ]
  },
  {
   "cell_type": "markdown",
   "metadata": {},
   "source": [
    "HH18 --> 8:30"
   ]
  },
  {
   "cell_type": "code",
   "execution_count": null,
   "metadata": {},
   "outputs": [],
   "source": [
    "df_trader_HH_Eval[df_trader_HH_Eval[\"MaxDrawdown\"] == df_trader_HH_Eval[\"MaxDrawdown\"].max()]"
   ]
  },
  {
   "cell_type": "markdown",
   "metadata": {},
   "source": [
    "HH6 --> 2:30"
   ]
  },
  {
   "cell_type": "code",
   "execution_count": null,
   "metadata": {},
   "outputs": [],
   "source": [
    "# Distribution of expected return\n",
    "fig, ax = plt.subplots(1, figsize=(5,3))\n",
    "plt.hist(df_trader_portfolio_table[6], bins=100)\n",
    "plt.ylim(0, 500)\n",
    "ax.set(xlabel=\"ExpectedReturn\", ylabel=\"Frequency\")\n",
    "plt.grid();"
   ]
  },
  {
   "cell_type": "code",
   "execution_count": null,
   "metadata": {
    "scrolled": false
   },
   "outputs": [],
   "source": [
    "df_trader_HH_Eval[df_trader_HH_Eval[\"MaxDrawdown\"] == df_trader_HH_Eval[\"MaxDrawdown\"].min()]"
   ]
  },
  {
   "cell_type": "markdown",
   "metadata": {},
   "source": [
    "HH34 --> 16:30"
   ]
  },
  {
   "cell_type": "code",
   "execution_count": null,
   "metadata": {},
   "outputs": [],
   "source": [
    "# Distribution of expected return\n",
    "fig, ax = plt.subplots(1, figsize=(5,3))\n",
    "df_trader_portfolio_table[34].hist(bins=100)\n",
    "plt.ylim(0, 500)\n",
    "ax.set(xlabel=\"ExpectedReturn\", ylabel=\"Frequency\");"
   ]
  },
  {
   "cell_type": "markdown",
   "metadata": {},
   "source": [
    "## Trading with execution strategy"
   ]
  },
  {
   "cell_type": "markdown",
   "metadata": {},
   "source": [
    "### Required dataset"
   ]
  },
  {
   "cell_type": "code",
   "execution_count": null,
   "metadata": {
    "scrolled": true
   },
   "outputs": [],
   "source": [
    "Spot_list = list(df_trader[\"Spot\"])\n",
    "LaggedSpot_list = list(df_trader[\"Spot_1daylag\"])\n",
    "Close_list = list(df_trader[\"Close\"])\n",
    "High_list = list(df_trader[\"High\"])\n",
    "Low_list = list(df_trader[\"Low\"])\n",
    "\n",
    "cols = []\n",
    "\n",
    "df_trader_ex = pd.DataFrame()\n",
    "df_trader_ex[\"DateTime\"] = df_trader[\"DateTime\"]\n",
    "df_trader_ex[\"HH\"] = df_trader[\"HH\"]\n",
    "df_trader_ex[\"Date\"] = df_trader[\"Date\"]\n",
    "\n",
    "# Just for check\n",
    "df_trader_ex[\"Spot\"] = df_trader[\"Spot\"]\n",
    "df_trader_ex[\"Close_pred\"] = df_trader[\"Close_pred\"]\n",
    "df_trader_ex[\"Close\"] = df_trader[\"Close\"]\n",
    "\n",
    "for i in list(range(-30, 31, 1)):\n",
    "    Return = [] \n",
    "    Judge = []      \n",
    "    Pred_list = list(round(df_trader_ex[\"Close_pred\"]  * (1+ i/100),2))\n",
    "    for spot, lag_spot, pred_ex, high, low, close in zip(Spot_list, LaggedSpot_list, Pred_list, High_list, Low_list, Close_list):\n",
    "        #　Buy-in, Sell-out　※Decision based on lag_spot and pred\n",
    "        if lag_spot < pred_ex:\n",
    "            #※ Evaluation based on spot and pred/close\n",
    "            # Success of close the position\n",
    "            if pred_ex <= high:\n",
    "                Return.append(pred_ex - spot)\n",
    "                Judge.append(\"True\")                \n",
    "            # Failure of close the position\n",
    "            else:\n",
    "                Return.append(close - spot)\n",
    "                Judge.append(\"False\")                \n",
    "\n",
    "        # Sell-in, Buy-out ※ Decision based on lag_spot and pred\n",
    "        elif lag_spot > pred_ex:\n",
    "            #※ Evaluation based on spot and pred/close\n",
    "            # Success of close the position\n",
    "            if pred_ex >= low:\n",
    "                Return.append(spot - pred_ex)\n",
    "                Judge.append(\"True\")                \n",
    "            # Failure of close the position\n",
    "            else:\n",
    "                Return.append(spot - close)\n",
    "                Judge.append(\"False\")                \n",
    "        #No trade\n",
    "        else:\n",
    "            Return.append(0)\n",
    "            Judge.append(\"None\")                \n",
    "\n",
    "    df_trader_ex[\"Return_exec\" + str(i) + \"%\"] = pd.Series(Return)\n",
    "    df_trader_ex[\"Judge_exec\" + str(i) + \"%\"] = pd.Series(Judge)"
   ]
  },
  {
   "cell_type": "code",
   "execution_count": null,
   "metadata": {
    "scrolled": true
   },
   "outputs": [],
   "source": [
    "df_trader_ex"
   ]
  },
  {
   "cell_type": "markdown",
   "metadata": {},
   "source": [
    "### Evaluation"
   ]
  },
  {
   "cell_type": "code",
   "execution_count": null,
   "metadata": {
    "scrolled": true
   },
   "outputs": [],
   "source": [
    "n_splits=100\n",
    "\n",
    "train_size = df_trader_ex.index[-1]\n",
    "train_index_list = list(np.linspace(train_size/n_splits, train_size, n_splits, endpoint = True, dtype='int'))\n",
    "train_index_list\n",
    "\n",
    "# Confirming the split logic\n",
    "for train_index in train_index_list:\n",
    "    # Divide the train/valid set  into 10 folds and pick up it.\n",
    "    X_train = df_trader_ex.iloc[:train_index]\n",
    "    print(\"TRAIN:\", train_index)"
   ]
  },
  {
   "cell_type": "code",
   "execution_count": null,
   "metadata": {
    "scrolled": false
   },
   "outputs": [],
   "source": [
    "BestExec = []\n",
    "\n",
    "for train_index in train_index_list:\n",
    "    X_train = df_trader_ex[:train_index]\n",
    "    \n",
    "    cols = []\n",
    "\n",
    "    # List for the results for evaluation\n",
    "    PortfolioReturn = []\n",
    "    StandardDeviation = []\n",
    "    Max = []\n",
    "    Min = []\n",
    "    SharpRatio = []\n",
    "\n",
    "    for i in list(range(-30, 31, 1)):\n",
    "        Return_i = list(X_train[\"Return_exec\" + str(i) + \"%\"]) \n",
    "        \n",
    "        Return_i = pd.Series(Return_i)\n",
    "        PortfolioReturn.append(Return_i.mean().round(2))\n",
    "        StandardDeviation.append(Return_i.std().round(2))\n",
    "        Max.append(Return_i.max().round(2))\n",
    "        Min.append(Return_i.min().round(2))\n",
    "        SharpRatio.append((Return_i.mean()/Return_i.std()).round(2))\n",
    "        # Make columns names\n",
    "        cols.append(i)\n",
    "\n",
    "    # Make dataframe for evaluation and  switch columns and row.\n",
    "    df_trader_ex_eval = pd.DataFrame()\n",
    "    # df_trader_ex_eval = df_trader_ex_eval.T\n",
    "\n",
    "    # Add columns for evaluation metrics \n",
    "    df_trader_ex_eval[\"PortfolioReturn\"] = pd.Series(PortfolioReturn)\n",
    "    df_trader_ex_eval[\"StandardDeviation\"] = pd.Series(StandardDeviation)\n",
    "    df_trader_ex_eval[\"Max\"] = pd.Series(Max)\n",
    "    df_trader_ex_eval[\"Min\"] = pd.Series(Min)\n",
    "    df_trader_ex_eval[\"SharpRatio\"] = pd.Series(SharpRatio)\n",
    "    df_trader_ex_eval.index = cols\n",
    "    df_trader_ex_eval =  df_trader_ex_eval.reset_index()\n",
    "    df_trader_ex_eval = df_trader_ex_eval.rename(columns={\"index\": \"ExecBuffer(%)\"})\n",
    "    df_trader_ex_eval[\"ExecBuffer(%)\"] = df_trader_ex_eval[\"ExecBuffer(%)\"].astype(int)\n",
    "\n",
    "    BestExec.append(df_trader_ex_eval[\"ExecBuffer(%)\"][df_trader_ex_eval[\"SharpRatio\"] == df_trader_ex_eval[\"SharpRatio\"].max()].max())"
   ]
  },
  {
   "cell_type": "code",
   "execution_count": null,
   "metadata": {},
   "outputs": [],
   "source": [
    "# The best execution of 100 different periods\n",
    "BestExec = pd.Series(BestExec)\n",
    "plt.xlabel('Number of backtest')\n",
    "plt.ylabel('Execution adjustment (%)')\n",
    "BestExec.plot();"
   ]
  },
  {
   "cell_type": "code",
   "execution_count": null,
   "metadata": {
    "scrolled": false
   },
   "outputs": [],
   "source": [
    "BestExec.tail()"
   ]
  },
  {
   "cell_type": "code",
   "execution_count": null,
   "metadata": {},
   "outputs": [],
   "source": [
    "BestExec[-1:]"
   ]
  },
  {
   "cell_type": "code",
   "execution_count": null,
   "metadata": {
    "scrolled": true
   },
   "outputs": [],
   "source": [
    "i = int(BestExec[-1:])\n",
    "\n",
    "# Pivot table for evaluation metrics\n",
    "df_trader_ex_table = pd.DataFrame(df_trader_ex.pivot(index='Date', columns='HH', values='Return_exec' + str(i)  +\"%\"))\n",
    "df_trader_ex_table[\"Expected_Return\"] = df_trader_ex_table.loc[: , 0:48].mean(axis=1).round(2)\n",
    "df_trader_ex_table[\"StandardDeviation\"] = df_trader_ex_table.loc[: , 1:48].std(axis=1).round(2)\n",
    "df_trader_ex_table[\"Max\"] = df_trader_ex_table.loc[: , 1:48].max(axis=1).round(2)\n",
    "df_trader_ex_table[\"Min\"] = df_trader_ex_table.loc[: , 1:48].min(axis=1).round(2)\n",
    "df_trader_ex_table[\"SharpRatio\"] = (df_trader_ex_table.loc[: , 1:48].mean(axis=1)/df_trader_ex_table.loc[: , 1:48].std(axis=1)).round(2)\n",
    "\n",
    "# Make a new table for performance graph\n",
    "risk_ex = pd.DataFrame()\n",
    "risk_ex[\"Expected_Return\"] = df_trader_ex_table.loc[: , 1:48].mean(axis=1).round(2)\n",
    "risk_ex[\"equity\"] = risk_ex['Expected_Return'].cumsum()\n",
    "risk_ex[\"cummax\"] = risk_ex[\"equity\"].cummax()\n",
    "risk_ex[\"drawdown\"] = -(risk_ex[\"cummax\"] - risk_ex[\"equity\"])\n",
    "\n",
    "# Pick up max_drawdown\n",
    "max_drawdown = risk_ex[\"drawdown\"].min()\n",
    "\n",
    "# Set timestamp of max_drawdown\n",
    "t_max = pd.to_datetime(risk_ex[\"drawdown\"].idxmin())\n",
    "\n",
    "fig, ax = plt.subplots(1, figsize=(15,8))\n",
    "# plt.title('Cumulative return through trading based on the difference of price on DA and Intraday')\n",
    "\n",
    "risk_ex[\"equity\"].plot(figsize=(10, 6))\n",
    "\n",
    "plt.text(t_max, 0, 'Max_drawdown', rotation=0, color=\"r\")\n",
    "\n",
    "print(\"Expected_Return: \" + str(risk_ex[\"Expected_Return\"].mean().round(2)))\n",
    "print(\"StandardDeviation: \" + str(risk_ex[\"Expected_Return\"].std().round(2)))\n",
    "print(\"SharpRatio: \" + str(round(risk_ex[\"Expected_Return\"].mean() /  risk_ex[\"Expected_Return\"].std(), 3)))\n",
    "print(\"Cumulative_Return: \" + str((risk_ex[\"cummax\"].max().round(2))))\n",
    "print(\"Drawdown: \" + str(risk_ex[\"drawdown\"].min().round(2)))\n",
    "\n",
    "ax.set(xlabel=\"Date\", ylabel=\"Cumulative return(Yen/kWh)\")\n",
    "plt.axvline(t_max, c=\"r\", alpha=0.5)\n",
    "plt.grid()\n",
    "plt.legend();"
   ]
  },
  {
   "cell_type": "code",
   "execution_count": null,
   "metadata": {
    "scrolled": true
   },
   "outputs": [],
   "source": [
    "# Calculate VaR\n",
    "\n",
    "equity = 10000000\n",
    "\n",
    "percs = np.array([1., 5.0, 10.0])\n",
    "risk_ex[\"returns\"] = np.log(risk_ex[\"equity\"] / risk_ex[\"equity\"].shift(1))\n",
    "VaR = scs.scoreatpercentile(equity * risk_ex[\"returns\"], percs)\n",
    "def print_var():\n",
    "    print('%16s %16s' % ('Confidence Level', 'Value-at-Risk'))\n",
    "    print(43 * '-')\n",
    "    for pair in zip(percs, VaR):\n",
    "        print('%16.0f %16.0f' % (100 - pair[0], -pair[1]))\n",
    "        \n",
    "print_var()"
   ]
  },
  {
   "cell_type": "code",
   "execution_count": null,
   "metadata": {
    "scrolled": true
   },
   "outputs": [],
   "source": [
    "# Plot each 48 item separately\n",
    "fig, ax = plt.subplots(1, figsize=(15,8))\n",
    "plt.title('Cumulative return of virtual bidding strategy for each item after execution adjustment')\n",
    "\n",
    "# Lists for results\n",
    "Equity = []\n",
    "ExpectedReturn = []\n",
    "Max = []\n",
    "Min = []\n",
    "StandardDeviation = []\n",
    "SharpRatio= []\n",
    "CumMax = []\n",
    "MaxDrawdown = []\n",
    "\n",
    "# Execution baffer　(%)\n",
    "i = -23\n",
    "\n",
    "for HH in list(range(1, 49, 1)):\n",
    "    # Plot table based on Return\n",
    "    df_trader_portfolio_ex_table = pd.DataFrame(df_trader_ex.pivot(index='Date', columns='HH', values='Return_exec' + str(i)  +\"%\"))\n",
    "    \n",
    "    # For plot and for calculating drawdown\n",
    "    equity = df_trader_portfolio_ex_table[HH].cumsum().round(2)\n",
    "    # Plot the performance of each HH spot\n",
    "    equity.plot(label=\"HH\" + str(HH))\n",
    "    \n",
    "    # Keep in a list for calculating drawdown\n",
    "    Equity.append(equity)\n",
    "    cummax = equity.cummax()\n",
    "    drawdown = -(cummax - equity)\n",
    "\n",
    "    # Calculation for each evaluation on each HH slot\n",
    "    HH_Return = df_trader_portfolio_ex_table[HH].mean().round(2)\n",
    "    HH_Std = df_trader_portfolio_ex_table[HH].std().round(2)\n",
    "    ExpectedReturn.append(HH_Return)\n",
    "    StandardDeviation.append(HH_Std)\n",
    "    Max.append(df_trader_portfolio_ex_table[HH].max().round(2))\n",
    "    Min.append(df_trader_portfolio_ex_table[HH].min().round(2))\n",
    "    SharpRatio.append((HH_Return / HH_Std).round(2))\n",
    "    CumMax.append(cummax.max().round(2))\n",
    "    MaxDrawdown.append(drawdown.min().round(2))\n",
    "\n",
    "ax.set(xlabel=\"Date\", ylabel=\"Cumulative return(Yen/kWh)\")\n",
    "plt.grid()\n",
    "plt.legend(loc=\"upper left\", ncol=6);"
   ]
  },
  {
   "cell_type": "code",
   "execution_count": null,
   "metadata": {},
   "outputs": [],
   "source": [
    "df_trader_HH_ex_Eval = pd.DataFrame()\n",
    "df_trader_HH_ex_Eval[\"HH\"] =  pd.Series(list(range(1,49,1)))\n",
    "\n",
    "df_trader_HH_ex_Eval[\"ExpectedReturn\"]  = pd.Series(ExpectedReturn)\n",
    "df_trader_HH_ex_Eval[\"Max\"]  = pd.Series(Max)\n",
    "df_trader_HH_ex_Eval[\"Min\"]  = pd.Series(Min)\n",
    "df_trader_HH_ex_Eval[\"StandardDeviation\"]  = pd.Series(StandardDeviation)\n",
    "df_trader_HH_ex_Eval[\"SharpRatio\"]  = pd.Series(SharpRatio)\n",
    "df_trader_HH_ex_Eval[\"CumMax\"] = pd.Series(CumMax)\n",
    "df_trader_HH_ex_Eval[\"MaxDrawdown\"]  = pd.Series(MaxDrawdown)"
   ]
  },
  {
   "cell_type": "code",
   "execution_count": null,
   "metadata": {},
   "outputs": [],
   "source": [
    "df_trader_HH_ex_Eval[df_trader_HH_ex_Eval[\"CumMax\"] == df_trader_HH_ex_Eval[\"CumMax\"].max()]"
   ]
  },
  {
   "cell_type": "markdown",
   "metadata": {},
   "source": [
    "HH31 --> 15:00"
   ]
  },
  {
   "cell_type": "code",
   "execution_count": null,
   "metadata": {},
   "outputs": [],
   "source": [
    "df_trader_HH_ex_Eval[df_trader_HH_ex_Eval[\"CumMax\"] == df_trader_HH_ex_Eval[\"CumMax\"].min()]"
   ]
  },
  {
   "cell_type": "markdown",
   "metadata": {},
   "source": [
    "HH8 --> 3:30"
   ]
  },
  {
   "cell_type": "code",
   "execution_count": null,
   "metadata": {},
   "outputs": [],
   "source": [
    "df_trader_HH_ex_Eval[df_trader_HH_ex_Eval[\"MaxDrawdown\"] == df_trader_HH_ex_Eval[\"MaxDrawdown\"].max()]"
   ]
  },
  {
   "cell_type": "markdown",
   "metadata": {},
   "source": [
    "HH48 --> 23:30"
   ]
  },
  {
   "cell_type": "code",
   "execution_count": null,
   "metadata": {},
   "outputs": [],
   "source": [
    "fig, ax = plt.subplots(1, figsize=(5,3))\n",
    "df_trader_portfolio_ex_table[48].hist(bins=100)\n",
    "plt.ylim(0, 500)\n",
    "ax.set(xlabel=\"ExpectedReturn\", ylabel=\"Frequency\");"
   ]
  },
  {
   "cell_type": "code",
   "execution_count": null,
   "metadata": {},
   "outputs": [],
   "source": [
    "df_trader_HH_ex_Eval[df_trader_HH_ex_Eval[\"MaxDrawdown\"] == df_trader_HH_ex_Eval[\"MaxDrawdown\"].min()]"
   ]
  },
  {
   "cell_type": "markdown",
   "metadata": {},
   "source": [
    "HH39 --> 19:00"
   ]
  },
  {
   "cell_type": "code",
   "execution_count": null,
   "metadata": {},
   "outputs": [],
   "source": [
    "fig, ax = plt.subplots(1, figsize=(5,3))\n",
    "df_trader_portfolio_ex_table[39].hist(bins=100)\n",
    "plt.ylim(0, 500)\n",
    "ax.set(xlabel=\"ExpectedReturn\", ylabel=\"Frequency\");"
   ]
  }
 ],
 "metadata": {
  "kernelspec": {
   "display_name": "Python 3",
   "language": "python",
   "name": "python3"
  },
  "language_info": {
   "codemirror_mode": {
    "name": "ipython",
    "version": 3
   },
   "file_extension": ".py",
   "mimetype": "text/x-python",
   "name": "python",
   "nbconvert_exporter": "python",
   "pygments_lexer": "ipython3",
   "version": "3.7.4"
  },
  "toc": {
   "base_numbering": 1,
   "nav_menu": {},
   "number_sections": true,
   "sideBar": true,
   "skip_h1_title": false,
   "title_cell": "Table of Contents",
   "title_sidebar": "Contents",
   "toc_cell": false,
   "toc_position": {
    "height": "calc(100% - 180px)",
    "left": "10px",
    "top": "150px",
    "width": "217.983px"
   },
   "toc_section_display": true,
   "toc_window_display": true
  }
 },
 "nbformat": 4,
 "nbformat_minor": 2
}
